{
 "cells": [
  {
   "cell_type": "markdown",
   "metadata": {
    "papermill": {
     "duration": 0.036724,
     "end_time": "2021-10-30T16:10:33.786745",
     "exception": false,
     "start_time": "2021-10-30T16:10:33.750021",
     "status": "completed"
    },
    "tags": []
   },
   "source": [
    "# Introduction\n",
    "\n",
    "\n",
    "     The dataset \"Car Features and MSRP\" describes almost 12 000 car models from more than 20 different brands.The aim of this project is   to  compare between the highest and the lowest manufacturer's suggested retail price (MSRP) cars and analyze their differences based on their features:\n",
    "\n",
    "\n",
    "              Make   = Cars brands\n",
    "              Model  = Cars Models\n",
    "              Year   = Year of cars production \n",
    "              Engine HP  = Engine Horsepower\n",
    "              highway MPG  = how far the car is able to travel for every gallon of fuel it uses in the highway.\n",
    "              city mpg  = how far the car is able to travel for every gallon of fuel it uses around the city. \n",
    "              MSRP = manufacturer's suggested retail price\n",
    "              Engine Fuel Type \n",
    "              Engine Cylinders\n",
    "              Transmission Type\n",
    "              Driven Wheels\n",
    "              Number of Doors\n",
    "              Market Category\n",
    "              Vehicle Size         \n",
    "              Vehicle Style               \n",
    "              Popularity           \n",
    "         \n",
    "         \n",
    "        * MPG stands for miles per gallon\n"
   ]
  },
  {
   "cell_type": "code",
   "execution_count": 1,
   "metadata": {
    "_cell_guid": "b1076dfc-b9ad-4769-8c92-a6c4dae69d19",
    "_kg_hide-input": true,
    "_uuid": "8f2839f25d086af736a60e9eeb907d3b93b6e0e5",
    "execution": {
     "iopub.execute_input": "2021-10-30T16:10:33.859718Z",
     "iopub.status.busy": "2021-10-30T16:10:33.858710Z",
     "iopub.status.idle": "2021-10-30T16:10:35.929046Z",
     "shell.execute_reply": "2021-10-30T16:10:35.928047Z",
     "shell.execute_reply.started": "2021-10-30T16:05:30.996754Z"
    },
    "papermill": {
     "duration": 2.10841,
     "end_time": "2021-10-30T16:10:35.929262",
     "exception": false,
     "start_time": "2021-10-30T16:10:33.820852",
     "status": "completed"
    },
    "tags": []
   },
   "outputs": [
    {
     "data": {
      "text/html": [
       "        <script type=\"text/javascript\">\n",
       "        window.PlotlyConfig = {MathJaxConfig: 'local'};\n",
       "        if (window.MathJax) {MathJax.Hub.Config({SVG: {font: \"STIX-Web\"}});}\n",
       "        if (typeof require !== 'undefined') {\n",
       "        require.undef(\"plotly\");\n",
       "        requirejs.config({\n",
       "            paths: {\n",
       "                'plotly': ['https://cdn.plot.ly/plotly-latest.min']\n",
       "            }\n",
       "        });\n",
       "        require(['plotly'], function(Plotly) {\n",
       "            window._Plotly = Plotly;\n",
       "        });\n",
       "        }\n",
       "        </script>\n",
       "        "
      ]
     },
     "metadata": {},
     "output_type": "display_data"
    },
    {
     "name": "stdout",
     "output_type": "stream",
     "text": [
      "/kaggle/input/images/car.jpg\n",
      "/kaggle/input/cardataset/data.csv\n"
     ]
    }
   ],
   "source": [
    "# This Python 3 environment comes with many helpful analytics libraries installed\n",
    "# It is defined by the kaggle/python Docker image: https://github.com/kaggle/docker-python\n",
    "# For example, here's several helpful packages to load\n",
    "\n",
    "import numpy as np # linear algebra\n",
    "import pandas as pd # data processing, CSV file I/O (e.g. pd.read_csv)\n",
    "import matplotlib.pyplot as plt\n",
    "import seaborn as sns\n",
    "import cufflinks as cf\n",
    "cf.go_offline()\n",
    "cf.set_config_file(offline=False, world_readable=True)\n",
    "import missingno as msno\n",
    "%matplotlib inline\n",
    "import warnings\n",
    "warnings.simplefilter(action='ignore')\n",
    "\n",
    "# Input data files are available in the read-only \"../input/\" directory\n",
    "# For example, running this (by clicking run or pressing Shift+Enter) will list all files under the input directory\n",
    "\n",
    "import os\n",
    "for dirname, _, filenames in os.walk('/kaggle/input'):\n",
    "    for filename in filenames:\n",
    "        print(os.path.join(dirname, filename))\n",
    "\n",
    "# You can write up to 5GB to the current directory (/kaggle/working/) that gets preserved as output when you create a version using \"Save & Run All\" \n",
    "# You can also write temporary files to /kaggle/temp/, but they won't be saved outside of the current session"
   ]
  },
  {
   "cell_type": "code",
   "execution_count": 2,
   "metadata": {
    "_cell_guid": "79c7e3d0-c299-4dcb-8224-4455121ee9b0",
    "_kg_hide-output": true,
    "_uuid": "d629ff2d2480ee46fbb7e2d37f6b5fab8052498a",
    "execution": {
     "iopub.execute_input": "2021-10-30T16:10:36.046573Z",
     "iopub.status.busy": "2021-10-30T16:10:36.045610Z",
     "iopub.status.idle": "2021-10-30T16:10:36.101042Z",
     "shell.execute_reply": "2021-10-30T16:10:36.102317Z",
     "shell.execute_reply.started": "2021-10-30T16:05:31.026874Z"
    },
    "papermill": {
     "duration": 0.128394,
     "end_time": "2021-10-30T16:10:36.102479",
     "exception": false,
     "start_time": "2021-10-30T16:10:35.974085",
     "status": "completed"
    },
    "tags": []
   },
   "outputs": [],
   "source": [
    "car=pd.read_csv('/kaggle/input/cardataset/data.csv')"
   ]
  },
  {
   "cell_type": "code",
   "execution_count": 3,
   "metadata": {
    "execution": {
     "iopub.execute_input": "2021-10-30T16:10:36.180917Z",
     "iopub.status.busy": "2021-10-30T16:10:36.180264Z",
     "iopub.status.idle": "2021-10-30T16:10:36.201967Z",
     "shell.execute_reply": "2021-10-30T16:10:36.201370Z",
     "shell.execute_reply.started": "2021-10-30T16:05:31.057949Z"
    },
    "papermill": {
     "duration": 0.064059,
     "end_time": "2021-10-30T16:10:36.202077",
     "exception": false,
     "start_time": "2021-10-30T16:10:36.138018",
     "status": "completed"
    },
    "tags": []
   },
   "outputs": [
    {
     "data": {
      "text/html": [
       "<div>\n",
       "<style scoped>\n",
       "    .dataframe tbody tr th:only-of-type {\n",
       "        vertical-align: middle;\n",
       "    }\n",
       "\n",
       "    .dataframe tbody tr th {\n",
       "        vertical-align: top;\n",
       "    }\n",
       "\n",
       "    .dataframe thead th {\n",
       "        text-align: right;\n",
       "    }\n",
       "</style>\n",
       "<table border=\"1\" class=\"dataframe\">\n",
       "  <thead>\n",
       "    <tr style=\"text-align: right;\">\n",
       "      <th></th>\n",
       "      <th>Make</th>\n",
       "      <th>Model</th>\n",
       "      <th>Year</th>\n",
       "      <th>Engine Fuel Type</th>\n",
       "      <th>Engine HP</th>\n",
       "      <th>Engine Cylinders</th>\n",
       "      <th>Transmission Type</th>\n",
       "      <th>Driven_Wheels</th>\n",
       "      <th>Number of Doors</th>\n",
       "      <th>Market Category</th>\n",
       "      <th>Vehicle Size</th>\n",
       "      <th>Vehicle Style</th>\n",
       "      <th>highway MPG</th>\n",
       "      <th>city mpg</th>\n",
       "      <th>Popularity</th>\n",
       "      <th>MSRP</th>\n",
       "    </tr>\n",
       "  </thead>\n",
       "  <tbody>\n",
       "    <tr>\n",
       "      <th>0</th>\n",
       "      <td>BMW</td>\n",
       "      <td>1 Series M</td>\n",
       "      <td>2011</td>\n",
       "      <td>premium unleaded (required)</td>\n",
       "      <td>335.0</td>\n",
       "      <td>6.0</td>\n",
       "      <td>MANUAL</td>\n",
       "      <td>rear wheel drive</td>\n",
       "      <td>2.0</td>\n",
       "      <td>Factory Tuner,Luxury,High-Performance</td>\n",
       "      <td>Compact</td>\n",
       "      <td>Coupe</td>\n",
       "      <td>26</td>\n",
       "      <td>19</td>\n",
       "      <td>3916</td>\n",
       "      <td>46135</td>\n",
       "    </tr>\n",
       "    <tr>\n",
       "      <th>1</th>\n",
       "      <td>BMW</td>\n",
       "      <td>1 Series</td>\n",
       "      <td>2011</td>\n",
       "      <td>premium unleaded (required)</td>\n",
       "      <td>300.0</td>\n",
       "      <td>6.0</td>\n",
       "      <td>MANUAL</td>\n",
       "      <td>rear wheel drive</td>\n",
       "      <td>2.0</td>\n",
       "      <td>Luxury,Performance</td>\n",
       "      <td>Compact</td>\n",
       "      <td>Convertible</td>\n",
       "      <td>28</td>\n",
       "      <td>19</td>\n",
       "      <td>3916</td>\n",
       "      <td>40650</td>\n",
       "    </tr>\n",
       "    <tr>\n",
       "      <th>2</th>\n",
       "      <td>BMW</td>\n",
       "      <td>1 Series</td>\n",
       "      <td>2011</td>\n",
       "      <td>premium unleaded (required)</td>\n",
       "      <td>300.0</td>\n",
       "      <td>6.0</td>\n",
       "      <td>MANUAL</td>\n",
       "      <td>rear wheel drive</td>\n",
       "      <td>2.0</td>\n",
       "      <td>Luxury,High-Performance</td>\n",
       "      <td>Compact</td>\n",
       "      <td>Coupe</td>\n",
       "      <td>28</td>\n",
       "      <td>20</td>\n",
       "      <td>3916</td>\n",
       "      <td>36350</td>\n",
       "    </tr>\n",
       "    <tr>\n",
       "      <th>3</th>\n",
       "      <td>BMW</td>\n",
       "      <td>1 Series</td>\n",
       "      <td>2011</td>\n",
       "      <td>premium unleaded (required)</td>\n",
       "      <td>230.0</td>\n",
       "      <td>6.0</td>\n",
       "      <td>MANUAL</td>\n",
       "      <td>rear wheel drive</td>\n",
       "      <td>2.0</td>\n",
       "      <td>Luxury,Performance</td>\n",
       "      <td>Compact</td>\n",
       "      <td>Coupe</td>\n",
       "      <td>28</td>\n",
       "      <td>18</td>\n",
       "      <td>3916</td>\n",
       "      <td>29450</td>\n",
       "    </tr>\n",
       "    <tr>\n",
       "      <th>4</th>\n",
       "      <td>BMW</td>\n",
       "      <td>1 Series</td>\n",
       "      <td>2011</td>\n",
       "      <td>premium unleaded (required)</td>\n",
       "      <td>230.0</td>\n",
       "      <td>6.0</td>\n",
       "      <td>MANUAL</td>\n",
       "      <td>rear wheel drive</td>\n",
       "      <td>2.0</td>\n",
       "      <td>Luxury</td>\n",
       "      <td>Compact</td>\n",
       "      <td>Convertible</td>\n",
       "      <td>28</td>\n",
       "      <td>18</td>\n",
       "      <td>3916</td>\n",
       "      <td>34500</td>\n",
       "    </tr>\n",
       "  </tbody>\n",
       "</table>\n",
       "</div>"
      ],
      "text/plain": [
       "  Make       Model  Year             Engine Fuel Type  Engine HP  \\\n",
       "0  BMW  1 Series M  2011  premium unleaded (required)      335.0   \n",
       "1  BMW    1 Series  2011  premium unleaded (required)      300.0   \n",
       "2  BMW    1 Series  2011  premium unleaded (required)      300.0   \n",
       "3  BMW    1 Series  2011  premium unleaded (required)      230.0   \n",
       "4  BMW    1 Series  2011  premium unleaded (required)      230.0   \n",
       "\n",
       "   Engine Cylinders Transmission Type     Driven_Wheels  Number of Doors  \\\n",
       "0               6.0            MANUAL  rear wheel drive              2.0   \n",
       "1               6.0            MANUAL  rear wheel drive              2.0   \n",
       "2               6.0            MANUAL  rear wheel drive              2.0   \n",
       "3               6.0            MANUAL  rear wheel drive              2.0   \n",
       "4               6.0            MANUAL  rear wheel drive              2.0   \n",
       "\n",
       "                         Market Category Vehicle Size Vehicle Style  \\\n",
       "0  Factory Tuner,Luxury,High-Performance      Compact         Coupe   \n",
       "1                     Luxury,Performance      Compact   Convertible   \n",
       "2                Luxury,High-Performance      Compact         Coupe   \n",
       "3                     Luxury,Performance      Compact         Coupe   \n",
       "4                                 Luxury      Compact   Convertible   \n",
       "\n",
       "   highway MPG  city mpg  Popularity   MSRP  \n",
       "0           26        19        3916  46135  \n",
       "1           28        19        3916  40650  \n",
       "2           28        20        3916  36350  \n",
       "3           28        18        3916  29450  \n",
       "4           28        18        3916  34500  "
      ]
     },
     "execution_count": 3,
     "metadata": {},
     "output_type": "execute_result"
    }
   ],
   "source": [
    "car.head()"
   ]
  },
  {
   "cell_type": "code",
   "execution_count": 4,
   "metadata": {
    "execution": {
     "iopub.execute_input": "2021-10-30T16:10:36.275962Z",
     "iopub.status.busy": "2021-10-30T16:10:36.275000Z",
     "iopub.status.idle": "2021-10-30T16:10:36.442203Z",
     "shell.execute_reply": "2021-10-30T16:10:36.443032Z",
     "shell.execute_reply.started": "2021-10-30T16:05:31.089945Z"
    },
    "papermill": {
     "duration": 0.205704,
     "end_time": "2021-10-30T16:10:36.443181",
     "exception": false,
     "start_time": "2021-10-30T16:10:36.237477",
     "status": "completed"
    },
    "tags": []
   },
   "outputs": [
    {
     "data": {
      "text/html": [
       "<style  type=\"text/css\" >\n",
       "    #T_ead5dd94_399b_11ec_a415_0242ac130202row0_col0 {\n",
       "            background-color:  #67000d;\n",
       "            color:  #f1f1f1;\n",
       "        }    #T_ead5dd94_399b_11ec_a415_0242ac130202row1_col0 {\n",
       "            background-color:  #db2824;\n",
       "            color:  #f1f1f1;\n",
       "        }    #T_ead5dd94_399b_11ec_a415_0242ac130202row2_col0 {\n",
       "            background-color:  #e22e27;\n",
       "            color:  #f1f1f1;\n",
       "        }    #T_ead5dd94_399b_11ec_a415_0242ac130202row3_col0 {\n",
       "            background-color:  #fc7f5f;\n",
       "            color:  #000000;\n",
       "        }    #T_ead5dd94_399b_11ec_a415_0242ac130202row4_col0 {\n",
       "            background-color:  #fc8b6b;\n",
       "            color:  #000000;\n",
       "        }    #T_ead5dd94_399b_11ec_a415_0242ac130202row5_col0 {\n",
       "            background-color:  #fc9c7d;\n",
       "            color:  #000000;\n",
       "        }    #T_ead5dd94_399b_11ec_a415_0242ac130202row6_col0 {\n",
       "            background-color:  #fee5d8;\n",
       "            color:  #000000;\n",
       "        }    #T_ead5dd94_399b_11ec_a415_0242ac130202row7_col0 {\n",
       "            background-color:  #fff5f0;\n",
       "            color:  #000000;\n",
       "        }</style><table id=\"T_ead5dd94_399b_11ec_a415_0242ac130202\" ><thead>    <tr>        <th class=\"blank level0\" ></th>        <th class=\"col_heading level0 col0\" >Market Category</th>    </tr></thead><tbody>\n",
       "                <tr>\n",
       "                        <th id=\"T_ead5dd94_399b_11ec_a415_0242ac130202level0_row0\" class=\"row_heading level0 row0\" >Crossover</th>\n",
       "                        <td id=\"T_ead5dd94_399b_11ec_a415_0242ac130202row0_col0\" class=\"data row0 col0\" >1110</td>\n",
       "            </tr>\n",
       "            <tr>\n",
       "                        <th id=\"T_ead5dd94_399b_11ec_a415_0242ac130202level0_row1\" class=\"row_heading level0 row1\" >Flex Fuel</th>\n",
       "                        <td id=\"T_ead5dd94_399b_11ec_a415_0242ac130202row1_col0\" class=\"data row1 col0\" >872</td>\n",
       "            </tr>\n",
       "            <tr>\n",
       "                        <th id=\"T_ead5dd94_399b_11ec_a415_0242ac130202level0_row2\" class=\"row_heading level0 row2\" >Luxury</th>\n",
       "                        <td id=\"T_ead5dd94_399b_11ec_a415_0242ac130202row2_col0\" class=\"data row2 col0\" >855</td>\n",
       "            </tr>\n",
       "            <tr>\n",
       "                        <th id=\"T_ead5dd94_399b_11ec_a415_0242ac130202level0_row3\" class=\"row_heading level0 row3\" >Luxury,Performance</th>\n",
       "                        <td id=\"T_ead5dd94_399b_11ec_a415_0242ac130202row3_col0\" class=\"data row3 col0\" >673</td>\n",
       "            </tr>\n",
       "            <tr>\n",
       "                        <th id=\"T_ead5dd94_399b_11ec_a415_0242ac130202level0_row4\" class=\"row_heading level0 row4\" >Hatchback</th>\n",
       "                        <td id=\"T_ead5dd94_399b_11ec_a415_0242ac130202row4_col0\" class=\"data row4 col0\" >641</td>\n",
       "            </tr>\n",
       "            <tr>\n",
       "                        <th id=\"T_ead5dd94_399b_11ec_a415_0242ac130202level0_row5\" class=\"row_heading level0 row5\" >Performance</th>\n",
       "                        <td id=\"T_ead5dd94_399b_11ec_a415_0242ac130202row5_col0\" class=\"data row5 col0\" >601</td>\n",
       "            </tr>\n",
       "            <tr>\n",
       "                        <th id=\"T_ead5dd94_399b_11ec_a415_0242ac130202level0_row6\" class=\"row_heading level0 row6\" >Crossover,Luxury</th>\n",
       "                        <td id=\"T_ead5dd94_399b_11ec_a415_0242ac130202row6_col0\" class=\"data row6 col0\" >410</td>\n",
       "            </tr>\n",
       "            <tr>\n",
       "                        <th id=\"T_ead5dd94_399b_11ec_a415_0242ac130202level0_row7\" class=\"row_heading level0 row7\" >Luxury,High-Performance</th>\n",
       "                        <td id=\"T_ead5dd94_399b_11ec_a415_0242ac130202row7_col0\" class=\"data row7 col0\" >334</td>\n",
       "            </tr>\n",
       "    </tbody></table>"
      ],
      "text/plain": [
       "<pandas.io.formats.style.Styler at 0x7f0ffe5fa9d0>"
      ]
     },
     "execution_count": 4,
     "metadata": {},
     "output_type": "execute_result"
    },
    {
     "data": {
      "text/plain": [
       "<Figure size 1152x720 with 0 Axes>"
      ]
     },
     "metadata": {},
     "output_type": "display_data"
    }
   ],
   "source": [
    "plt.style.use('seaborn')\n",
    "fig= plt.figure(figsize=(16,10))\n",
    "\n",
    "Market=car['Market Category'].value_counts().head(8).to_frame()\n",
    "market= Market.style.background_gradient(cmap='Reds')\n",
    "market\n",
    "\n"
   ]
  },
  {
   "cell_type": "markdown",
   "metadata": {
    "papermill": {
     "duration": 0.038086,
     "end_time": "2021-10-30T16:10:36.527458",
     "exception": false,
     "start_time": "2021-10-30T16:10:36.489372",
     "status": "completed"
    },
    "tags": []
   },
   "source": [
    " Most of the cars  belong to the Market Category \" Crossover\" .\n",
    "\n",
    "* Before starting any data visualization, we need to check if the dataset has any missing values and clean them all of it has any with **Data Cleaning**"
   ]
  },
  {
   "cell_type": "markdown",
   "metadata": {
    "papermill": {
     "duration": 0.037928,
     "end_time": "2021-10-30T16:10:36.601267",
     "exception": false,
     "start_time": "2021-10-30T16:10:36.563339",
     "status": "completed"
    },
    "tags": []
   },
   "source": [
    "# 1.  Data Cleaning"
   ]
  },
  {
   "cell_type": "code",
   "execution_count": 5,
   "metadata": {
    "_kg_hide-input": true,
    "execution": {
     "iopub.execute_input": "2021-10-30T16:10:36.704721Z",
     "iopub.status.busy": "2021-10-30T16:10:36.702842Z",
     "iopub.status.idle": "2021-10-30T16:10:36.713522Z",
     "shell.execute_reply": "2021-10-30T16:10:36.714005Z",
     "shell.execute_reply.started": "2021-10-30T16:05:31.121010Z"
    },
    "papermill": {
     "duration": 0.067345,
     "end_time": "2021-10-30T16:10:36.714142",
     "exception": false,
     "start_time": "2021-10-30T16:10:36.646797",
     "status": "completed"
    },
    "tags": []
   },
   "outputs": [
    {
     "data": {
      "text/plain": [
       "Make                 0.000000\n",
       "Model                0.000000\n",
       "Year                 0.000000\n",
       "Engine Fuel Type     0.000252\n",
       "Engine HP            0.005792\n",
       "Engine Cylinders     0.002518\n",
       "Transmission Type    0.000000\n",
       "Driven_Wheels        0.000000\n",
       "Number of Doors      0.000504\n",
       "Market Category      0.314084\n",
       "Vehicle Size         0.000000\n",
       "Vehicle Style        0.000000\n",
       "highway MPG          0.000000\n",
       "city mpg             0.000000\n",
       "Popularity           0.000000\n",
       "MSRP                 0.000000\n",
       "dtype: float64"
      ]
     },
     "execution_count": 5,
     "metadata": {},
     "output_type": "execute_result"
    },
    {
     "data": {
      "text/plain": [
       "<Figure size 1080x216 with 0 Axes>"
      ]
     },
     "metadata": {},
     "output_type": "display_data"
    }
   ],
   "source": [
    "plt.style.use('seaborn')\n",
    "sns.set_style('whitegrid')\n",
    "plt.figure(figsize=(15, 3))\n",
    "car.isnull().mean()\n",
    "\n"
   ]
  },
  {
   "cell_type": "markdown",
   "metadata": {
    "papermill": {
     "duration": 0.038856,
     "end_time": "2021-10-30T16:10:36.789678",
     "exception": false,
     "start_time": "2021-10-30T16:10:36.750822",
     "status": "completed"
    },
    "tags": []
   },
   "source": [
    "We have 5 features with missing values of various proportions. We can closely see how these missing values are variated in the plot below."
   ]
  },
  {
   "cell_type": "code",
   "execution_count": 6,
   "metadata": {
    "_kg_hide-input": false,
    "execution": {
     "iopub.execute_input": "2021-10-30T16:10:36.893486Z",
     "iopub.status.busy": "2021-10-30T16:10:36.892844Z",
     "iopub.status.idle": "2021-10-30T16:10:37.214507Z",
     "shell.execute_reply": "2021-10-30T16:10:37.214991Z",
     "shell.execute_reply.started": "2021-10-30T16:05:31.163950Z"
    },
    "papermill": {
     "duration": 0.364824,
     "end_time": "2021-10-30T16:10:37.215128",
     "exception": false,
     "start_time": "2021-10-30T16:10:36.850304",
     "status": "completed"
    },
    "tags": []
   },
   "outputs": [
    {
     "data": {
      "image/png": "[encoded data removed]",
      "text/plain": [
       "<Figure size 576x288 with 1 Axes>"
      ]
     },
     "metadata": {},
     "output_type": "display_data"
    }
   ],
   "source": [
    "allna = (car.isnull().sum() / len(car))*100\n",
    "allna = allna.drop(allna[allna == 0].index).sort_values()\n",
    "plt.figure(figsize=(8, 4))\n",
    "allna.plot.barh(color=('red', 'black'), edgecolor='black')\n",
    "plt.title('Missing values percentage per column', fontsize=15, weight='bold' )\n",
    "plt.xlabel('Percentage', weight='bold', size=15)\n",
    "plt.ylabel('Features with missing values', weight='bold')\n",
    "plt.yticks(weight='bold')\n",
    "plt.show()"
   ]
  },
  {
   "cell_type": "markdown",
   "metadata": {
    "papermill": {
     "duration": 0.036558,
     "end_time": "2021-10-30T16:10:37.288923",
     "exception": false,
     "start_time": "2021-10-30T16:10:37.252365",
     "status": "completed"
    },
    "tags": []
   },
   "source": [
    "\n",
    "The highest feature with missing values has around 32% of NAs which is not that high, this is a good thing since we can go further with data cleaning without dropping any columns, specially the ones that could be useful and helpful in understanding the dataset in the second part: **Data Visualization**\n",
    "\n",
    "* We start with isolating the missing values to have a better idea on how to treat them."
   ]
  },
  {
   "cell_type": "code",
   "execution_count": 7,
   "metadata": {
    "_kg_hide-input": true,
    "execution": {
     "iopub.execute_input": "2021-10-30T16:10:37.365811Z",
     "iopub.status.busy": "2021-10-30T16:10:37.365219Z",
     "iopub.status.idle": "2021-10-30T16:10:37.372250Z",
     "shell.execute_reply": "2021-10-30T16:10:37.372804Z",
     "shell.execute_reply.started": "2021-10-30T16:05:31.417749Z"
    },
    "papermill": {
     "duration": 0.046853,
     "end_time": "2021-10-30T16:10:37.372938",
     "exception": false,
     "start_time": "2021-10-30T16:10:37.326085",
     "status": "completed"
    },
    "tags": []
   },
   "outputs": [],
   "source": [
    "NA=car[['Engine Fuel Type','Engine HP', 'Engine Cylinders', 'Number of Doors', 'Market Category']]"
   ]
  },
  {
   "cell_type": "markdown",
   "metadata": {
    "papermill": {
     "duration": 0.036569,
     "end_time": "2021-10-30T16:10:37.448216",
     "exception": false,
     "start_time": "2021-10-30T16:10:37.411647",
     "status": "completed"
    },
    "tags": []
   },
   "source": [
    "\n",
    "\n",
    "* We split them to:\n",
    "\n",
    "    Categorical features\n",
    "    \n",
    "    Numerical features\n",
    "\n"
   ]
  },
  {
   "cell_type": "code",
   "execution_count": 8,
   "metadata": {
    "_kg_hide-input": true,
    "execution": {
     "iopub.execute_input": "2021-10-30T16:10:37.525370Z",
     "iopub.status.busy": "2021-10-30T16:10:37.524809Z",
     "iopub.status.idle": "2021-10-30T16:10:37.534472Z",
     "shell.execute_reply": "2021-10-30T16:10:37.534946Z",
     "shell.execute_reply.started": "2021-10-30T16:05:31.426286Z"
    },
    "papermill": {
     "duration": 0.050117,
     "end_time": "2021-10-30T16:10:37.535085",
     "exception": false,
     "start_time": "2021-10-30T16:10:37.484968",
     "status": "completed"
    },
    "tags": []
   },
   "outputs": [
    {
     "name": "stdout",
     "output_type": "stream",
     "text": [
      "We have : 2 categorical features with missing values\n",
      "We have : 3 numerical features with missing values\n"
     ]
    }
   ],
   "source": [
    "NAcat=NA.select_dtypes(include='object')\n",
    "NAnum=NA.select_dtypes(exclude='object')\n",
    "print('We have :',NAcat.shape[1],'categorical features with missing values')\n",
    "print('We have :',NAnum.shape[1],'numerical features with missing values')"
   ]
  },
  {
   "cell_type": "markdown",
   "metadata": {
    "papermill": {
     "duration": 0.036653,
     "end_time": "2021-10-30T16:10:37.609007",
     "exception": false,
     "start_time": "2021-10-30T16:10:37.572354",
     "status": "completed"
    },
    "tags": []
   },
   "source": [
    "* We have 2 categorical features and 3 numerical features to clean."
   ]
  },
  {
   "cell_type": "markdown",
   "metadata": {
    "papermill": {
     "duration": 0.036915,
     "end_time": "2021-10-30T16:10:37.682896",
     "exception": false,
     "start_time": "2021-10-30T16:10:37.645981",
     "status": "completed"
    },
    "tags": []
   },
   "source": [
    "1. Numerical features"
   ]
  },
  {
   "cell_type": "code",
   "execution_count": 9,
   "metadata": {
    "execution": {
     "iopub.execute_input": "2021-10-30T16:10:37.759999Z",
     "iopub.status.busy": "2021-10-30T16:10:37.759458Z",
     "iopub.status.idle": "2021-10-30T16:10:37.769641Z",
     "shell.execute_reply": "2021-10-30T16:10:37.770105Z",
     "shell.execute_reply.started": "2021-10-30T16:05:31.445270Z"
    },
    "papermill": {
     "duration": 0.050226,
     "end_time": "2021-10-30T16:10:37.770260",
     "exception": false,
     "start_time": "2021-10-30T16:10:37.720034",
     "status": "completed"
    },
    "tags": []
   },
   "outputs": [
    {
     "data": {
      "text/html": [
       "<div>\n",
       "<style scoped>\n",
       "    .dataframe tbody tr th:only-of-type {\n",
       "        vertical-align: middle;\n",
       "    }\n",
       "\n",
       "    .dataframe tbody tr th {\n",
       "        vertical-align: top;\n",
       "    }\n",
       "\n",
       "    .dataframe thead th {\n",
       "        text-align: right;\n",
       "    }\n",
       "</style>\n",
       "<table border=\"1\" class=\"dataframe\">\n",
       "  <thead>\n",
       "    <tr style=\"text-align: right;\">\n",
       "      <th></th>\n",
       "      <th>Engine HP</th>\n",
       "      <th>Engine Cylinders</th>\n",
       "      <th>Number of Doors</th>\n",
       "    </tr>\n",
       "  </thead>\n",
       "  <tbody>\n",
       "    <tr>\n",
       "      <th>0</th>\n",
       "      <td>335.0</td>\n",
       "      <td>6.0</td>\n",
       "      <td>2.0</td>\n",
       "    </tr>\n",
       "    <tr>\n",
       "      <th>1</th>\n",
       "      <td>300.0</td>\n",
       "      <td>6.0</td>\n",
       "      <td>2.0</td>\n",
       "    </tr>\n",
       "    <tr>\n",
       "      <th>2</th>\n",
       "      <td>300.0</td>\n",
       "      <td>6.0</td>\n",
       "      <td>2.0</td>\n",
       "    </tr>\n",
       "  </tbody>\n",
       "</table>\n",
       "</div>"
      ],
      "text/plain": [
       "   Engine HP  Engine Cylinders  Number of Doors\n",
       "0      335.0               6.0              2.0\n",
       "1      300.0               6.0              2.0\n",
       "2      300.0               6.0              2.0"
      ]
     },
     "execution_count": 9,
     "metadata": {},
     "output_type": "execute_result"
    }
   ],
   "source": [
    "NAnum.head(3)"
   ]
  },
  {
   "cell_type": "markdown",
   "metadata": {
    "papermill": {
     "duration": 0.03766,
     "end_time": "2021-10-30T16:10:37.845500",
     "exception": false,
     "start_time": "2021-10-30T16:10:37.807840",
     "status": "completed"
    },
    "tags": []
   },
   "source": [
    "    We can easily clean our numerical features by using the filling forward method since they barely have any missing values."
   ]
  },
  {
   "cell_type": "code",
   "execution_count": 10,
   "metadata": {
    "_kg_hide-input": true,
    "execution": {
     "iopub.execute_input": "2021-10-30T16:10:37.923352Z",
     "iopub.status.busy": "2021-10-30T16:10:37.922773Z",
     "iopub.status.idle": "2021-10-30T16:10:37.932140Z",
     "shell.execute_reply": "2021-10-30T16:10:37.932657Z",
     "shell.execute_reply.started": "2021-10-30T16:05:31.459536Z"
    },
    "papermill": {
     "duration": 0.049777,
     "end_time": "2021-10-30T16:10:37.932796",
     "exception": false,
     "start_time": "2021-10-30T16:10:37.883019",
     "status": "completed"
    },
    "tags": []
   },
   "outputs": [],
   "source": [
    "car['Engine HP']=car['Engine HP'].fillna(method='ffill')\n",
    "car['Engine Cylinders']=car['Engine Cylinders'].fillna(method='ffill')\n",
    "car['Number of Doors']=car['Number of Doors'].fillna(method='ffill')"
   ]
  },
  {
   "cell_type": "markdown",
   "metadata": {
    "papermill": {
     "duration": 0.038655,
     "end_time": "2021-10-30T16:10:38.008801",
     "exception": false,
     "start_time": "2021-10-30T16:10:37.970146",
     "status": "completed"
    },
    "tags": []
   },
   "source": [
    "2. Categorical features"
   ]
  },
  {
   "cell_type": "code",
   "execution_count": 11,
   "metadata": {
    "execution": {
     "iopub.execute_input": "2021-10-30T16:10:38.086923Z",
     "iopub.status.busy": "2021-10-30T16:10:38.086330Z",
     "iopub.status.idle": "2021-10-30T16:10:38.094504Z",
     "shell.execute_reply": "2021-10-30T16:10:38.095044Z",
     "shell.execute_reply.started": "2021-10-30T16:05:31.476262Z"
    },
    "papermill": {
     "duration": 0.048539,
     "end_time": "2021-10-30T16:10:38.095180",
     "exception": false,
     "start_time": "2021-10-30T16:10:38.046641",
     "status": "completed"
    },
    "tags": []
   },
   "outputs": [
    {
     "data": {
      "text/html": [
       "<div>\n",
       "<style scoped>\n",
       "    .dataframe tbody tr th:only-of-type {\n",
       "        vertical-align: middle;\n",
       "    }\n",
       "\n",
       "    .dataframe tbody tr th {\n",
       "        vertical-align: top;\n",
       "    }\n",
       "\n",
       "    .dataframe thead th {\n",
       "        text-align: right;\n",
       "    }\n",
       "</style>\n",
       "<table border=\"1\" class=\"dataframe\">\n",
       "  <thead>\n",
       "    <tr style=\"text-align: right;\">\n",
       "      <th></th>\n",
       "      <th>Engine Fuel Type</th>\n",
       "      <th>Market Category</th>\n",
       "    </tr>\n",
       "  </thead>\n",
       "  <tbody>\n",
       "    <tr>\n",
       "      <th>0</th>\n",
       "      <td>premium unleaded (required)</td>\n",
       "      <td>Factory Tuner,Luxury,High-Performance</td>\n",
       "    </tr>\n",
       "    <tr>\n",
       "      <th>1</th>\n",
       "      <td>premium unleaded (required)</td>\n",
       "      <td>Luxury,Performance</td>\n",
       "    </tr>\n",
       "    <tr>\n",
       "      <th>2</th>\n",
       "      <td>premium unleaded (required)</td>\n",
       "      <td>Luxury,High-Performance</td>\n",
       "    </tr>\n",
       "  </tbody>\n",
       "</table>\n",
       "</div>"
      ],
      "text/plain": [
       "              Engine Fuel Type                        Market Category\n",
       "0  premium unleaded (required)  Factory Tuner,Luxury,High-Performance\n",
       "1  premium unleaded (required)                     Luxury,Performance\n",
       "2  premium unleaded (required)                Luxury,High-Performance"
      ]
     },
     "execution_count": 11,
     "metadata": {},
     "output_type": "execute_result"
    }
   ],
   "source": [
    "NAcat.head(3)"
   ]
  },
  {
   "cell_type": "markdown",
   "metadata": {
    "papermill": {
     "duration": 0.037535,
     "end_time": "2021-10-30T16:10:38.170782",
     "exception": false,
     "start_time": "2021-10-30T16:10:38.133247",
     "status": "completed"
    },
    "tags": []
   },
   "source": [
    "    Given that Engine Fuel has a very small percentage of missing values, we will clean it using the Fill forward method as well.\n",
    "\n",
    "\n",
    "     Market Category has a pretty much high amount of missing values, we will clean it by filling it with 'Luxury' assuming that most of the cars belong to the Market category \" Crossover\"."
   ]
  },
  {
   "cell_type": "code",
   "execution_count": 12,
   "metadata": {
    "_kg_hide-input": true,
    "execution": {
     "iopub.execute_input": "2021-10-30T16:10:38.248930Z",
     "iopub.status.busy": "2021-10-30T16:10:38.248364Z",
     "iopub.status.idle": "2021-10-30T16:10:38.255821Z",
     "shell.execute_reply": "2021-10-30T16:10:38.256391Z",
     "shell.execute_reply.started": "2021-10-30T16:05:31.491808Z"
    },
    "papermill": {
     "duration": 0.048062,
     "end_time": "2021-10-30T16:10:38.256534",
     "exception": false,
     "start_time": "2021-10-30T16:10:38.208472",
     "status": "completed"
    },
    "tags": []
   },
   "outputs": [],
   "source": [
    "car['Engine Fuel Type']=car['Engine Fuel Type'].fillna(method='ffill')\n",
    "car['Market Category']=car['Market Category'].fillna('Crossover')"
   ]
  },
  {
   "cell_type": "code",
   "execution_count": 13,
   "metadata": {
    "_kg_hide-input": true,
    "execution": {
     "iopub.execute_input": "2021-10-30T16:10:38.335421Z",
     "iopub.status.busy": "2021-10-30T16:10:38.334842Z",
     "iopub.status.idle": "2021-10-30T16:10:38.347303Z",
     "shell.execute_reply": "2021-10-30T16:10:38.347852Z",
     "shell.execute_reply.started": "2021-10-30T16:05:31.502014Z"
    },
    "papermill": {
     "duration": 0.05346,
     "end_time": "2021-10-30T16:10:38.347993",
     "exception": false,
     "start_time": "2021-10-30T16:10:38.294533",
     "status": "completed"
    },
    "tags": []
   },
   "outputs": [
    {
     "data": {
      "text/plain": [
       "MSRP             0\n",
       "Popularity       0\n",
       "city mpg         0\n",
       "highway MPG      0\n",
       "Vehicle Style    0\n",
       "dtype: int64"
      ]
     },
     "execution_count": 13,
     "metadata": {},
     "output_type": "execute_result"
    }
   ],
   "source": [
    "car.isnull().sum().sort_values(ascending=False).head()\n",
    "\n"
   ]
  },
  {
   "cell_type": "markdown",
   "metadata": {
    "papermill": {
     "duration": 0.05181,
     "end_time": "2021-10-30T16:10:38.439247",
     "exception": false,
     "start_time": "2021-10-30T16:10:38.387437",
     "status": "completed"
    },
    "tags": []
   },
   "source": [
    "  * Our dataset is clean, we can now move to ***Data* *visualization***."
   ]
  },
  {
   "cell_type": "markdown",
   "metadata": {
    "papermill": {
     "duration": 0.046866,
     "end_time": "2021-10-30T16:10:38.533351",
     "exception": false,
     "start_time": "2021-10-30T16:10:38.486485",
     "status": "completed"
    },
    "tags": []
   },
   "source": [
    "# 2. Data Exploration\n",
    "\n",
    "\n",
    "        2.1  Car brand distribution"
   ]
  },
  {
   "cell_type": "code",
   "execution_count": 14,
   "metadata": {
    "execution": {
     "iopub.execute_input": "2021-10-30T16:10:38.615854Z",
     "iopub.status.busy": "2021-10-30T16:10:38.615249Z",
     "iopub.status.idle": "2021-10-30T16:10:38.633710Z",
     "shell.execute_reply": "2021-10-30T16:10:38.634258Z",
     "shell.execute_reply.started": "2021-10-30T16:05:31.517750Z"
    },
    "papermill": {
     "duration": 0.059678,
     "end_time": "2021-10-30T16:10:38.634428",
     "exception": false,
     "start_time": "2021-10-30T16:10:38.574750",
     "status": "completed"
    },
    "tags": []
   },
   "outputs": [
    {
     "data": {
      "text/html": [
       "<div>\n",
       "<style scoped>\n",
       "    .dataframe tbody tr th:only-of-type {\n",
       "        vertical-align: middle;\n",
       "    }\n",
       "\n",
       "    .dataframe tbody tr th {\n",
       "        vertical-align: top;\n",
       "    }\n",
       "\n",
       "    .dataframe thead th {\n",
       "        text-align: right;\n",
       "    }\n",
       "</style>\n",
       "<table border=\"1\" class=\"dataframe\">\n",
       "  <thead>\n",
       "    <tr style=\"text-align: right;\">\n",
       "      <th></th>\n",
       "      <th>Make</th>\n",
       "      <th>Model</th>\n",
       "      <th>Year</th>\n",
       "      <th>Engine Fuel Type</th>\n",
       "      <th>Engine HP</th>\n",
       "      <th>Engine Cylinders</th>\n",
       "      <th>Transmission Type</th>\n",
       "      <th>Driven_Wheels</th>\n",
       "      <th>Number of Doors</th>\n",
       "      <th>Market Category</th>\n",
       "      <th>Vehicle Size</th>\n",
       "      <th>Vehicle Style</th>\n",
       "      <th>highway MPG</th>\n",
       "      <th>city mpg</th>\n",
       "      <th>Popularity</th>\n",
       "      <th>MSRP</th>\n",
       "    </tr>\n",
       "  </thead>\n",
       "  <tbody>\n",
       "    <tr>\n",
       "      <th>0</th>\n",
       "      <td>BMW</td>\n",
       "      <td>1 Series M</td>\n",
       "      <td>2011</td>\n",
       "      <td>premium unleaded (required)</td>\n",
       "      <td>335.0</td>\n",
       "      <td>6.0</td>\n",
       "      <td>MANUAL</td>\n",
       "      <td>rear wheel drive</td>\n",
       "      <td>2.0</td>\n",
       "      <td>Factory Tuner,Luxury,High-Performance</td>\n",
       "      <td>Compact</td>\n",
       "      <td>Coupe</td>\n",
       "      <td>26</td>\n",
       "      <td>19</td>\n",
       "      <td>3916</td>\n",
       "      <td>46135</td>\n",
       "    </tr>\n",
       "    <tr>\n",
       "      <th>1</th>\n",
       "      <td>BMW</td>\n",
       "      <td>1 Series</td>\n",
       "      <td>2011</td>\n",
       "      <td>premium unleaded (required)</td>\n",
       "      <td>300.0</td>\n",
       "      <td>6.0</td>\n",
       "      <td>MANUAL</td>\n",
       "      <td>rear wheel drive</td>\n",
       "      <td>2.0</td>\n",
       "      <td>Luxury,Performance</td>\n",
       "      <td>Compact</td>\n",
       "      <td>Convertible</td>\n",
       "      <td>28</td>\n",
       "      <td>19</td>\n",
       "      <td>3916</td>\n",
       "      <td>40650</td>\n",
       "    </tr>\n",
       "    <tr>\n",
       "      <th>2</th>\n",
       "      <td>BMW</td>\n",
       "      <td>1 Series</td>\n",
       "      <td>2011</td>\n",
       "      <td>premium unleaded (required)</td>\n",
       "      <td>300.0</td>\n",
       "      <td>6.0</td>\n",
       "      <td>MANUAL</td>\n",
       "      <td>rear wheel drive</td>\n",
       "      <td>2.0</td>\n",
       "      <td>Luxury,High-Performance</td>\n",
       "      <td>Compact</td>\n",
       "      <td>Coupe</td>\n",
       "      <td>28</td>\n",
       "      <td>20</td>\n",
       "      <td>3916</td>\n",
       "      <td>36350</td>\n",
       "    </tr>\n",
       "    <tr>\n",
       "      <th>3</th>\n",
       "      <td>BMW</td>\n",
       "      <td>1 Series</td>\n",
       "      <td>2011</td>\n",
       "      <td>premium unleaded (required)</td>\n",
       "      <td>230.0</td>\n",
       "      <td>6.0</td>\n",
       "      <td>MANUAL</td>\n",
       "      <td>rear wheel drive</td>\n",
       "      <td>2.0</td>\n",
       "      <td>Luxury,Performance</td>\n",
       "      <td>Compact</td>\n",
       "      <td>Coupe</td>\n",
       "      <td>28</td>\n",
       "      <td>18</td>\n",
       "      <td>3916</td>\n",
       "      <td>29450</td>\n",
       "    </tr>\n",
       "    <tr>\n",
       "      <th>4</th>\n",
       "      <td>BMW</td>\n",
       "      <td>1 Series</td>\n",
       "      <td>2011</td>\n",
       "      <td>premium unleaded (required)</td>\n",
       "      <td>230.0</td>\n",
       "      <td>6.0</td>\n",
       "      <td>MANUAL</td>\n",
       "      <td>rear wheel drive</td>\n",
       "      <td>2.0</td>\n",
       "      <td>Luxury</td>\n",
       "      <td>Compact</td>\n",
       "      <td>Convertible</td>\n",
       "      <td>28</td>\n",
       "      <td>18</td>\n",
       "      <td>3916</td>\n",
       "      <td>34500</td>\n",
       "    </tr>\n",
       "  </tbody>\n",
       "</table>\n",
       "</div>"
      ],
      "text/plain": [
       "  Make       Model  Year             Engine Fuel Type  Engine HP  \\\n",
       "0  BMW  1 Series M  2011  premium unleaded (required)      335.0   \n",
       "1  BMW    1 Series  2011  premium unleaded (required)      300.0   \n",
       "2  BMW    1 Series  2011  premium unleaded (required)      300.0   \n",
       "3  BMW    1 Series  2011  premium unleaded (required)      230.0   \n",
       "4  BMW    1 Series  2011  premium unleaded (required)      230.0   \n",
       "\n",
       "   Engine Cylinders Transmission Type     Driven_Wheels  Number of Doors  \\\n",
       "0               6.0            MANUAL  rear wheel drive              2.0   \n",
       "1               6.0            MANUAL  rear wheel drive              2.0   \n",
       "2               6.0            MANUAL  rear wheel drive              2.0   \n",
       "3               6.0            MANUAL  rear wheel drive              2.0   \n",
       "4               6.0            MANUAL  rear wheel drive              2.0   \n",
       "\n",
       "                         Market Category Vehicle Size Vehicle Style  \\\n",
       "0  Factory Tuner,Luxury,High-Performance      Compact         Coupe   \n",
       "1                     Luxury,Performance      Compact   Convertible   \n",
       "2                Luxury,High-Performance      Compact         Coupe   \n",
       "3                     Luxury,Performance      Compact         Coupe   \n",
       "4                                 Luxury      Compact   Convertible   \n",
       "\n",
       "   highway MPG  city mpg  Popularity   MSRP  \n",
       "0           26        19        3916  46135  \n",
       "1           28        19        3916  40650  \n",
       "2           28        20        3916  36350  \n",
       "3           28        18        3916  29450  \n",
       "4           28        18        3916  34500  "
      ]
     },
     "execution_count": 14,
     "metadata": {},
     "output_type": "execute_result"
    }
   ],
   "source": [
    "car.head()"
   ]
  },
  {
   "cell_type": "code",
   "execution_count": 15,
   "metadata": {
    "_kg_hide-input": false,
    "execution": {
     "iopub.execute_input": "2021-10-30T16:10:38.714674Z",
     "iopub.status.busy": "2021-10-30T16:10:38.714060Z",
     "iopub.status.idle": "2021-10-30T16:10:38.798630Z",
     "shell.execute_reply": "2021-10-30T16:10:38.799216Z",
     "shell.execute_reply.started": "2021-10-30T16:05:32.722380Z"
    },
    "papermill": {
     "duration": 0.12645,
     "end_time": "2021-10-30T16:10:38.799369",
     "exception": false,
     "start_time": "2021-10-30T16:10:38.672919",
     "status": "completed"
    },
    "tags": []
   },
   "outputs": [
    {
     "data": {
      "image/png": "[encoded data removed]",
      "text/plain": [
       "<Figure size 504x504 with 1 Axes>"
      ]
     },
     "metadata": {},
     "output_type": "display_data"
    }
   ],
   "source": [
    "carr=car['Make'].value_counts().head(5).to_frame()\n",
    "m= carr.style.background_gradient(cmap='Blues')\n",
    "colors=['blue','red','yellow','green','brown']\n",
    "labels= ['Chevrolet','Ford','Volkswagen','Toyota','Dodge']\n",
    "sizes= ['1123','881','809','746','626']\n",
    "explode=[0.1,0.1,0.1,0.1,0.1]\n",
    "values=car['Make'].value_counts().head(5).to_frame()\n",
    "\n",
    "#visualization\n",
    "plt.figure(figsize=(7,7))\n",
    "plt.pie(values,explode=None,labels=labels,colors=colors,autopct='%1.1f%%')\n",
    "plt.title('TOP 5 Car brands in the dataset',color='black',fontsize=10)\n",
    "plt.show()\n",
    "\n"
   ]
  },
  {
   "cell_type": "markdown",
   "metadata": {
    "papermill": {
     "duration": 0.039441,
     "end_time": "2021-10-30T16:10:38.878477",
     "exception": false,
     "start_time": "2021-10-30T16:10:38.839036",
     "status": "completed"
    },
    "tags": []
   },
   "source": [
    "   Chevrolet, Ford, Volkswagen, Toyota and Dodge are the brands most present in our dataset. \n",
    "\n",
    "   * Now let's move on to the Brand that has the highest MSRP(manufacturer's suggested retail price)"
   ]
  },
  {
   "cell_type": "code",
   "execution_count": 16,
   "metadata": {
    "_kg_hide-input": true,
    "execution": {
     "iopub.execute_input": "2021-10-30T16:10:38.960289Z",
     "iopub.status.busy": "2021-10-30T16:10:38.959691Z",
     "iopub.status.idle": "2021-10-30T16:10:39.738596Z",
     "shell.execute_reply": "2021-10-30T16:10:39.738029Z",
     "shell.execute_reply.started": "2021-10-30T16:05:32.811035Z"
    },
    "papermill": {
     "duration": 0.820814,
     "end_time": "2021-10-30T16:10:39.738725",
     "exception": false,
     "start_time": "2021-10-30T16:10:38.917911",
     "status": "completed"
    },
    "tags": []
   },
   "outputs": [
    {
     "data": {
      "application/vnd.plotly.v1+json": {
       "config": {
        "linkText": "Export to plot.ly",
        "plotlyServerURL": "https://plot.ly",
        "showLink": true
       },
       "data": [
        {
         "marker": {
          "color": "rgba(255, 153, 51, 0.6)",
          "line": {
           "color": "rgba(255, 153, 51, 1.0)",
           "width": 1
          }
         },
         "name": "MSRP",
         "orientation": "v",
         "text": "",
         "type": "bar",
         "x": [
          "Chevrolet",
          "Mercedes-Benz",
          "Ford",
          "Volkswagen",
          "Cadillac",
          "Toyota",
          "BMW",
          "Aston Martin",
          "Bentley",
          "Audi"
         ],
         "y": [
          31837483,
          25231109,
          24138754,
          22734826,
          22323833,
          21656392,
          20556619,
          18405665,
          18290530,
          17532293
         ]
        }
       ],
       "layout": {
        "legend": {
         "bgcolor": "#F5F6F9",
         "font": {
          "color": "#4D5663"
         }
        },
        "paper_bgcolor": "#F5F6F9",
        "plot_bgcolor": "#F5F6F9",
        "template": {
         "data": {
          "bar": [
           {
            "error_x": {
             "color": "#2a3f5f"
            },
            "error_y": {
             "color": "#2a3f5f"
            },
            "marker": {
             "line": {
              "color": "#E5ECF6",
              "width": 0.5
             }
            },
            "type": "bar"
           }
          ],
          "barpolar": [
           {
            "marker": {
             "line": {
              "color": "#E5ECF6",
              "width": 0.5
             }
            },
            "type": "barpolar"
           }
          ],
          "carpet": [
           {
            "aaxis": {
             "endlinecolor": "#2a3f5f",
             "gridcolor": "white",
             "linecolor": "white",
             "minorgridcolor": "white",
             "startlinecolor": "#2a3f5f"
            },
            "baxis": {
             "endlinecolor": "#2a3f5f",
             "gridcolor": "white",
             "linecolor": "white",
             "minorgridcolor": "white",
             "startlinecolor": "#2a3f5f"
            },
            "type": "carpet"
           }
          ],
          "choropleth": [
           {
            "colorbar": {
             "outlinewidth": 0,
             "ticks": ""
            },
            "type": "choropleth"
           }
          ],
          "contour": [
           {
            "colorbar": {
             "outlinewidth": 0,
             "ticks": ""
            },
            "colorscale": [
             [
              0.0,
              "#0d0887"
             ],
             [
              0.1111111111111111,
              "#46039f"
             ],
             [
              0.2222222222222222,
              "#7201a8"
             ],
             [
              0.3333333333333333,
              "#9c179e"
             ],
             [
              0.4444444444444444,
              "#bd3786"
             ],
             [
              0.5555555555555556,
              "#d8576b"
             ],
             [
              0.6666666666666666,
              "#ed7953"
             ],
             [
              0.7777777777777778,
              "#fb9f3a"
             ],
             [
              0.8888888888888888,
              "#fdca26"
             ],
             [
              1.0,
              "#f0f921"
             ]
            ],
            "type": "contour"
           }
          ],
          "contourcarpet": [
           {
            "colorbar": {
             "outlinewidth": 0,
             "ticks": ""
            },
            "type": "contourcarpet"
           }
          ],
          "heatmap": [
           {
            "colorbar": {
             "outlinewidth": 0,
             "ticks": ""
            },
            "colorscale": [
             [
              0.0,
              "#0d0887"
             ],
             [
              0.1111111111111111,
              "#46039f"
             ],
             [
              0.2222222222222222,
              "#7201a8"
             ],
             [
              0.3333333333333333,
              "#9c179e"
             ],
             [
              0.4444444444444444,
              "#bd3786"
             ],
             [
              0.5555555555555556,
              "#d8576b"
             ],
             [
              0.6666666666666666,
              "#ed7953"
             ],
             [
              0.7777777777777778,
              "#fb9f3a"
             ],
             [
              0.8888888888888888,
              "#fdca26"
             ],
             [
              1.0,
              "#f0f921"
             ]
            ],
            "type": "heatmap"
           }
          ],
          "heatmapgl": [
           {
            "colorbar": {
             "outlinewidth": 0,
             "ticks": ""
            },
            "colorscale": [
             [
              0.0,
              "#0d0887"
             ],
             [
              0.1111111111111111,
              "#46039f"
             ],
             [
              0.2222222222222222,
              "#7201a8"
             ],
             [
              0.3333333333333333,
              "#9c179e"
             ],
             [
              0.4444444444444444,
              "#bd3786"
             ],
             [
              0.5555555555555556,
              "#d8576b"
             ],
             [
              0.6666666666666666,
              "#ed7953"
             ],
             [
              0.7777777777777778,
              "#fb9f3a"
             ],
             [
              0.8888888888888888,
              "#fdca26"
             ],
             [
              1.0,
              "#f0f921"
             ]
            ],
            "type": "heatmapgl"
           }
          ],
          "histogram": [
           {
            "marker": {
             "colorbar": {
              "outlinewidth": 0,
              "ticks": ""
             }
            },
            "type": "histogram"
           }
          ],
          "histogram2d": [
           {
            "colorbar": {
             "outlinewidth": 0,
             "ticks": ""
            },
            "colorscale": [
             [
              0.0,
              "#0d0887"
             ],
             [
              0.1111111111111111,
              "#46039f"
             ],
             [
              0.2222222222222222,
              "#7201a8"
             ],
             [
              0.3333333333333333,
              "#9c179e"
             ],
             [
              0.4444444444444444,
              "#bd3786"
             ],
             [
              0.5555555555555556,
              "#d8576b"
             ],
             [
              0.6666666666666666,
              "#ed7953"
             ],
             [
              0.7777777777777778,
              "#fb9f3a"
             ],
             [
              0.8888888888888888,
              "#fdca26"
             ],
             [
              1.0,
              "#f0f921"
             ]
            ],
            "type": "histogram2d"
           }
          ],
          "histogram2dcontour": [
           {
            "colorbar": {
             "outlinewidth": 0,
             "ticks": ""
            },
            "colorscale": [
             [
              0.0,
              "#0d0887"
             ],
             [
              0.1111111111111111,
              "#46039f"
             ],
             [
              0.2222222222222222,
              "#7201a8"
             ],
             [
              0.3333333333333333,
              "#9c179e"
             ],
             [
              0.4444444444444444,
              "#bd3786"
             ],
             [
              0.5555555555555556,
              "#d8576b"
             ],
             [
              0.6666666666666666,
              "#ed7953"
             ],
             [
              0.7777777777777778,
              "#fb9f3a"
             ],
             [
              0.8888888888888888,
              "#fdca26"
             ],
             [
              1.0,
              "#f0f921"
             ]
            ],
            "type": "histogram2dcontour"
           }
          ],
          "mesh3d": [
           {
            "colorbar": {
             "outlinewidth": 0,
             "ticks": ""
            },
            "type": "mesh3d"
           }
          ],
          "parcoords": [
           {
            "line": {
             "colorbar": {
              "outlinewidth": 0,
              "ticks": ""
             }
            },
            "type": "parcoords"
           }
          ],
          "pie": [
           {
            "automargin": true,
            "type": "pie"
           }
          ],
          "scatter": [
           {
            "marker": {
             "colorbar": {
              "outlinewidth": 0,
              "ticks": ""
             }
            },
            "type": "scatter"
           }
          ],
          "scatter3d": [
           {
            "line": {
             "colorbar": {
              "outlinewidth": 0,
              "ticks": ""
             }
            },
            "marker": {
             "colorbar": {
              "outlinewidth": 0,
              "ticks": ""
             }
            },
            "type": "scatter3d"
           }
          ],
          "scattercarpet": [
           {
            "marker": {
             "colorbar": {
              "outlinewidth": 0,
              "ticks": ""
             }
            },
            "type": "scattercarpet"
           }
          ],
          "scattergeo": [
           {
            "marker": {
             "colorbar": {
              "outlinewidth": 0,
              "ticks": ""
             }
            },
            "type": "scattergeo"
           }
          ],
          "scattergl": [
           {
            "marker": {
             "colorbar": {
              "outlinewidth": 0,
              "ticks": ""
             }
            },
            "type": "scattergl"
           }
          ],
          "scattermapbox": [
           {
            "marker": {
             "colorbar": {
              "outlinewidth": 0,
              "ticks": ""
             }
            },
            "type": "scattermapbox"
           }
          ],
          "scatterpolar": [
           {
            "marker": {
             "colorbar": {
              "outlinewidth": 0,
              "ticks": ""
             }
            },
            "type": "scatterpolar"
           }
          ],
          "scatterpolargl": [
           {
            "marker": {
             "colorbar": {
              "outlinewidth": 0,
              "ticks": ""
             }
            },
            "type": "scatterpolargl"
           }
          ],
          "scatterternary": [
           {
            "marker": {
             "colorbar": {
              "outlinewidth": 0,
              "ticks": ""
             }
            },
            "type": "scatterternary"
           }
          ],
          "surface": [
           {
            "colorbar": {
             "outlinewidth": 0,
             "ticks": ""
            },
            "colorscale": [
             [
              0.0,
              "#0d0887"
             ],
             [
              0.1111111111111111,
              "#46039f"
             ],
             [
              0.2222222222222222,
              "#7201a8"
             ],
             [
              0.3333333333333333,
              "#9c179e"
             ],
             [
              0.4444444444444444,
              "#bd3786"
             ],
             [
              0.5555555555555556,
              "#d8576b"
             ],
             [
              0.6666666666666666,
              "#ed7953"
             ],
             [
              0.7777777777777778,
              "#fb9f3a"
             ],
             [
              0.8888888888888888,
              "#fdca26"
             ],
             [
              1.0,
              "#f0f921"
             ]
            ],
            "type": "surface"
           }
          ],
          "table": [
           {
            "cells": {
             "fill": {
              "color": "#EBF0F8"
             },
             "line": {
              "color": "white"
             }
            },
            "header": {
             "fill": {
              "color": "#C8D4E3"
             },
             "line": {
              "color": "white"
             }
            },
            "type": "table"
           }
          ]
         },
         "layout": {
          "annotationdefaults": {
           "arrowcolor": "#2a3f5f",
           "arrowhead": 0,
           "arrowwidth": 1
          },
          "coloraxis": {
           "colorbar": {
            "outlinewidth": 0,
            "ticks": ""
           }
          },
          "colorscale": {
           "diverging": [
            [
             0,
             "#8e0152"
            ],
            [
             0.1,
             "#c51b7d"
            ],
            [
             0.2,
             "#de77ae"
            ],
            [
             0.3,
             "#f1b6da"
            ],
            [
             0.4,
             "#fde0ef"
            ],
            [
             0.5,
             "#f7f7f7"
            ],
            [
             0.6,
             "#e6f5d0"
            ],
            [
             0.7,
             "#b8e186"
            ],
            [
             0.8,
             "#7fbc41"
            ],
            [
             0.9,
             "#4d9221"
            ],
            [
             1,
             "#276419"
            ]
           ],
           "sequential": [
            [
             0.0,
             "#0d0887"
            ],
            [
             0.1111111111111111,
             "#46039f"
            ],
            [
             0.2222222222222222,
             "#7201a8"
            ],
            [
             0.3333333333333333,
             "#9c179e"
            ],
            [
             0.4444444444444444,
             "#bd3786"
            ],
            [
             0.5555555555555556,
             "#d8576b"
            ],
            [
             0.6666666666666666,
             "#ed7953"
            ],
            [
             0.7777777777777778,
             "#fb9f3a"
            ],
            [
             0.8888888888888888,
             "#fdca26"
            ],
            [
             1.0,
             "#f0f921"
            ]
           ],
           "sequentialminus": [
            [
             0.0,
             "#0d0887"
            ],
            [
             0.1111111111111111,
             "#46039f"
            ],
            [
             0.2222222222222222,
             "#7201a8"
            ],
            [
             0.3333333333333333,
             "#9c179e"
            ],
            [
             0.4444444444444444,
             "#bd3786"
            ],
            [
             0.5555555555555556,
             "#d8576b"
            ],
            [
             0.6666666666666666,
             "#ed7953"
            ],
            [
             0.7777777777777778,
             "#fb9f3a"
            ],
            [
             0.8888888888888888,
             "#fdca26"
            ],
            [
             1.0,
             "#f0f921"
            ]
           ]
          },
          "colorway": [
           "#636efa",
           "#EF553B",
           "#00cc96",
           "#ab63fa",
           "#FFA15A",
           "#19d3f3",
           "#FF6692",
           "#B6E880",
           "#FF97FF",
           "#FECB52"
          ],
          "font": {
           "color": "#2a3f5f"
          },
          "geo": {
           "bgcolor": "white",
           "lakecolor": "white",
           "landcolor": "#E5ECF6",
           "showlakes": true,
           "showland": true,
           "subunitcolor": "white"
          },
          "hoverlabel": {
           "align": "left"
          },
          "hovermode": "closest",
          "mapbox": {
           "style": "light"
          },
          "paper_bgcolor": "white",
          "plot_bgcolor": "#E5ECF6",
          "polar": {
           "angularaxis": {
            "gridcolor": "white",
            "linecolor": "white",
            "ticks": ""
           },
           "bgcolor": "#E5ECF6",
           "radialaxis": {
            "gridcolor": "white",
            "linecolor": "white",
            "ticks": ""
           }
          },
          "scene": {
           "xaxis": {
            "backgroundcolor": "#E5ECF6",
            "gridcolor": "white",
            "gridwidth": 2,
            "linecolor": "white",
            "showbackground": true,
            "ticks": "",
            "zerolinecolor": "white"
           },
           "yaxis": {
            "backgroundcolor": "#E5ECF6",
            "gridcolor": "white",
            "gridwidth": 2,
            "linecolor": "white",
            "showbackground": true,
            "ticks": "",
            "zerolinecolor": "white"
           },
           "zaxis": {
            "backgroundcolor": "#E5ECF6",
            "gridcolor": "white",
            "gridwidth": 2,
            "linecolor": "white",
            "showbackground": true,
            "ticks": "",
            "zerolinecolor": "white"
           }
          },
          "shapedefaults": {
           "line": {
            "color": "#2a3f5f"
           }
          },
          "ternary": {
           "aaxis": {
            "gridcolor": "white",
            "linecolor": "white",
            "ticks": ""
           },
           "baxis": {
            "gridcolor": "white",
            "linecolor": "white",
            "ticks": ""
           },
           "bgcolor": "#E5ECF6",
           "caxis": {
            "gridcolor": "white",
            "linecolor": "white",
            "ticks": ""
           }
          },
          "title": {
           "x": 0.05
          },
          "xaxis": {
           "automargin": true,
           "gridcolor": "white",
           "linecolor": "white",
           "ticks": "",
           "title": {
            "standoff": 15
           },
           "zerolinecolor": "white",
           "zerolinewidth": 2
          },
          "yaxis": {
           "automargin": true,
           "gridcolor": "white",
           "linecolor": "white",
           "ticks": "",
           "title": {
            "standoff": 15
           },
           "zerolinecolor": "white",
           "zerolinewidth": 2
          }
         }
        },
        "title": {
         "font": {
          "color": "#4D5663"
         },
         "text": "Top 10 expensive Car Brands"
        },
        "xaxis": {
         "gridcolor": "#E1E5ED",
         "showgrid": true,
         "tickfont": {
          "color": "#4D5663"
         },
         "title": {
          "font": {
           "color": "#4D5663"
          },
          "text": "Make"
         },
         "zerolinecolor": "#E1E5ED"
        },
        "yaxis": {
         "gridcolor": "#E1E5ED",
         "showgrid": true,
         "tickfont": {
          "color": "#4D5663"
         },
         "title": {
          "font": {
           "color": "#4D5663"
          },
          "text": "MSRP"
         },
         "zerolinecolor": "#E1E5ED"
        }
       }
      },
      "text/html": [
       "<div>\n",
       "        \n",
       "        \n",
       "            <div id=\"2fec438c-8f17-452b-a45e-a96d51ab5b4c\" class=\"plotly-graph-div\" style=\"height:525px; width:100%;\"></div>\n",
       "            <script type=\"text/javascript\">\n",
       "                require([\"plotly\"], function(Plotly) {\n",
       "                    window.PLOTLYENV=window.PLOTLYENV || {};\n",
       "                    window.PLOTLYENV.BASE_URL='https://plot.ly';\n",
       "                    \n",
       "                if (document.getElementById(\"2fec438c-8f17-452b-a45e-a96d51ab5b4c\")) {\n",
       "                    Plotly.newPlot(\n",
       "                        '2fec438c-8f17-452b-a45e-a96d51ab5b4c',\n",
       "                        [{\"marker\": {\"color\": \"rgba(255, 153, 51, 0.6)\", \"line\": {\"color\": \"rgba(255, 153, 51, 1.0)\", \"width\": 1}}, \"name\": \"MSRP\", \"orientation\": \"v\", \"text\": \"\", \"type\": \"bar\", \"x\": [\"Chevrolet\", \"Mercedes-Benz\", \"Ford\", \"Volkswagen\", \"Cadillac\", \"Toyota\", \"BMW\", \"Aston Martin\", \"Bentley\", \"Audi\"], \"y\": [31837483, 25231109, 24138754, 22734826, 22323833, 21656392, 20556619, 18405665, 18290530, 17532293]}],\n",
       "                        {\"legend\": {\"bgcolor\": \"#F5F6F9\", \"font\": {\"color\": \"#4D5663\"}}, \"paper_bgcolor\": \"#F5F6F9\", \"plot_bgcolor\": \"#F5F6F9\", \"template\": {\"data\": {\"bar\": [{\"error_x\": {\"color\": \"#2a3f5f\"}, \"error_y\": {\"color\": \"#2a3f5f\"}, \"marker\": {\"line\": {\"color\": \"#E5ECF6\", \"width\": 0.5}}, \"type\": \"bar\"}], \"barpolar\": [{\"marker\": {\"line\": {\"color\": \"#E5ECF6\", \"width\": 0.5}}, \"type\": \"barpolar\"}], \"carpet\": [{\"aaxis\": {\"endlinecolor\": \"#2a3f5f\", \"gridcolor\": \"white\", \"linecolor\": \"white\", \"minorgridcolor\": \"white\", \"startlinecolor\": \"#2a3f5f\"}, \"baxis\": {\"endlinecolor\": \"#2a3f5f\", \"gridcolor\": \"white\", \"linecolor\": \"white\", \"minorgridcolor\": \"white\", \"startlinecolor\": \"#2a3f5f\"}, \"type\": \"carpet\"}], \"choropleth\": [{\"colorbar\": {\"outlinewidth\": 0, \"ticks\": \"\"}, \"type\": \"choropleth\"}], \"contour\": [{\"colorbar\": {\"outlinewidth\": 0, \"ticks\": \"\"}, \"colorscale\": [[0.0, \"#0d0887\"], [0.1111111111111111, \"#46039f\"], [0.2222222222222222, \"#7201a8\"], [0.3333333333333333, \"#9c179e\"], [0.4444444444444444, \"#bd3786\"], [0.5555555555555556, \"#d8576b\"], [0.6666666666666666, \"#ed7953\"], [0.7777777777777778, \"#fb9f3a\"], [0.8888888888888888, \"#fdca26\"], [1.0, \"#f0f921\"]], \"type\": \"contour\"}], \"contourcarpet\": [{\"colorbar\": {\"outlinewidth\": 0, \"ticks\": \"\"}, \"type\": \"contourcarpet\"}], \"heatmap\": [{\"colorbar\": {\"outlinewidth\": 0, \"ticks\": \"\"}, \"colorscale\": [[0.0, \"#0d0887\"], [0.1111111111111111, \"#46039f\"], [0.2222222222222222, \"#7201a8\"], [0.3333333333333333, \"#9c179e\"], [0.4444444444444444, \"#bd3786\"], [0.5555555555555556, \"#d8576b\"], [0.6666666666666666, \"#ed7953\"], [0.7777777777777778, \"#fb9f3a\"], [0.8888888888888888, \"#fdca26\"], [1.0, \"#f0f921\"]], \"type\": \"heatmap\"}], \"heatmapgl\": [{\"colorbar\": {\"outlinewidth\": 0, \"ticks\": \"\"}, \"colorscale\": [[0.0, \"#0d0887\"], [0.1111111111111111, \"#46039f\"], [0.2222222222222222, \"#7201a8\"], [0.3333333333333333, \"#9c179e\"], [0.4444444444444444, \"#bd3786\"], [0.5555555555555556, \"#d8576b\"], [0.6666666666666666, \"#ed7953\"], [0.7777777777777778, \"#fb9f3a\"], [0.8888888888888888, \"#fdca26\"], [1.0, \"#f0f921\"]], \"type\": \"heatmapgl\"}], \"histogram\": [{\"marker\": {\"colorbar\": {\"outlinewidth\": 0, \"ticks\": \"\"}}, \"type\": \"histogram\"}], \"histogram2d\": [{\"colorbar\": {\"outlinewidth\": 0, \"ticks\": \"\"}, \"colorscale\": [[0.0, \"#0d0887\"], [0.1111111111111111, \"#46039f\"], [0.2222222222222222, \"#7201a8\"], [0.3333333333333333, \"#9c179e\"], [0.4444444444444444, \"#bd3786\"], [0.5555555555555556, \"#d8576b\"], [0.6666666666666666, \"#ed7953\"], [0.7777777777777778, \"#fb9f3a\"], [0.8888888888888888, \"#fdca26\"], [1.0, \"#f0f921\"]], \"type\": \"histogram2d\"}], \"histogram2dcontour\": [{\"colorbar\": {\"outlinewidth\": 0, \"ticks\": \"\"}, \"colorscale\": [[0.0, \"#0d0887\"], [0.1111111111111111, \"#46039f\"], [0.2222222222222222, \"#7201a8\"], [0.3333333333333333, \"#9c179e\"], [0.4444444444444444, \"#bd3786\"], [0.5555555555555556, \"#d8576b\"], [0.6666666666666666, \"#ed7953\"], [0.7777777777777778, \"#fb9f3a\"], [0.8888888888888888, \"#fdca26\"], [1.0, \"#f0f921\"]], \"type\": \"histogram2dcontour\"}], \"mesh3d\": [{\"colorbar\": {\"outlinewidth\": 0, \"ticks\": \"\"}, \"type\": \"mesh3d\"}], \"parcoords\": [{\"line\": {\"colorbar\": {\"outlinewidth\": 0, \"ticks\": \"\"}}, \"type\": \"parcoords\"}], \"pie\": [{\"automargin\": true, \"type\": \"pie\"}], \"scatter\": [{\"marker\": {\"colorbar\": {\"outlinewidth\": 0, \"ticks\": \"\"}}, \"type\": \"scatter\"}], \"scatter3d\": [{\"line\": {\"colorbar\": {\"outlinewidth\": 0, \"ticks\": \"\"}}, \"marker\": {\"colorbar\": {\"outlinewidth\": 0, \"ticks\": \"\"}}, \"type\": \"scatter3d\"}], \"scattercarpet\": [{\"marker\": {\"colorbar\": {\"outlinewidth\": 0, \"ticks\": \"\"}}, \"type\": \"scattercarpet\"}], \"scattergeo\": [{\"marker\": {\"colorbar\": {\"outlinewidth\": 0, \"ticks\": \"\"}}, \"type\": \"scattergeo\"}], \"scattergl\": [{\"marker\": {\"colorbar\": {\"outlinewidth\": 0, \"ticks\": \"\"}}, \"type\": \"scattergl\"}], \"scattermapbox\": [{\"marker\": {\"colorbar\": {\"outlinewidth\": 0, \"ticks\": \"\"}}, \"type\": \"scattermapbox\"}], \"scatterpolar\": [{\"marker\": {\"colorbar\": {\"outlinewidth\": 0, \"ticks\": \"\"}}, \"type\": \"scatterpolar\"}], \"scatterpolargl\": [{\"marker\": {\"colorbar\": {\"outlinewidth\": 0, \"ticks\": \"\"}}, \"type\": \"scatterpolargl\"}], \"scatterternary\": [{\"marker\": {\"colorbar\": {\"outlinewidth\": 0, \"ticks\": \"\"}}, \"type\": \"scatterternary\"}], \"surface\": [{\"colorbar\": {\"outlinewidth\": 0, \"ticks\": \"\"}, \"colorscale\": [[0.0, \"#0d0887\"], [0.1111111111111111, \"#46039f\"], [0.2222222222222222, \"#7201a8\"], [0.3333333333333333, \"#9c179e\"], [0.4444444444444444, \"#bd3786\"], [0.5555555555555556, \"#d8576b\"], [0.6666666666666666, \"#ed7953\"], [0.7777777777777778, \"#fb9f3a\"], [0.8888888888888888, \"#fdca26\"], [1.0, \"#f0f921\"]], \"type\": \"surface\"}], \"table\": [{\"cells\": {\"fill\": {\"color\": \"#EBF0F8\"}, \"line\": {\"color\": \"white\"}}, \"header\": {\"fill\": {\"color\": \"#C8D4E3\"}, \"line\": {\"color\": \"white\"}}, \"type\": \"table\"}]}, \"layout\": {\"annotationdefaults\": {\"arrowcolor\": \"#2a3f5f\", \"arrowhead\": 0, \"arrowwidth\": 1}, \"coloraxis\": {\"colorbar\": {\"outlinewidth\": 0, \"ticks\": \"\"}}, \"colorscale\": {\"diverging\": [[0, \"#8e0152\"], [0.1, \"#c51b7d\"], [0.2, \"#de77ae\"], [0.3, \"#f1b6da\"], [0.4, \"#fde0ef\"], [0.5, \"#f7f7f7\"], [0.6, \"#e6f5d0\"], [0.7, \"#b8e186\"], [0.8, \"#7fbc41\"], [0.9, \"#4d9221\"], [1, \"#276419\"]], \"sequential\": [[0.0, \"#0d0887\"], [0.1111111111111111, \"#46039f\"], [0.2222222222222222, \"#7201a8\"], [0.3333333333333333, \"#9c179e\"], [0.4444444444444444, \"#bd3786\"], [0.5555555555555556, \"#d8576b\"], [0.6666666666666666, \"#ed7953\"], [0.7777777777777778, \"#fb9f3a\"], [0.8888888888888888, \"#fdca26\"], [1.0, \"#f0f921\"]], \"sequentialminus\": [[0.0, \"#0d0887\"], [0.1111111111111111, \"#46039f\"], [0.2222222222222222, \"#7201a8\"], [0.3333333333333333, \"#9c179e\"], [0.4444444444444444, \"#bd3786\"], [0.5555555555555556, \"#d8576b\"], [0.6666666666666666, \"#ed7953\"], [0.7777777777777778, \"#fb9f3a\"], [0.8888888888888888, \"#fdca26\"], [1.0, \"#f0f921\"]]}, \"colorway\": [\"#636efa\", \"#EF553B\", \"#00cc96\", \"#ab63fa\", \"#FFA15A\", \"#19d3f3\", \"#FF6692\", \"#B6E880\", \"#FF97FF\", \"#FECB52\"], \"font\": {\"color\": \"#2a3f5f\"}, \"geo\": {\"bgcolor\": \"white\", \"lakecolor\": \"white\", \"landcolor\": \"#E5ECF6\", \"showlakes\": true, \"showland\": true, \"subunitcolor\": \"white\"}, \"hoverlabel\": {\"align\": \"left\"}, \"hovermode\": \"closest\", \"mapbox\": {\"style\": \"light\"}, \"paper_bgcolor\": \"white\", \"plot_bgcolor\": \"#E5ECF6\", \"polar\": {\"angularaxis\": {\"gridcolor\": \"white\", \"linecolor\": \"white\", \"ticks\": \"\"}, \"bgcolor\": \"#E5ECF6\", \"radialaxis\": {\"gridcolor\": \"white\", \"linecolor\": \"white\", \"ticks\": \"\"}}, \"scene\": {\"xaxis\": {\"backgroundcolor\": \"#E5ECF6\", \"gridcolor\": \"white\", \"gridwidth\": 2, \"linecolor\": \"white\", \"showbackground\": true, \"ticks\": \"\", \"zerolinecolor\": \"white\"}, \"yaxis\": {\"backgroundcolor\": \"#E5ECF6\", \"gridcolor\": \"white\", \"gridwidth\": 2, \"linecolor\": \"white\", \"showbackground\": true, \"ticks\": \"\", \"zerolinecolor\": \"white\"}, \"zaxis\": {\"backgroundcolor\": \"#E5ECF6\", \"gridcolor\": \"white\", \"gridwidth\": 2, \"linecolor\": \"white\", \"showbackground\": true, \"ticks\": \"\", \"zerolinecolor\": \"white\"}}, \"shapedefaults\": {\"line\": {\"color\": \"#2a3f5f\"}}, \"ternary\": {\"aaxis\": {\"gridcolor\": \"white\", \"linecolor\": \"white\", \"ticks\": \"\"}, \"baxis\": {\"gridcolor\": \"white\", \"linecolor\": \"white\", \"ticks\": \"\"}, \"bgcolor\": \"#E5ECF6\", \"caxis\": {\"gridcolor\": \"white\", \"linecolor\": \"white\", \"ticks\": \"\"}}, \"title\": {\"x\": 0.05}, \"xaxis\": {\"automargin\": true, \"gridcolor\": \"white\", \"linecolor\": \"white\", \"ticks\": \"\", \"title\": {\"standoff\": 15}, \"zerolinecolor\": \"white\", \"zerolinewidth\": 2}, \"yaxis\": {\"automargin\": true, \"gridcolor\": \"white\", \"linecolor\": \"white\", \"ticks\": \"\", \"title\": {\"standoff\": 15}, \"zerolinecolor\": \"white\", \"zerolinewidth\": 2}}}, \"title\": {\"font\": {\"color\": \"#4D5663\"}, \"text\": \"Top 10 expensive Car Brands\"}, \"xaxis\": {\"gridcolor\": \"#E1E5ED\", \"showgrid\": true, \"tickfont\": {\"color\": \"#4D5663\"}, \"title\": {\"font\": {\"color\": \"#4D5663\"}, \"text\": \"Make\"}, \"zerolinecolor\": \"#E1E5ED\"}, \"yaxis\": {\"gridcolor\": \"#E1E5ED\", \"showgrid\": true, \"tickfont\": {\"color\": \"#4D5663\"}, \"title\": {\"font\": {\"color\": \"#4D5663\"}, \"text\": \"MSRP\"}, \"zerolinecolor\": \"#E1E5ED\"}},\n",
       "                        {\"showLink\": true, \"linkText\": \"Export to plot.ly\", \"plotlyServerURL\": \"https://plot.ly\", \"responsive\": true}\n",
       "                    ).then(function(){\n",
       "                            \n",
       "var gd = document.getElementById('2fec438c-8f17-452b-a45e-a96d51ab5b4c');\n",
       "var x = new MutationObserver(function (mutations, observer) {{\n",
       "        var display = window.getComputedStyle(gd).display;\n",
       "        if (!display || display === 'none') {{\n",
       "            console.log([gd, 'removed!']);\n",
       "            Plotly.purge(gd);\n",
       "            observer.disconnect();\n",
       "        }}\n",
       "}});\n",
       "\n",
       "// Listen for the removal of the full notebook cells\n",
       "var notebookContainer = gd.closest('#notebook-container');\n",
       "if (notebookContainer) {{\n",
       "    x.observe(notebookContainer, {childList: true});\n",
       "}}\n",
       "\n",
       "// Listen for the clearing of the current output cell\n",
       "var outputEl = gd.closest('.output');\n",
       "if (outputEl) {{\n",
       "    x.observe(outputEl, {childList: true});\n",
       "}}\n",
       "\n",
       "                        })\n",
       "                };\n",
       "                });\n",
       "            </script>\n",
       "        </div>"
      ]
     },
     "metadata": {},
     "output_type": "display_data"
    }
   ],
   "source": [
    "modelp = car.groupby(['Make']).sum()[['MSRP','Popularity','Engine HP','Engine Cylinders','Number of Doors']].nlargest(10, 'MSRP')\n",
    "modelp.groupby(['Make']).sum()['MSRP'].nlargest(10).iplot(kind='bar', xTitle='Make', yTitle='MSRP',\n",
    "                                                                     title='Top 10 expensive Car Brands')"
   ]
  },
  {
   "cell_type": "markdown",
   "metadata": {
    "papermill": {
     "duration": 0.045753,
     "end_time": "2021-10-30T16:10:39.831698",
     "exception": false,
     "start_time": "2021-10-30T16:10:39.785945",
     "status": "completed"
    },
    "tags": []
   },
   "source": [
    " Chevrolet has the highest manufacturer's suggested retail price (MSRP) value of roughly 33M. What are the feautures that make Cheverolet worth the first ranking?\n",
    "\n",
    "  In order to answer this question, we will study the Top 5 most 'expensive' model cars of Chevrolet."
   ]
  },
  {
   "cell_type": "code",
   "execution_count": 17,
   "metadata": {
    "_kg_hide-input": true,
    "execution": {
     "iopub.execute_input": "2021-10-30T16:10:39.938361Z",
     "iopub.status.busy": "2021-10-30T16:10:39.937674Z",
     "iopub.status.idle": "2021-10-30T16:10:39.975967Z",
     "shell.execute_reply": "2021-10-30T16:10:39.975447Z",
     "shell.execute_reply.started": "2021-10-30T16:05:32.867533Z"
    },
    "papermill": {
     "duration": 0.098247,
     "end_time": "2021-10-30T16:10:39.976105",
     "exception": false,
     "start_time": "2021-10-30T16:10:39.877858",
     "status": "completed"
    },
    "tags": []
   },
   "outputs": [
    {
     "data": {
      "text/html": [
       "<style  type=\"text/css\" >\n",
       "    #T_ecf22182_399b_11ec_a415_0242ac130202row0_col2 {\n",
       "            background-color:  #00441b;\n",
       "            color:  #f1f1f1;\n",
       "        }    #T_ecf22182_399b_11ec_a415_0242ac130202row0_col4 {\n",
       "            background-color:  #f7fcf5;\n",
       "            color:  #000000;\n",
       "        }    #T_ecf22182_399b_11ec_a415_0242ac130202row0_col5 {\n",
       "            background-color:  #f7fcf5;\n",
       "            color:  #000000;\n",
       "        }    #T_ecf22182_399b_11ec_a415_0242ac130202row0_col8 {\n",
       "            background-color:  #f7fcf5;\n",
       "            color:  #000000;\n",
       "        }    #T_ecf22182_399b_11ec_a415_0242ac130202row0_col12 {\n",
       "            background-color:  #f7fcf5;\n",
       "            color:  #000000;\n",
       "        }    #T_ecf22182_399b_11ec_a415_0242ac130202row0_col13 {\n",
       "            background-color:  #f7fcf5;\n",
       "            color:  #000000;\n",
       "        }    #T_ecf22182_399b_11ec_a415_0242ac130202row0_col14 {\n",
       "            background-color:  #f7fcf5;\n",
       "            color:  #000000;\n",
       "        }    #T_ecf22182_399b_11ec_a415_0242ac130202row0_col15 {\n",
       "            background-color:  #00441b;\n",
       "            color:  #f1f1f1;\n",
       "        }    #T_ecf22182_399b_11ec_a415_0242ac130202row1_col2 {\n",
       "            background-color:  #73c476;\n",
       "            color:  #000000;\n",
       "        }    #T_ecf22182_399b_11ec_a415_0242ac130202row1_col4 {\n",
       "            background-color:  #f7fcf5;\n",
       "            color:  #000000;\n",
       "        }    #T_ecf22182_399b_11ec_a415_0242ac130202row1_col5 {\n",
       "            background-color:  #f7fcf5;\n",
       "            color:  #000000;\n",
       "        }    #T_ecf22182_399b_11ec_a415_0242ac130202row1_col8 {\n",
       "            background-color:  #f7fcf5;\n",
       "            color:  #000000;\n",
       "        }    #T_ecf22182_399b_11ec_a415_0242ac130202row1_col12 {\n",
       "            background-color:  #f7fcf5;\n",
       "            color:  #000000;\n",
       "        }    #T_ecf22182_399b_11ec_a415_0242ac130202row1_col13 {\n",
       "            background-color:  #f7fcf5;\n",
       "            color:  #000000;\n",
       "        }    #T_ecf22182_399b_11ec_a415_0242ac130202row1_col14 {\n",
       "            background-color:  #f7fcf5;\n",
       "            color:  #000000;\n",
       "        }    #T_ecf22182_399b_11ec_a415_0242ac130202row1_col15 {\n",
       "            background-color:  #00471c;\n",
       "            color:  #f1f1f1;\n",
       "        }    #T_ecf22182_399b_11ec_a415_0242ac130202row2_col2 {\n",
       "            background-color:  #f7fcf5;\n",
       "            color:  #000000;\n",
       "        }    #T_ecf22182_399b_11ec_a415_0242ac130202row2_col4 {\n",
       "            background-color:  #f7fcf5;\n",
       "            color:  #000000;\n",
       "        }    #T_ecf22182_399b_11ec_a415_0242ac130202row2_col5 {\n",
       "            background-color:  #f7fcf5;\n",
       "            color:  #000000;\n",
       "        }    #T_ecf22182_399b_11ec_a415_0242ac130202row2_col8 {\n",
       "            background-color:  #f7fcf5;\n",
       "            color:  #000000;\n",
       "        }    #T_ecf22182_399b_11ec_a415_0242ac130202row2_col12 {\n",
       "            background-color:  #f7fcf5;\n",
       "            color:  #000000;\n",
       "        }    #T_ecf22182_399b_11ec_a415_0242ac130202row2_col13 {\n",
       "            background-color:  #f7fcf5;\n",
       "            color:  #000000;\n",
       "        }    #T_ecf22182_399b_11ec_a415_0242ac130202row2_col14 {\n",
       "            background-color:  #f7fcf5;\n",
       "            color:  #000000;\n",
       "        }    #T_ecf22182_399b_11ec_a415_0242ac130202row2_col15 {\n",
       "            background-color:  #097532;\n",
       "            color:  #f1f1f1;\n",
       "        }    #T_ecf22182_399b_11ec_a415_0242ac130202row3_col2 {\n",
       "            background-color:  #00441b;\n",
       "            color:  #f1f1f1;\n",
       "        }    #T_ecf22182_399b_11ec_a415_0242ac130202row3_col4 {\n",
       "            background-color:  #f7fcf5;\n",
       "            color:  #000000;\n",
       "        }    #T_ecf22182_399b_11ec_a415_0242ac130202row3_col5 {\n",
       "            background-color:  #f7fcf5;\n",
       "            color:  #000000;\n",
       "        }    #T_ecf22182_399b_11ec_a415_0242ac130202row3_col8 {\n",
       "            background-color:  #f7fcf5;\n",
       "            color:  #000000;\n",
       "        }    #T_ecf22182_399b_11ec_a415_0242ac130202row3_col12 {\n",
       "            background-color:  #f7fcf5;\n",
       "            color:  #000000;\n",
       "        }    #T_ecf22182_399b_11ec_a415_0242ac130202row3_col13 {\n",
       "            background-color:  #f7fcf5;\n",
       "            color:  #000000;\n",
       "        }    #T_ecf22182_399b_11ec_a415_0242ac130202row3_col14 {\n",
       "            background-color:  #f7fcf5;\n",
       "            color:  #000000;\n",
       "        }    #T_ecf22182_399b_11ec_a415_0242ac130202row3_col15 {\n",
       "            background-color:  #ddf2d8;\n",
       "            color:  #000000;\n",
       "        }    #T_ecf22182_399b_11ec_a415_0242ac130202row4_col2 {\n",
       "            background-color:  #73c476;\n",
       "            color:  #000000;\n",
       "        }    #T_ecf22182_399b_11ec_a415_0242ac130202row4_col4 {\n",
       "            background-color:  #f7fcf5;\n",
       "            color:  #000000;\n",
       "        }    #T_ecf22182_399b_11ec_a415_0242ac130202row4_col5 {\n",
       "            background-color:  #f7fcf5;\n",
       "            color:  #000000;\n",
       "        }    #T_ecf22182_399b_11ec_a415_0242ac130202row4_col8 {\n",
       "            background-color:  #f7fcf5;\n",
       "            color:  #000000;\n",
       "        }    #T_ecf22182_399b_11ec_a415_0242ac130202row4_col12 {\n",
       "            background-color:  #f7fcf5;\n",
       "            color:  #000000;\n",
       "        }    #T_ecf22182_399b_11ec_a415_0242ac130202row4_col13 {\n",
       "            background-color:  #f7fcf5;\n",
       "            color:  #000000;\n",
       "        }    #T_ecf22182_399b_11ec_a415_0242ac130202row4_col14 {\n",
       "            background-color:  #f7fcf5;\n",
       "            color:  #000000;\n",
       "        }    #T_ecf22182_399b_11ec_a415_0242ac130202row4_col15 {\n",
       "            background-color:  #e0f3db;\n",
       "            color:  #000000;\n",
       "        }    #T_ecf22182_399b_11ec_a415_0242ac130202row5_col2 {\n",
       "            background-color:  #f7fcf5;\n",
       "            color:  #000000;\n",
       "        }    #T_ecf22182_399b_11ec_a415_0242ac130202row5_col4 {\n",
       "            background-color:  #f7fcf5;\n",
       "            color:  #000000;\n",
       "        }    #T_ecf22182_399b_11ec_a415_0242ac130202row5_col5 {\n",
       "            background-color:  #f7fcf5;\n",
       "            color:  #000000;\n",
       "        }    #T_ecf22182_399b_11ec_a415_0242ac130202row5_col8 {\n",
       "            background-color:  #f7fcf5;\n",
       "            color:  #000000;\n",
       "        }    #T_ecf22182_399b_11ec_a415_0242ac130202row5_col12 {\n",
       "            background-color:  #f7fcf5;\n",
       "            color:  #000000;\n",
       "        }    #T_ecf22182_399b_11ec_a415_0242ac130202row5_col13 {\n",
       "            background-color:  #f7fcf5;\n",
       "            color:  #000000;\n",
       "        }    #T_ecf22182_399b_11ec_a415_0242ac130202row5_col14 {\n",
       "            background-color:  #f7fcf5;\n",
       "            color:  #000000;\n",
       "        }    #T_ecf22182_399b_11ec_a415_0242ac130202row5_col15 {\n",
       "            background-color:  #f7fcf5;\n",
       "            color:  #000000;\n",
       "        }</style><table id=\"T_ecf22182_399b_11ec_a415_0242ac130202\" ><thead>    <tr>        <th class=\"blank level0\" ></th>        <th class=\"col_heading level0 col0\" >Make</th>        <th class=\"col_heading level0 col1\" >Model</th>        <th class=\"col_heading level0 col2\" >Year</th>        <th class=\"col_heading level0 col3\" >Engine Fuel Type</th>        <th class=\"col_heading level0 col4\" >Engine HP</th>        <th class=\"col_heading level0 col5\" >Engine Cylinders</th>        <th class=\"col_heading level0 col6\" >Transmission Type</th>        <th class=\"col_heading level0 col7\" >Driven_Wheels</th>        <th class=\"col_heading level0 col8\" >Number of Doors</th>        <th class=\"col_heading level0 col9\" >Market Category</th>        <th class=\"col_heading level0 col10\" >Vehicle Size</th>        <th class=\"col_heading level0 col11\" >Vehicle Style</th>        <th class=\"col_heading level0 col12\" >highway MPG</th>        <th class=\"col_heading level0 col13\" >city mpg</th>        <th class=\"col_heading level0 col14\" >Popularity</th>        <th class=\"col_heading level0 col15\" >MSRP</th>    </tr></thead><tbody>\n",
       "                <tr>\n",
       "                        <th id=\"T_ecf22182_399b_11ec_a415_0242ac130202level0_row0\" class=\"row_heading level0 row0\" >3021</th>\n",
       "                        <td id=\"T_ecf22182_399b_11ec_a415_0242ac130202row0_col0\" class=\"data row0 col0\" >Chevrolet</td>\n",
       "                        <td id=\"T_ecf22182_399b_11ec_a415_0242ac130202row0_col1\" class=\"data row0 col1\" >Corvette</td>\n",
       "                        <td id=\"T_ecf22182_399b_11ec_a415_0242ac130202row0_col2\" class=\"data row0 col2\" >2017</td>\n",
       "                        <td id=\"T_ecf22182_399b_11ec_a415_0242ac130202row0_col3\" class=\"data row0 col3\" >premium unleaded (required)</td>\n",
       "                        <td id=\"T_ecf22182_399b_11ec_a415_0242ac130202row0_col4\" class=\"data row0 col4\" >650.000000</td>\n",
       "                        <td id=\"T_ecf22182_399b_11ec_a415_0242ac130202row0_col5\" class=\"data row0 col5\" >8.000000</td>\n",
       "                        <td id=\"T_ecf22182_399b_11ec_a415_0242ac130202row0_col6\" class=\"data row0 col6\" >MANUAL</td>\n",
       "                        <td id=\"T_ecf22182_399b_11ec_a415_0242ac130202row0_col7\" class=\"data row0 col7\" >rear wheel drive</td>\n",
       "                        <td id=\"T_ecf22182_399b_11ec_a415_0242ac130202row0_col8\" class=\"data row0 col8\" >2.000000</td>\n",
       "                        <td id=\"T_ecf22182_399b_11ec_a415_0242ac130202row0_col9\" class=\"data row0 col9\" >Factory Tuner,High-Performance</td>\n",
       "                        <td id=\"T_ecf22182_399b_11ec_a415_0242ac130202row0_col10\" class=\"data row0 col10\" >Compact</td>\n",
       "                        <td id=\"T_ecf22182_399b_11ec_a415_0242ac130202row0_col11\" class=\"data row0 col11\" >Convertible</td>\n",
       "                        <td id=\"T_ecf22182_399b_11ec_a415_0242ac130202row0_col12\" class=\"data row0 col12\" >22</td>\n",
       "                        <td id=\"T_ecf22182_399b_11ec_a415_0242ac130202row0_col13\" class=\"data row0 col13\" >15</td>\n",
       "                        <td id=\"T_ecf22182_399b_11ec_a415_0242ac130202row0_col14\" class=\"data row0 col14\" >1385</td>\n",
       "                        <td id=\"T_ecf22182_399b_11ec_a415_0242ac130202row0_col15\" class=\"data row0 col15\" >92395</td>\n",
       "            </tr>\n",
       "            <tr>\n",
       "                        <th id=\"T_ecf22182_399b_11ec_a415_0242ac130202level0_row1\" class=\"row_heading level0 row1\" >2999</th>\n",
       "                        <td id=\"T_ecf22182_399b_11ec_a415_0242ac130202row1_col0\" class=\"data row1 col0\" >Chevrolet</td>\n",
       "                        <td id=\"T_ecf22182_399b_11ec_a415_0242ac130202row1_col1\" class=\"data row1 col1\" >Corvette</td>\n",
       "                        <td id=\"T_ecf22182_399b_11ec_a415_0242ac130202row1_col2\" class=\"data row1 col2\" >2016</td>\n",
       "                        <td id=\"T_ecf22182_399b_11ec_a415_0242ac130202row1_col3\" class=\"data row1 col3\" >premium unleaded (required)</td>\n",
       "                        <td id=\"T_ecf22182_399b_11ec_a415_0242ac130202row1_col4\" class=\"data row1 col4\" >650.000000</td>\n",
       "                        <td id=\"T_ecf22182_399b_11ec_a415_0242ac130202row1_col5\" class=\"data row1 col5\" >8.000000</td>\n",
       "                        <td id=\"T_ecf22182_399b_11ec_a415_0242ac130202row1_col6\" class=\"data row1 col6\" >MANUAL</td>\n",
       "                        <td id=\"T_ecf22182_399b_11ec_a415_0242ac130202row1_col7\" class=\"data row1 col7\" >rear wheel drive</td>\n",
       "                        <td id=\"T_ecf22182_399b_11ec_a415_0242ac130202row1_col8\" class=\"data row1 col8\" >2.000000</td>\n",
       "                        <td id=\"T_ecf22182_399b_11ec_a415_0242ac130202row1_col9\" class=\"data row1 col9\" >Factory Tuner,High-Performance</td>\n",
       "                        <td id=\"T_ecf22182_399b_11ec_a415_0242ac130202row1_col10\" class=\"data row1 col10\" >Compact</td>\n",
       "                        <td id=\"T_ecf22182_399b_11ec_a415_0242ac130202row1_col11\" class=\"data row1 col11\" >Convertible</td>\n",
       "                        <td id=\"T_ecf22182_399b_11ec_a415_0242ac130202row1_col12\" class=\"data row1 col12\" >22</td>\n",
       "                        <td id=\"T_ecf22182_399b_11ec_a415_0242ac130202row1_col13\" class=\"data row1 col13\" >15</td>\n",
       "                        <td id=\"T_ecf22182_399b_11ec_a415_0242ac130202row1_col14\" class=\"data row1 col14\" >1385</td>\n",
       "                        <td id=\"T_ecf22182_399b_11ec_a415_0242ac130202row1_col15\" class=\"data row1 col15\" >92345</td>\n",
       "            </tr>\n",
       "            <tr>\n",
       "                        <th id=\"T_ecf22182_399b_11ec_a415_0242ac130202level0_row2\" class=\"row_heading level0 row2\" >2982</th>\n",
       "                        <td id=\"T_ecf22182_399b_11ec_a415_0242ac130202row2_col0\" class=\"data row2 col0\" >Chevrolet</td>\n",
       "                        <td id=\"T_ecf22182_399b_11ec_a415_0242ac130202row2_col1\" class=\"data row2 col1\" >Corvette</td>\n",
       "                        <td id=\"T_ecf22182_399b_11ec_a415_0242ac130202row2_col2\" class=\"data row2 col2\" >2015</td>\n",
       "                        <td id=\"T_ecf22182_399b_11ec_a415_0242ac130202row2_col3\" class=\"data row2 col3\" >premium unleaded (required)</td>\n",
       "                        <td id=\"T_ecf22182_399b_11ec_a415_0242ac130202row2_col4\" class=\"data row2 col4\" >650.000000</td>\n",
       "                        <td id=\"T_ecf22182_399b_11ec_a415_0242ac130202row2_col5\" class=\"data row2 col5\" >8.000000</td>\n",
       "                        <td id=\"T_ecf22182_399b_11ec_a415_0242ac130202row2_col6\" class=\"data row2 col6\" >MANUAL</td>\n",
       "                        <td id=\"T_ecf22182_399b_11ec_a415_0242ac130202row2_col7\" class=\"data row2 col7\" >rear wheel drive</td>\n",
       "                        <td id=\"T_ecf22182_399b_11ec_a415_0242ac130202row2_col8\" class=\"data row2 col8\" >2.000000</td>\n",
       "                        <td id=\"T_ecf22182_399b_11ec_a415_0242ac130202row2_col9\" class=\"data row2 col9\" >Factory Tuner,High-Performance</td>\n",
       "                        <td id=\"T_ecf22182_399b_11ec_a415_0242ac130202row2_col10\" class=\"data row2 col10\" >Compact</td>\n",
       "                        <td id=\"T_ecf22182_399b_11ec_a415_0242ac130202row2_col11\" class=\"data row2 col11\" >Convertible</td>\n",
       "                        <td id=\"T_ecf22182_399b_11ec_a415_0242ac130202row2_col12\" class=\"data row2 col12\" >22</td>\n",
       "                        <td id=\"T_ecf22182_399b_11ec_a415_0242ac130202row2_col13\" class=\"data row2 col13\" >15</td>\n",
       "                        <td id=\"T_ecf22182_399b_11ec_a415_0242ac130202row2_col14\" class=\"data row2 col14\" >1385</td>\n",
       "                        <td id=\"T_ecf22182_399b_11ec_a415_0242ac130202row2_col15\" class=\"data row2 col15\" >91650</td>\n",
       "            </tr>\n",
       "            <tr>\n",
       "                        <th id=\"T_ecf22182_399b_11ec_a415_0242ac130202level0_row3\" class=\"row_heading level0 row3\" >3008</th>\n",
       "                        <td id=\"T_ecf22182_399b_11ec_a415_0242ac130202row3_col0\" class=\"data row3 col0\" >Chevrolet</td>\n",
       "                        <td id=\"T_ecf22182_399b_11ec_a415_0242ac130202row3_col1\" class=\"data row3 col1\" >Corvette</td>\n",
       "                        <td id=\"T_ecf22182_399b_11ec_a415_0242ac130202row3_col2\" class=\"data row3 col2\" >2017</td>\n",
       "                        <td id=\"T_ecf22182_399b_11ec_a415_0242ac130202row3_col3\" class=\"data row3 col3\" >premium unleaded (required)</td>\n",
       "                        <td id=\"T_ecf22182_399b_11ec_a415_0242ac130202row3_col4\" class=\"data row3 col4\" >650.000000</td>\n",
       "                        <td id=\"T_ecf22182_399b_11ec_a415_0242ac130202row3_col5\" class=\"data row3 col5\" >8.000000</td>\n",
       "                        <td id=\"T_ecf22182_399b_11ec_a415_0242ac130202row3_col6\" class=\"data row3 col6\" >MANUAL</td>\n",
       "                        <td id=\"T_ecf22182_399b_11ec_a415_0242ac130202row3_col7\" class=\"data row3 col7\" >rear wheel drive</td>\n",
       "                        <td id=\"T_ecf22182_399b_11ec_a415_0242ac130202row3_col8\" class=\"data row3 col8\" >2.000000</td>\n",
       "                        <td id=\"T_ecf22182_399b_11ec_a415_0242ac130202row3_col9\" class=\"data row3 col9\" >Factory Tuner,High-Performance</td>\n",
       "                        <td id=\"T_ecf22182_399b_11ec_a415_0242ac130202row3_col10\" class=\"data row3 col10\" >Compact</td>\n",
       "                        <td id=\"T_ecf22182_399b_11ec_a415_0242ac130202row3_col11\" class=\"data row3 col11\" >Coupe</td>\n",
       "                        <td id=\"T_ecf22182_399b_11ec_a415_0242ac130202row3_col12\" class=\"data row3 col12\" >22</td>\n",
       "                        <td id=\"T_ecf22182_399b_11ec_a415_0242ac130202row3_col13\" class=\"data row3 col13\" >15</td>\n",
       "                        <td id=\"T_ecf22182_399b_11ec_a415_0242ac130202row3_col14\" class=\"data row3 col14\" >1385</td>\n",
       "                        <td id=\"T_ecf22182_399b_11ec_a415_0242ac130202row3_col15\" class=\"data row3 col15\" >88395</td>\n",
       "            </tr>\n",
       "            <tr>\n",
       "                        <th id=\"T_ecf22182_399b_11ec_a415_0242ac130202level0_row4\" class=\"row_heading level0 row4\" >2986</th>\n",
       "                        <td id=\"T_ecf22182_399b_11ec_a415_0242ac130202row4_col0\" class=\"data row4 col0\" >Chevrolet</td>\n",
       "                        <td id=\"T_ecf22182_399b_11ec_a415_0242ac130202row4_col1\" class=\"data row4 col1\" >Corvette</td>\n",
       "                        <td id=\"T_ecf22182_399b_11ec_a415_0242ac130202row4_col2\" class=\"data row4 col2\" >2016</td>\n",
       "                        <td id=\"T_ecf22182_399b_11ec_a415_0242ac130202row4_col3\" class=\"data row4 col3\" >premium unleaded (required)</td>\n",
       "                        <td id=\"T_ecf22182_399b_11ec_a415_0242ac130202row4_col4\" class=\"data row4 col4\" >650.000000</td>\n",
       "                        <td id=\"T_ecf22182_399b_11ec_a415_0242ac130202row4_col5\" class=\"data row4 col5\" >8.000000</td>\n",
       "                        <td id=\"T_ecf22182_399b_11ec_a415_0242ac130202row4_col6\" class=\"data row4 col6\" >MANUAL</td>\n",
       "                        <td id=\"T_ecf22182_399b_11ec_a415_0242ac130202row4_col7\" class=\"data row4 col7\" >rear wheel drive</td>\n",
       "                        <td id=\"T_ecf22182_399b_11ec_a415_0242ac130202row4_col8\" class=\"data row4 col8\" >2.000000</td>\n",
       "                        <td id=\"T_ecf22182_399b_11ec_a415_0242ac130202row4_col9\" class=\"data row4 col9\" >Factory Tuner,High-Performance</td>\n",
       "                        <td id=\"T_ecf22182_399b_11ec_a415_0242ac130202row4_col10\" class=\"data row4 col10\" >Compact</td>\n",
       "                        <td id=\"T_ecf22182_399b_11ec_a415_0242ac130202row4_col11\" class=\"data row4 col11\" >Coupe</td>\n",
       "                        <td id=\"T_ecf22182_399b_11ec_a415_0242ac130202row4_col12\" class=\"data row4 col12\" >22</td>\n",
       "                        <td id=\"T_ecf22182_399b_11ec_a415_0242ac130202row4_col13\" class=\"data row4 col13\" >15</td>\n",
       "                        <td id=\"T_ecf22182_399b_11ec_a415_0242ac130202row4_col14\" class=\"data row4 col14\" >1385</td>\n",
       "                        <td id=\"T_ecf22182_399b_11ec_a415_0242ac130202row4_col15\" class=\"data row4 col15\" >88345</td>\n",
       "            </tr>\n",
       "            <tr>\n",
       "                        <th id=\"T_ecf22182_399b_11ec_a415_0242ac130202level0_row5\" class=\"row_heading level0 row5\" >2974</th>\n",
       "                        <td id=\"T_ecf22182_399b_11ec_a415_0242ac130202row5_col0\" class=\"data row5 col0\" >Chevrolet</td>\n",
       "                        <td id=\"T_ecf22182_399b_11ec_a415_0242ac130202row5_col1\" class=\"data row5 col1\" >Corvette</td>\n",
       "                        <td id=\"T_ecf22182_399b_11ec_a415_0242ac130202row5_col2\" class=\"data row5 col2\" >2015</td>\n",
       "                        <td id=\"T_ecf22182_399b_11ec_a415_0242ac130202row5_col3\" class=\"data row5 col3\" >premium unleaded (required)</td>\n",
       "                        <td id=\"T_ecf22182_399b_11ec_a415_0242ac130202row5_col4\" class=\"data row5 col4\" >650.000000</td>\n",
       "                        <td id=\"T_ecf22182_399b_11ec_a415_0242ac130202row5_col5\" class=\"data row5 col5\" >8.000000</td>\n",
       "                        <td id=\"T_ecf22182_399b_11ec_a415_0242ac130202row5_col6\" class=\"data row5 col6\" >MANUAL</td>\n",
       "                        <td id=\"T_ecf22182_399b_11ec_a415_0242ac130202row5_col7\" class=\"data row5 col7\" >rear wheel drive</td>\n",
       "                        <td id=\"T_ecf22182_399b_11ec_a415_0242ac130202row5_col8\" class=\"data row5 col8\" >2.000000</td>\n",
       "                        <td id=\"T_ecf22182_399b_11ec_a415_0242ac130202row5_col9\" class=\"data row5 col9\" >Factory Tuner,High-Performance</td>\n",
       "                        <td id=\"T_ecf22182_399b_11ec_a415_0242ac130202row5_col10\" class=\"data row5 col10\" >Compact</td>\n",
       "                        <td id=\"T_ecf22182_399b_11ec_a415_0242ac130202row5_col11\" class=\"data row5 col11\" >Coupe</td>\n",
       "                        <td id=\"T_ecf22182_399b_11ec_a415_0242ac130202row5_col12\" class=\"data row5 col12\" >22</td>\n",
       "                        <td id=\"T_ecf22182_399b_11ec_a415_0242ac130202row5_col13\" class=\"data row5 col13\" >15</td>\n",
       "                        <td id=\"T_ecf22182_399b_11ec_a415_0242ac130202row5_col14\" class=\"data row5 col14\" >1385</td>\n",
       "                        <td id=\"T_ecf22182_399b_11ec_a415_0242ac130202row5_col15\" class=\"data row5 col15\" >87650</td>\n",
       "            </tr>\n",
       "    </tbody></table>"
      ],
      "text/plain": [
       "<pandas.io.formats.style.Styler at 0x7f0ffc1bc210>"
      ]
     },
     "execution_count": 17,
     "metadata": {},
     "output_type": "execute_result"
    }
   ],
   "source": [
    "Chevrolet=car[car['Make'].str.contains('Chevrolet')]\n",
    "chev=Chevrolet.sort_values(by=['MSRP'],ascending=False).nlargest(6, 'MSRP')\n",
    "chevmodel= chev.style.background_gradient(cmap='Greens')\n",
    "chevmodel"
   ]
  },
  {
   "cell_type": "markdown",
   "metadata": {
    "papermill": {
     "duration": 0.047628,
     "end_time": "2021-10-30T16:10:40.071460",
     "exception": false,
     "start_time": "2021-10-30T16:10:40.023832",
     "status": "completed"
    },
    "tags": []
   },
   "source": [
    "  The Corvette model ranks the highest in the manufacturer's suggested retail price (MSRP). If we take a look at the features, The models of all 3 years have the same features except for the Vehicle Style: Convertible Corvette are worth more than Coupe Corvette.\n",
    "     \n",
    "  * That leads us to the question: What are the Vehicle Styles out there and which ones are considered to contribute more to the manufacturer's suggested retail price (MSRP)? "
   ]
  },
  {
   "cell_type": "code",
   "execution_count": 18,
   "metadata": {
    "_kg_hide-input": true,
    "execution": {
     "iopub.execute_input": "2021-10-30T16:10:40.168853Z",
     "iopub.status.busy": "2021-10-30T16:10:40.168208Z",
     "iopub.status.idle": "2021-10-30T16:10:41.121602Z",
     "shell.execute_reply": "2021-10-30T16:10:41.122387Z",
     "shell.execute_reply.started": "2021-10-30T16:05:32.916694Z"
    },
    "papermill": {
     "duration": 1.003323,
     "end_time": "2021-10-30T16:10:41.122551",
     "exception": false,
     "start_time": "2021-10-30T16:10:40.119228",
     "status": "completed"
    },
    "tags": []
   },
   "outputs": [
    {
     "data": {
      "text/plain": [
       "(array([ 0,  1,  2,  3,  4,  5,  6,  7,  8,  9, 10, 11, 12, 13, 14, 15]),\n",
       " <a list of 16 Text major ticklabel objects>)"
      ]
     },
     "execution_count": 18,
     "metadata": {},
     "output_type": "execute_result"
    },
    {
     "data": {
      "image/png": "[encoded data removed]",
      "text/plain": [
       "<Figure size 1440x720 with 1 Axes>"
      ]
     },
     "metadata": {},
     "output_type": "display_data"
    }
   ],
   "source": [
    "sns.set({'figure.figsize':(20,10)})\n",
    "VS=sns.barplot(x=car['MSRP'], y=car['Vehicle Style'])\n",
    "plt.title('Vehicle Style and MSRP', weight='bold', fontsize=18)\n",
    "plt.xlabel('MSRP', weight='bold',fontsize=14)\n",
    "plt.ylabel('Vehicle Style', weight='bold', fontsize=14)\n",
    "plt.xticks(weight='bold')\n",
    "plt.yticks(weight='bold')\n",
    "\n"
   ]
  },
  {
   "cell_type": "markdown",
   "metadata": {
    "papermill": {
     "duration": 0.049975,
     "end_time": "2021-10-30T16:10:41.270657",
     "exception": false,
     "start_time": "2021-10-30T16:10:41.220682",
     "status": "completed"
    },
    "tags": []
   },
   "source": [
    "  Coupe, Convertible, 4dr SUV and Sedan styles : Make the model worth more in terms of the manufacturer's suggested retail price (MSRP)\n",
    "  \n",
    "  2 dr Suv, Cargo Van, Convertible SUV and 2 dr Hatchback : Make the model worth less in terms of the manufacturer's suggested retail price (MSRP)"
   ]
  },
  {
   "cell_type": "markdown",
   "metadata": {
    "papermill": {
     "duration": 0.048428,
     "end_time": "2021-10-30T16:10:41.367309",
     "exception": false,
     "start_time": "2021-10-30T16:10:41.318881",
     "status": "completed"
    },
    "tags": []
   },
   "source": [
    "* Now that we've seen the most 'expensive' brand ( Chevrolet), Let's move on to the Least 'expensive' brands."
   ]
  },
  {
   "cell_type": "code",
   "execution_count": 19,
   "metadata": {
    "_kg_hide-input": true,
    "execution": {
     "iopub.execute_input": "2021-10-30T16:10:41.474584Z",
     "iopub.status.busy": "2021-10-30T16:10:41.473518Z",
     "iopub.status.idle": "2021-10-30T16:10:41.524668Z",
     "shell.execute_reply": "2021-10-30T16:10:41.524044Z",
     "shell.execute_reply.started": "2021-10-30T16:05:33.861697Z"
    },
    "papermill": {
     "duration": 0.109002,
     "end_time": "2021-10-30T16:10:41.524847",
     "exception": false,
     "start_time": "2021-10-30T16:10:41.415845",
     "status": "completed"
    },
    "tags": []
   },
   "outputs": [
    {
     "data": {
      "application/vnd.plotly.v1+json": {
       "config": {
        "linkText": "Export to plot.ly",
        "plotlyServerURL": "https://plot.ly",
        "showLink": true
       },
       "data": [
        {
         "marker": {
          "color": "rgba(255, 153, 51, 0.6)",
          "line": {
           "color": "rgba(255, 153, 51, 1.0)",
           "width": 1
          }
         },
         "name": "MSRP",
         "orientation": "v",
         "text": "",
         "type": "bar",
         "x": [
          "Oldsmobile",
          "Tesla",
          "FIAT",
          "McLaren",
          "Scion",
          "Spyker",
          "HUMMER",
          "Alfa Romeo",
          "Plymouth",
          "Genesis"
         ],
         "y": [
          1731381,
          1534600,
          1405555,
          1199025,
          1195950,
          639970,
          619895,
          308000,
          256078,
          139850
         ]
        }
       ],
       "layout": {
        "legend": {
         "bgcolor": "#F5F6F9",
         "font": {
          "color": "#4D5663"
         }
        },
        "paper_bgcolor": "#F5F6F9",
        "plot_bgcolor": "#F5F6F9",
        "template": {
         "data": {
          "bar": [
           {
            "error_x": {
             "color": "#2a3f5f"
            },
            "error_y": {
             "color": "#2a3f5f"
            },
            "marker": {
             "line": {
              "color": "#E5ECF6",
              "width": 0.5
             }
            },
            "type": "bar"
           }
          ],
          "barpolar": [
           {
            "marker": {
             "line": {
              "color": "#E5ECF6",
              "width": 0.5
             }
            },
            "type": "barpolar"
           }
          ],
          "carpet": [
           {
            "aaxis": {
             "endlinecolor": "#2a3f5f",
             "gridcolor": "white",
             "linecolor": "white",
             "minorgridcolor": "white",
             "startlinecolor": "#2a3f5f"
            },
            "baxis": {
             "endlinecolor": "#2a3f5f",
             "gridcolor": "white",
             "linecolor": "white",
             "minorgridcolor": "white",
             "startlinecolor": "#2a3f5f"
            },
            "type": "carpet"
           }
          ],
          "choropleth": [
           {
            "colorbar": {
             "outlinewidth": 0,
             "ticks": ""
            },
            "type": "choropleth"
           }
          ],
          "contour": [
           {
            "colorbar": {
             "outlinewidth": 0,
             "ticks": ""
            },
            "colorscale": [
             [
              0.0,
              "#0d0887"
             ],
             [
              0.1111111111111111,
              "#46039f"
             ],
             [
              0.2222222222222222,
              "#7201a8"
             ],
             [
              0.3333333333333333,
              "#9c179e"
             ],
             [
              0.4444444444444444,
              "#bd3786"
             ],
             [
              0.5555555555555556,
              "#d8576b"
             ],
             [
              0.6666666666666666,
              "#ed7953"
             ],
             [
              0.7777777777777778,
              "#fb9f3a"
             ],
             [
              0.8888888888888888,
              "#fdca26"
             ],
             [
              1.0,
              "#f0f921"
             ]
            ],
            "type": "contour"
           }
          ],
          "contourcarpet": [
           {
            "colorbar": {
             "outlinewidth": 0,
             "ticks": ""
            },
            "type": "contourcarpet"
           }
          ],
          "heatmap": [
           {
            "colorbar": {
             "outlinewidth": 0,
             "ticks": ""
            },
            "colorscale": [
             [
              0.0,
              "#0d0887"
             ],
             [
              0.1111111111111111,
              "#46039f"
             ],
             [
              0.2222222222222222,
              "#7201a8"
             ],
             [
              0.3333333333333333,
              "#9c179e"
             ],
             [
              0.4444444444444444,
              "#bd3786"
             ],
             [
              0.5555555555555556,
              "#d8576b"
             ],
             [
              0.6666666666666666,
              "#ed7953"
             ],
             [
              0.7777777777777778,
              "#fb9f3a"
             ],
             [
              0.8888888888888888,
              "#fdca26"
             ],
             [
              1.0,
              "#f0f921"
             ]
            ],
            "type": "heatmap"
           }
          ],
          "heatmapgl": [
           {
            "colorbar": {
             "outlinewidth": 0,
             "ticks": ""
            },
            "colorscale": [
             [
              0.0,
              "#0d0887"
             ],
             [
              0.1111111111111111,
              "#46039f"
             ],
             [
              0.2222222222222222,
              "#7201a8"
             ],
             [
              0.3333333333333333,
              "#9c179e"
             ],
             [
              0.4444444444444444,
              "#bd3786"
             ],
             [
              0.5555555555555556,
              "#d8576b"
             ],
             [
              0.6666666666666666,
              "#ed7953"
             ],
             [
              0.7777777777777778,
              "#fb9f3a"
             ],
             [
              0.8888888888888888,
              "#fdca26"
             ],
             [
              1.0,
              "#f0f921"
             ]
            ],
            "type": "heatmapgl"
           }
          ],
          "histogram": [
           {
            "marker": {
             "colorbar": {
              "outlinewidth": 0,
              "ticks": ""
             }
            },
            "type": "histogram"
           }
          ],
          "histogram2d": [
           {
            "colorbar": {
             "outlinewidth": 0,
             "ticks": ""
            },
            "colorscale": [
             [
              0.0,
              "#0d0887"
             ],
             [
              0.1111111111111111,
              "#46039f"
             ],
             [
              0.2222222222222222,
              "#7201a8"
             ],
             [
              0.3333333333333333,
              "#9c179e"
             ],
             [
              0.4444444444444444,
              "#bd3786"
             ],
             [
              0.5555555555555556,
              "#d8576b"
             ],
             [
              0.6666666666666666,
              "#ed7953"
             ],
             [
              0.7777777777777778,
              "#fb9f3a"
             ],
             [
              0.8888888888888888,
              "#fdca26"
             ],
             [
              1.0,
              "#f0f921"
             ]
            ],
            "type": "histogram2d"
           }
          ],
          "histogram2dcontour": [
           {
            "colorbar": {
             "outlinewidth": 0,
             "ticks": ""
            },
            "colorscale": [
             [
              0.0,
              "#0d0887"
             ],
             [
              0.1111111111111111,
              "#46039f"
             ],
             [
              0.2222222222222222,
              "#7201a8"
             ],
             [
              0.3333333333333333,
              "#9c179e"
             ],
             [
              0.4444444444444444,
              "#bd3786"
             ],
             [
              0.5555555555555556,
              "#d8576b"
             ],
             [
              0.6666666666666666,
              "#ed7953"
             ],
             [
              0.7777777777777778,
              "#fb9f3a"
             ],
             [
              0.8888888888888888,
              "#fdca26"
             ],
             [
              1.0,
              "#f0f921"
             ]
            ],
            "type": "histogram2dcontour"
           }
          ],
          "mesh3d": [
           {
            "colorbar": {
             "outlinewidth": 0,
             "ticks": ""
            },
            "type": "mesh3d"
           }
          ],
          "parcoords": [
           {
            "line": {
             "colorbar": {
              "outlinewidth": 0,
              "ticks": ""
             }
            },
            "type": "parcoords"
           }
          ],
          "pie": [
           {
            "automargin": true,
            "type": "pie"
           }
          ],
          "scatter": [
           {
            "marker": {
             "colorbar": {
              "outlinewidth": 0,
              "ticks": ""
             }
            },
            "type": "scatter"
           }
          ],
          "scatter3d": [
           {
            "line": {
             "colorbar": {
              "outlinewidth": 0,
              "ticks": ""
             }
            },
            "marker": {
             "colorbar": {
              "outlinewidth": 0,
              "ticks": ""
             }
            },
            "type": "scatter3d"
           }
          ],
          "scattercarpet": [
           {
            "marker": {
             "colorbar": {
              "outlinewidth": 0,
              "ticks": ""
             }
            },
            "type": "scattercarpet"
           }
          ],
          "scattergeo": [
           {
            "marker": {
             "colorbar": {
              "outlinewidth": 0,
              "ticks": ""
             }
            },
            "type": "scattergeo"
           }
          ],
          "scattergl": [
           {
            "marker": {
             "colorbar": {
              "outlinewidth": 0,
              "ticks": ""
             }
            },
            "type": "scattergl"
           }
          ],
          "scattermapbox": [
           {
            "marker": {
             "colorbar": {
              "outlinewidth": 0,
              "ticks": ""
             }
            },
            "type": "scattermapbox"
           }
          ],
          "scatterpolar": [
           {
            "marker": {
             "colorbar": {
              "outlinewidth": 0,
              "ticks": ""
             }
            },
            "type": "scatterpolar"
           }
          ],
          "scatterpolargl": [
           {
            "marker": {
             "colorbar": {
              "outlinewidth": 0,
              "ticks": ""
             }
            },
            "type": "scatterpolargl"
           }
          ],
          "scatterternary": [
           {
            "marker": {
             "colorbar": {
              "outlinewidth": 0,
              "ticks": ""
             }
            },
            "type": "scatterternary"
           }
          ],
          "surface": [
           {
            "colorbar": {
             "outlinewidth": 0,
             "ticks": ""
            },
            "colorscale": [
             [
              0.0,
              "#0d0887"
             ],
             [
              0.1111111111111111,
              "#46039f"
             ],
             [
              0.2222222222222222,
              "#7201a8"
             ],
             [
              0.3333333333333333,
              "#9c179e"
             ],
             [
              0.4444444444444444,
              "#bd3786"
             ],
             [
              0.5555555555555556,
              "#d8576b"
             ],
             [
              0.6666666666666666,
              "#ed7953"
             ],
             [
              0.7777777777777778,
              "#fb9f3a"
             ],
             [
              0.8888888888888888,
              "#fdca26"
             ],
             [
              1.0,
              "#f0f921"
             ]
            ],
            "type": "surface"
           }
          ],
          "table": [
           {
            "cells": {
             "fill": {
              "color": "#EBF0F8"
             },
             "line": {
              "color": "white"
             }
            },
            "header": {
             "fill": {
              "color": "#C8D4E3"
             },
             "line": {
              "color": "white"
             }
            },
            "type": "table"
           }
          ]
         },
         "layout": {
          "annotationdefaults": {
           "arrowcolor": "#2a3f5f",
           "arrowhead": 0,
           "arrowwidth": 1
          },
          "coloraxis": {
           "colorbar": {
            "outlinewidth": 0,
            "ticks": ""
           }
          },
          "colorscale": {
           "diverging": [
            [
             0,
             "#8e0152"
            ],
            [
             0.1,
             "#c51b7d"
            ],
            [
             0.2,
             "#de77ae"
            ],
            [
             0.3,
             "#f1b6da"
            ],
            [
             0.4,
             "#fde0ef"
            ],
            [
             0.5,
             "#f7f7f7"
            ],
            [
             0.6,
             "#e6f5d0"
            ],
            [
             0.7,
             "#b8e186"
            ],
            [
             0.8,
             "#7fbc41"
            ],
            [
             0.9,
             "#4d9221"
            ],
            [
             1,
             "#276419"
            ]
           ],
           "sequential": [
            [
             0.0,
             "#0d0887"
            ],
            [
             0.1111111111111111,
             "#46039f"
            ],
            [
             0.2222222222222222,
             "#7201a8"
            ],
            [
             0.3333333333333333,
             "#9c179e"
            ],
            [
             0.4444444444444444,
             "#bd3786"
            ],
            [
             0.5555555555555556,
             "#d8576b"
            ],
            [
             0.6666666666666666,
             "#ed7953"
            ],
            [
             0.7777777777777778,
             "#fb9f3a"
            ],
            [
             0.8888888888888888,
             "#fdca26"
            ],
            [
             1.0,
             "#f0f921"
            ]
           ],
           "sequentialminus": [
            [
             0.0,
             "#0d0887"
            ],
            [
             0.1111111111111111,
             "#46039f"
            ],
            [
             0.2222222222222222,
             "#7201a8"
            ],
            [
             0.3333333333333333,
             "#9c179e"
            ],
            [
             0.4444444444444444,
             "#bd3786"
            ],
            [
             0.5555555555555556,
             "#d8576b"
            ],
            [
             0.6666666666666666,
             "#ed7953"
            ],
            [
             0.7777777777777778,
             "#fb9f3a"
            ],
            [
             0.8888888888888888,
             "#fdca26"
            ],
            [
             1.0,
             "#f0f921"
            ]
           ]
          },
          "colorway": [
           "#636efa",
           "#EF553B",
           "#00cc96",
           "#ab63fa",
           "#FFA15A",
           "#19d3f3",
           "#FF6692",
           "#B6E880",
           "#FF97FF",
           "#FECB52"
          ],
          "font": {
           "color": "#2a3f5f"
          },
          "geo": {
           "bgcolor": "white",
           "lakecolor": "white",
           "landcolor": "#E5ECF6",
           "showlakes": true,
           "showland": true,
           "subunitcolor": "white"
          },
          "hoverlabel": {
           "align": "left"
          },
          "hovermode": "closest",
          "mapbox": {
           "style": "light"
          },
          "paper_bgcolor": "white",
          "plot_bgcolor": "#E5ECF6",
          "polar": {
           "angularaxis": {
            "gridcolor": "white",
            "linecolor": "white",
            "ticks": ""
           },
           "bgcolor": "#E5ECF6",
           "radialaxis": {
            "gridcolor": "white",
            "linecolor": "white",
            "ticks": ""
           }
          },
          "scene": {
           "xaxis": {
            "backgroundcolor": "#E5ECF6",
            "gridcolor": "white",
            "gridwidth": 2,
            "linecolor": "white",
            "showbackground": true,
            "ticks": "",
            "zerolinecolor": "white"
           },
           "yaxis": {
            "backgroundcolor": "#E5ECF6",
            "gridcolor": "white",
            "gridwidth": 2,
            "linecolor": "white",
            "showbackground": true,
            "ticks": "",
            "zerolinecolor": "white"
           },
           "zaxis": {
            "backgroundcolor": "#E5ECF6",
            "gridcolor": "white",
            "gridwidth": 2,
            "linecolor": "white",
            "showbackground": true,
            "ticks": "",
            "zerolinecolor": "white"
           }
          },
          "shapedefaults": {
           "line": {
            "color": "#2a3f5f"
           }
          },
          "ternary": {
           "aaxis": {
            "gridcolor": "white",
            "linecolor": "white",
            "ticks": ""
           },
           "baxis": {
            "gridcolor": "white",
            "linecolor": "white",
            "ticks": ""
           },
           "bgcolor": "#E5ECF6",
           "caxis": {
            "gridcolor": "white",
            "linecolor": "white",
            "ticks": ""
           }
          },
          "title": {
           "x": 0.05
          },
          "xaxis": {
           "automargin": true,
           "gridcolor": "white",
           "linecolor": "white",
           "ticks": "",
           "title": {
            "standoff": 15
           },
           "zerolinecolor": "white",
           "zerolinewidth": 2
          },
          "yaxis": {
           "automargin": true,
           "gridcolor": "white",
           "linecolor": "white",
           "ticks": "",
           "title": {
            "standoff": 15
           },
           "zerolinecolor": "white",
           "zerolinewidth": 2
          }
         }
        },
        "title": {
         "font": {
          "color": "#4D5663"
         },
         "text": "Top 10 least expensive Car Brands"
        },
        "xaxis": {
         "gridcolor": "#E1E5ED",
         "showgrid": true,
         "tickfont": {
          "color": "#4D5663"
         },
         "title": {
          "font": {
           "color": "#4D5663"
          },
          "text": "Make"
         },
         "zerolinecolor": "#E1E5ED"
        },
        "yaxis": {
         "gridcolor": "#E1E5ED",
         "showgrid": true,
         "tickfont": {
          "color": "#4D5663"
         },
         "title": {
          "font": {
           "color": "#4D5663"
          },
          "text": "MSRP"
         },
         "zerolinecolor": "#E1E5ED"
        }
       }
      },
      "text/html": [
       "<div>\n",
       "        \n",
       "        \n",
       "            <div id=\"2ebb8781-7203-4f9d-80bc-d10c86d53357\" class=\"plotly-graph-div\" style=\"height:525px; width:100%;\"></div>\n",
       "            <script type=\"text/javascript\">\n",
       "                require([\"plotly\"], function(Plotly) {\n",
       "                    window.PLOTLYENV=window.PLOTLYENV || {};\n",
       "                    window.PLOTLYENV.BASE_URL='https://plot.ly';\n",
       "                    \n",
       "                if (document.getElementById(\"2ebb8781-7203-4f9d-80bc-d10c86d53357\")) {\n",
       "                    Plotly.newPlot(\n",
       "                        '2ebb8781-7203-4f9d-80bc-d10c86d53357',\n",
       "                        [{\"marker\": {\"color\": \"rgba(255, 153, 51, 0.6)\", \"line\": {\"color\": \"rgba(255, 153, 51, 1.0)\", \"width\": 1}}, \"name\": \"MSRP\", \"orientation\": \"v\", \"text\": \"\", \"type\": \"bar\", \"x\": [\"Oldsmobile\", \"Tesla\", \"FIAT\", \"McLaren\", \"Scion\", \"Spyker\", \"HUMMER\", \"Alfa Romeo\", \"Plymouth\", \"Genesis\"], \"y\": [1731381, 1534600, 1405555, 1199025, 1195950, 639970, 619895, 308000, 256078, 139850]}],\n",
       "                        {\"legend\": {\"bgcolor\": \"#F5F6F9\", \"font\": {\"color\": \"#4D5663\"}}, \"paper_bgcolor\": \"#F5F6F9\", \"plot_bgcolor\": \"#F5F6F9\", \"template\": {\"data\": {\"bar\": [{\"error_x\": {\"color\": \"#2a3f5f\"}, \"error_y\": {\"color\": \"#2a3f5f\"}, \"marker\": {\"line\": {\"color\": \"#E5ECF6\", \"width\": 0.5}}, \"type\": \"bar\"}], \"barpolar\": [{\"marker\": {\"line\": {\"color\": \"#E5ECF6\", \"width\": 0.5}}, \"type\": \"barpolar\"}], \"carpet\": [{\"aaxis\": {\"endlinecolor\": \"#2a3f5f\", \"gridcolor\": \"white\", \"linecolor\": \"white\", \"minorgridcolor\": \"white\", \"startlinecolor\": \"#2a3f5f\"}, \"baxis\": {\"endlinecolor\": \"#2a3f5f\", \"gridcolor\": \"white\", \"linecolor\": \"white\", \"minorgridcolor\": \"white\", \"startlinecolor\": \"#2a3f5f\"}, \"type\": \"carpet\"}], \"choropleth\": [{\"colorbar\": {\"outlinewidth\": 0, \"ticks\": \"\"}, \"type\": \"choropleth\"}], \"contour\": [{\"colorbar\": {\"outlinewidth\": 0, \"ticks\": \"\"}, \"colorscale\": [[0.0, \"#0d0887\"], [0.1111111111111111, \"#46039f\"], [0.2222222222222222, \"#7201a8\"], [0.3333333333333333, \"#9c179e\"], [0.4444444444444444, \"#bd3786\"], [0.5555555555555556, \"#d8576b\"], [0.6666666666666666, \"#ed7953\"], [0.7777777777777778, \"#fb9f3a\"], [0.8888888888888888, \"#fdca26\"], [1.0, \"#f0f921\"]], \"type\": \"contour\"}], \"contourcarpet\": [{\"colorbar\": {\"outlinewidth\": 0, \"ticks\": \"\"}, \"type\": \"contourcarpet\"}], \"heatmap\": [{\"colorbar\": {\"outlinewidth\": 0, \"ticks\": \"\"}, \"colorscale\": [[0.0, \"#0d0887\"], [0.1111111111111111, \"#46039f\"], [0.2222222222222222, \"#7201a8\"], [0.3333333333333333, \"#9c179e\"], [0.4444444444444444, \"#bd3786\"], [0.5555555555555556, \"#d8576b\"], [0.6666666666666666, \"#ed7953\"], [0.7777777777777778, \"#fb9f3a\"], [0.8888888888888888, \"#fdca26\"], [1.0, \"#f0f921\"]], \"type\": \"heatmap\"}], \"heatmapgl\": [{\"colorbar\": {\"outlinewidth\": 0, \"ticks\": \"\"}, \"colorscale\": [[0.0, \"#0d0887\"], [0.1111111111111111, \"#46039f\"], [0.2222222222222222, \"#7201a8\"], [0.3333333333333333, \"#9c179e\"], [0.4444444444444444, \"#bd3786\"], [0.5555555555555556, \"#d8576b\"], [0.6666666666666666, \"#ed7953\"], [0.7777777777777778, \"#fb9f3a\"], [0.8888888888888888, \"#fdca26\"], [1.0, \"#f0f921\"]], \"type\": \"heatmapgl\"}], \"histogram\": [{\"marker\": {\"colorbar\": {\"outlinewidth\": 0, \"ticks\": \"\"}}, \"type\": \"histogram\"}], \"histogram2d\": [{\"colorbar\": {\"outlinewidth\": 0, \"ticks\": \"\"}, \"colorscale\": [[0.0, \"#0d0887\"], [0.1111111111111111, \"#46039f\"], [0.2222222222222222, \"#7201a8\"], [0.3333333333333333, \"#9c179e\"], [0.4444444444444444, \"#bd3786\"], [0.5555555555555556, \"#d8576b\"], [0.6666666666666666, \"#ed7953\"], [0.7777777777777778, \"#fb9f3a\"], [0.8888888888888888, \"#fdca26\"], [1.0, \"#f0f921\"]], \"type\": \"histogram2d\"}], \"histogram2dcontour\": [{\"colorbar\": {\"outlinewidth\": 0, \"ticks\": \"\"}, \"colorscale\": [[0.0, \"#0d0887\"], [0.1111111111111111, \"#46039f\"], [0.2222222222222222, \"#7201a8\"], [0.3333333333333333, \"#9c179e\"], [0.4444444444444444, \"#bd3786\"], [0.5555555555555556, \"#d8576b\"], [0.6666666666666666, \"#ed7953\"], [0.7777777777777778, \"#fb9f3a\"], [0.8888888888888888, \"#fdca26\"], [1.0, \"#f0f921\"]], \"type\": \"histogram2dcontour\"}], \"mesh3d\": [{\"colorbar\": {\"outlinewidth\": 0, \"ticks\": \"\"}, \"type\": \"mesh3d\"}], \"parcoords\": [{\"line\": {\"colorbar\": {\"outlinewidth\": 0, \"ticks\": \"\"}}, \"type\": \"parcoords\"}], \"pie\": [{\"automargin\": true, \"type\": \"pie\"}], \"scatter\": [{\"marker\": {\"colorbar\": {\"outlinewidth\": 0, \"ticks\": \"\"}}, \"type\": \"scatter\"}], \"scatter3d\": [{\"line\": {\"colorbar\": {\"outlinewidth\": 0, \"ticks\": \"\"}}, \"marker\": {\"colorbar\": {\"outlinewidth\": 0, \"ticks\": \"\"}}, \"type\": \"scatter3d\"}], \"scattercarpet\": [{\"marker\": {\"colorbar\": {\"outlinewidth\": 0, \"ticks\": \"\"}}, \"type\": \"scattercarpet\"}], \"scattergeo\": [{\"marker\": {\"colorbar\": {\"outlinewidth\": 0, \"ticks\": \"\"}}, \"type\": \"scattergeo\"}], \"scattergl\": [{\"marker\": {\"colorbar\": {\"outlinewidth\": 0, \"ticks\": \"\"}}, \"type\": \"scattergl\"}], \"scattermapbox\": [{\"marker\": {\"colorbar\": {\"outlinewidth\": 0, \"ticks\": \"\"}}, \"type\": \"scattermapbox\"}], \"scatterpolar\": [{\"marker\": {\"colorbar\": {\"outlinewidth\": 0, \"ticks\": \"\"}}, \"type\": \"scatterpolar\"}], \"scatterpolargl\": [{\"marker\": {\"colorbar\": {\"outlinewidth\": 0, \"ticks\": \"\"}}, \"type\": \"scatterpolargl\"}], \"scatterternary\": [{\"marker\": {\"colorbar\": {\"outlinewidth\": 0, \"ticks\": \"\"}}, \"type\": \"scatterternary\"}], \"surface\": [{\"colorbar\": {\"outlinewidth\": 0, \"ticks\": \"\"}, \"colorscale\": [[0.0, \"#0d0887\"], [0.1111111111111111, \"#46039f\"], [0.2222222222222222, \"#7201a8\"], [0.3333333333333333, \"#9c179e\"], [0.4444444444444444, \"#bd3786\"], [0.5555555555555556, \"#d8576b\"], [0.6666666666666666, \"#ed7953\"], [0.7777777777777778, \"#fb9f3a\"], [0.8888888888888888, \"#fdca26\"], [1.0, \"#f0f921\"]], \"type\": \"surface\"}], \"table\": [{\"cells\": {\"fill\": {\"color\": \"#EBF0F8\"}, \"line\": {\"color\": \"white\"}}, \"header\": {\"fill\": {\"color\": \"#C8D4E3\"}, \"line\": {\"color\": \"white\"}}, \"type\": \"table\"}]}, \"layout\": {\"annotationdefaults\": {\"arrowcolor\": \"#2a3f5f\", \"arrowhead\": 0, \"arrowwidth\": 1}, \"coloraxis\": {\"colorbar\": {\"outlinewidth\": 0, \"ticks\": \"\"}}, \"colorscale\": {\"diverging\": [[0, \"#8e0152\"], [0.1, \"#c51b7d\"], [0.2, \"#de77ae\"], [0.3, \"#f1b6da\"], [0.4, \"#fde0ef\"], [0.5, \"#f7f7f7\"], [0.6, \"#e6f5d0\"], [0.7, \"#b8e186\"], [0.8, \"#7fbc41\"], [0.9, \"#4d9221\"], [1, \"#276419\"]], \"sequential\": [[0.0, \"#0d0887\"], [0.1111111111111111, \"#46039f\"], [0.2222222222222222, \"#7201a8\"], [0.3333333333333333, \"#9c179e\"], [0.4444444444444444, \"#bd3786\"], [0.5555555555555556, \"#d8576b\"], [0.6666666666666666, \"#ed7953\"], [0.7777777777777778, \"#fb9f3a\"], [0.8888888888888888, \"#fdca26\"], [1.0, \"#f0f921\"]], \"sequentialminus\": [[0.0, \"#0d0887\"], [0.1111111111111111, \"#46039f\"], [0.2222222222222222, \"#7201a8\"], [0.3333333333333333, \"#9c179e\"], [0.4444444444444444, \"#bd3786\"], [0.5555555555555556, \"#d8576b\"], [0.6666666666666666, \"#ed7953\"], [0.7777777777777778, \"#fb9f3a\"], [0.8888888888888888, \"#fdca26\"], [1.0, \"#f0f921\"]]}, \"colorway\": [\"#636efa\", \"#EF553B\", \"#00cc96\", \"#ab63fa\", \"#FFA15A\", \"#19d3f3\", \"#FF6692\", \"#B6E880\", \"#FF97FF\", \"#FECB52\"], \"font\": {\"color\": \"#2a3f5f\"}, \"geo\": {\"bgcolor\": \"white\", \"lakecolor\": \"white\", \"landcolor\": \"#E5ECF6\", \"showlakes\": true, \"showland\": true, \"subunitcolor\": \"white\"}, \"hoverlabel\": {\"align\": \"left\"}, \"hovermode\": \"closest\", \"mapbox\": {\"style\": \"light\"}, \"paper_bgcolor\": \"white\", \"plot_bgcolor\": \"#E5ECF6\", \"polar\": {\"angularaxis\": {\"gridcolor\": \"white\", \"linecolor\": \"white\", \"ticks\": \"\"}, \"bgcolor\": \"#E5ECF6\", \"radialaxis\": {\"gridcolor\": \"white\", \"linecolor\": \"white\", \"ticks\": \"\"}}, \"scene\": {\"xaxis\": {\"backgroundcolor\": \"#E5ECF6\", \"gridcolor\": \"white\", \"gridwidth\": 2, \"linecolor\": \"white\", \"showbackground\": true, \"ticks\": \"\", \"zerolinecolor\": \"white\"}, \"yaxis\": {\"backgroundcolor\": \"#E5ECF6\", \"gridcolor\": \"white\", \"gridwidth\": 2, \"linecolor\": \"white\", \"showbackground\": true, \"ticks\": \"\", \"zerolinecolor\": \"white\"}, \"zaxis\": {\"backgroundcolor\": \"#E5ECF6\", \"gridcolor\": \"white\", \"gridwidth\": 2, \"linecolor\": \"white\", \"showbackground\": true, \"ticks\": \"\", \"zerolinecolor\": \"white\"}}, \"shapedefaults\": {\"line\": {\"color\": \"#2a3f5f\"}}, \"ternary\": {\"aaxis\": {\"gridcolor\": \"white\", \"linecolor\": \"white\", \"ticks\": \"\"}, \"baxis\": {\"gridcolor\": \"white\", \"linecolor\": \"white\", \"ticks\": \"\"}, \"bgcolor\": \"#E5ECF6\", \"caxis\": {\"gridcolor\": \"white\", \"linecolor\": \"white\", \"ticks\": \"\"}}, \"title\": {\"x\": 0.05}, \"xaxis\": {\"automargin\": true, \"gridcolor\": \"white\", \"linecolor\": \"white\", \"ticks\": \"\", \"title\": {\"standoff\": 15}, \"zerolinecolor\": \"white\", \"zerolinewidth\": 2}, \"yaxis\": {\"automargin\": true, \"gridcolor\": \"white\", \"linecolor\": \"white\", \"ticks\": \"\", \"title\": {\"standoff\": 15}, \"zerolinecolor\": \"white\", \"zerolinewidth\": 2}}}, \"title\": {\"font\": {\"color\": \"#4D5663\"}, \"text\": \"Top 10 least expensive Car Brands\"}, \"xaxis\": {\"gridcolor\": \"#E1E5ED\", \"showgrid\": true, \"tickfont\": {\"color\": \"#4D5663\"}, \"title\": {\"font\": {\"color\": \"#4D5663\"}, \"text\": \"Make\"}, \"zerolinecolor\": \"#E1E5ED\"}, \"yaxis\": {\"gridcolor\": \"#E1E5ED\", \"showgrid\": true, \"tickfont\": {\"color\": \"#4D5663\"}, \"title\": {\"font\": {\"color\": \"#4D5663\"}, \"text\": \"MSRP\"}, \"zerolinecolor\": \"#E1E5ED\"}},\n",
       "                        {\"showLink\": true, \"linkText\": \"Export to plot.ly\", \"plotlyServerURL\": \"https://plot.ly\", \"responsive\": true}\n",
       "                    ).then(function(){\n",
       "                            \n",
       "var gd = document.getElementById('2ebb8781-7203-4f9d-80bc-d10c86d53357');\n",
       "var x = new MutationObserver(function (mutations, observer) {{\n",
       "        var display = window.getComputedStyle(gd).display;\n",
       "        if (!display || display === 'none') {{\n",
       "            console.log([gd, 'removed!']);\n",
       "            Plotly.purge(gd);\n",
       "            observer.disconnect();\n",
       "        }}\n",
       "}});\n",
       "\n",
       "// Listen for the removal of the full notebook cells\n",
       "var notebookContainer = gd.closest('#notebook-container');\n",
       "if (notebookContainer) {{\n",
       "    x.observe(notebookContainer, {childList: true});\n",
       "}}\n",
       "\n",
       "// Listen for the clearing of the current output cell\n",
       "var outputEl = gd.closest('.output');\n",
       "if (outputEl) {{\n",
       "    x.observe(outputEl, {childList: true});\n",
       "}}\n",
       "\n",
       "                        })\n",
       "                };\n",
       "                });\n",
       "            </script>\n",
       "        </div>"
      ]
     },
     "metadata": {},
     "output_type": "display_data"
    }
   ],
   "source": [
    "modelp1 = car.groupby(['Make']).sum()[['MSRP','Popularity','Engine HP','Engine Cylinders','Number of Doors']].nsmallest(10, 'MSRP')\n",
    "modelp1.groupby(['Make']).sum()['MSRP'].nlargest(10).iplot(kind='bar', xTitle='Make', yTitle='MSRP',\n",
    "                                                                     title='Top 10 least expensive Car Brands')"
   ]
  },
  {
   "cell_type": "markdown",
   "metadata": {
    "papermill": {
     "duration": 0.053302,
     "end_time": "2021-10-30T16:10:41.632301",
     "exception": false,
     "start_time": "2021-10-30T16:10:41.578999",
     "status": "completed"
    },
    "tags": []
   },
   "source": [
    "* We will choose the brand FIAT in order to study the features of the Least expensive brand. "
   ]
  },
  {
   "cell_type": "code",
   "execution_count": 20,
   "metadata": {
    "_kg_hide-input": true,
    "execution": {
     "iopub.execute_input": "2021-10-30T16:10:41.765007Z",
     "iopub.status.busy": "2021-10-30T16:10:41.759581Z",
     "iopub.status.idle": "2021-10-30T16:10:41.792919Z",
     "shell.execute_reply": "2021-10-30T16:10:41.792308Z",
     "shell.execute_reply.started": "2021-10-30T16:05:33.918331Z"
    },
    "papermill": {
     "duration": 0.106186,
     "end_time": "2021-10-30T16:10:41.793037",
     "exception": false,
     "start_time": "2021-10-30T16:10:41.686851",
     "status": "completed"
    },
    "tags": []
   },
   "outputs": [
    {
     "data": {
      "text/html": [
       "<style  type=\"text/css\" >\n",
       "    #T_ee076302_399b_11ec_a415_0242ac130202row0_col2 {\n",
       "            background-color:  #7f2704;\n",
       "            color:  #f1f1f1;\n",
       "        }    #T_ee076302_399b_11ec_a415_0242ac130202row0_col4 {\n",
       "            background-color:  #fff5eb;\n",
       "            color:  #000000;\n",
       "        }    #T_ee076302_399b_11ec_a415_0242ac130202row0_col5 {\n",
       "            background-color:  #fff5eb;\n",
       "            color:  #000000;\n",
       "        }    #T_ee076302_399b_11ec_a415_0242ac130202row0_col8 {\n",
       "            background-color:  #fff5eb;\n",
       "            color:  #000000;\n",
       "        }    #T_ee076302_399b_11ec_a415_0242ac130202row0_col12 {\n",
       "            background-color:  #fff5eb;\n",
       "            color:  #000000;\n",
       "        }    #T_ee076302_399b_11ec_a415_0242ac130202row0_col13 {\n",
       "            background-color:  #fff5eb;\n",
       "            color:  #000000;\n",
       "        }    #T_ee076302_399b_11ec_a415_0242ac130202row0_col14 {\n",
       "            background-color:  #fff5eb;\n",
       "            color:  #000000;\n",
       "        }    #T_ee076302_399b_11ec_a415_0242ac130202row0_col15 {\n",
       "            background-color:  #fff5eb;\n",
       "            color:  #000000;\n",
       "        }    #T_ee076302_399b_11ec_a415_0242ac130202row1_col2 {\n",
       "            background-color:  #fff5eb;\n",
       "            color:  #000000;\n",
       "        }    #T_ee076302_399b_11ec_a415_0242ac130202row1_col4 {\n",
       "            background-color:  #fff5eb;\n",
       "            color:  #000000;\n",
       "        }    #T_ee076302_399b_11ec_a415_0242ac130202row1_col5 {\n",
       "            background-color:  #fff5eb;\n",
       "            color:  #000000;\n",
       "        }    #T_ee076302_399b_11ec_a415_0242ac130202row1_col8 {\n",
       "            background-color:  #fff5eb;\n",
       "            color:  #000000;\n",
       "        }    #T_ee076302_399b_11ec_a415_0242ac130202row1_col12 {\n",
       "            background-color:  #7f2704;\n",
       "            color:  #f1f1f1;\n",
       "        }    #T_ee076302_399b_11ec_a415_0242ac130202row1_col13 {\n",
       "            background-color:  #7f2704;\n",
       "            color:  #f1f1f1;\n",
       "        }    #T_ee076302_399b_11ec_a415_0242ac130202row1_col14 {\n",
       "            background-color:  #fff5eb;\n",
       "            color:  #000000;\n",
       "        }    #T_ee076302_399b_11ec_a415_0242ac130202row1_col15 {\n",
       "            background-color:  #f67925;\n",
       "            color:  #000000;\n",
       "        }    #T_ee076302_399b_11ec_a415_0242ac130202row2_col2 {\n",
       "            background-color:  #fd8c3b;\n",
       "            color:  #000000;\n",
       "        }    #T_ee076302_399b_11ec_a415_0242ac130202row2_col4 {\n",
       "            background-color:  #fff5eb;\n",
       "            color:  #000000;\n",
       "        }    #T_ee076302_399b_11ec_a415_0242ac130202row2_col5 {\n",
       "            background-color:  #fff5eb;\n",
       "            color:  #000000;\n",
       "        }    #T_ee076302_399b_11ec_a415_0242ac130202row2_col8 {\n",
       "            background-color:  #fff5eb;\n",
       "            color:  #000000;\n",
       "        }    #T_ee076302_399b_11ec_a415_0242ac130202row2_col12 {\n",
       "            background-color:  #7f2704;\n",
       "            color:  #f1f1f1;\n",
       "        }    #T_ee076302_399b_11ec_a415_0242ac130202row2_col13 {\n",
       "            background-color:  #7f2704;\n",
       "            color:  #f1f1f1;\n",
       "        }    #T_ee076302_399b_11ec_a415_0242ac130202row2_col14 {\n",
       "            background-color:  #fff5eb;\n",
       "            color:  #000000;\n",
       "        }    #T_ee076302_399b_11ec_a415_0242ac130202row2_col15 {\n",
       "            background-color:  #e95e0d;\n",
       "            color:  #000000;\n",
       "        }    #T_ee076302_399b_11ec_a415_0242ac130202row3_col2 {\n",
       "            background-color:  #7f2704;\n",
       "            color:  #f1f1f1;\n",
       "        }    #T_ee076302_399b_11ec_a415_0242ac130202row3_col4 {\n",
       "            background-color:  #fff5eb;\n",
       "            color:  #000000;\n",
       "        }    #T_ee076302_399b_11ec_a415_0242ac130202row3_col5 {\n",
       "            background-color:  #fff5eb;\n",
       "            color:  #000000;\n",
       "        }    #T_ee076302_399b_11ec_a415_0242ac130202row3_col8 {\n",
       "            background-color:  #fff5eb;\n",
       "            color:  #000000;\n",
       "        }    #T_ee076302_399b_11ec_a415_0242ac130202row3_col12 {\n",
       "            background-color:  #fff5eb;\n",
       "            color:  #000000;\n",
       "        }    #T_ee076302_399b_11ec_a415_0242ac130202row3_col13 {\n",
       "            background-color:  #fff5eb;\n",
       "            color:  #000000;\n",
       "        }    #T_ee076302_399b_11ec_a415_0242ac130202row3_col14 {\n",
       "            background-color:  #fff5eb;\n",
       "            color:  #000000;\n",
       "        }    #T_ee076302_399b_11ec_a415_0242ac130202row3_col15 {\n",
       "            background-color:  #802704;\n",
       "            color:  #f1f1f1;\n",
       "        }    #T_ee076302_399b_11ec_a415_0242ac130202row4_col2 {\n",
       "            background-color:  #fff5eb;\n",
       "            color:  #000000;\n",
       "        }    #T_ee076302_399b_11ec_a415_0242ac130202row4_col4 {\n",
       "            background-color:  #fff5eb;\n",
       "            color:  #000000;\n",
       "        }    #T_ee076302_399b_11ec_a415_0242ac130202row4_col5 {\n",
       "            background-color:  #fff5eb;\n",
       "            color:  #000000;\n",
       "        }    #T_ee076302_399b_11ec_a415_0242ac130202row4_col8 {\n",
       "            background-color:  #fff5eb;\n",
       "            color:  #000000;\n",
       "        }    #T_ee076302_399b_11ec_a415_0242ac130202row4_col12 {\n",
       "            background-color:  #7f2704;\n",
       "            color:  #f1f1f1;\n",
       "        }    #T_ee076302_399b_11ec_a415_0242ac130202row4_col13 {\n",
       "            background-color:  #7f2704;\n",
       "            color:  #f1f1f1;\n",
       "        }    #T_ee076302_399b_11ec_a415_0242ac130202row4_col14 {\n",
       "            background-color:  #fff5eb;\n",
       "            color:  #000000;\n",
       "        }    #T_ee076302_399b_11ec_a415_0242ac130202row4_col15 {\n",
       "            background-color:  #7f2704;\n",
       "            color:  #f1f1f1;\n",
       "        }</style><table id=\"T_ee076302_399b_11ec_a415_0242ac130202\" ><thead>    <tr>        <th class=\"blank level0\" ></th>        <th class=\"col_heading level0 col0\" >Make</th>        <th class=\"col_heading level0 col1\" >Model</th>        <th class=\"col_heading level0 col2\" >Year</th>        <th class=\"col_heading level0 col3\" >Engine Fuel Type</th>        <th class=\"col_heading level0 col4\" >Engine HP</th>        <th class=\"col_heading level0 col5\" >Engine Cylinders</th>        <th class=\"col_heading level0 col6\" >Transmission Type</th>        <th class=\"col_heading level0 col7\" >Driven_Wheels</th>        <th class=\"col_heading level0 col8\" >Number of Doors</th>        <th class=\"col_heading level0 col9\" >Market Category</th>        <th class=\"col_heading level0 col10\" >Vehicle Size</th>        <th class=\"col_heading level0 col11\" >Vehicle Style</th>        <th class=\"col_heading level0 col12\" >highway MPG</th>        <th class=\"col_heading level0 col13\" >city mpg</th>        <th class=\"col_heading level0 col14\" >Popularity</th>        <th class=\"col_heading level0 col15\" >MSRP</th>    </tr></thead><tbody>\n",
       "                <tr>\n",
       "                        <th id=\"T_ee076302_399b_11ec_a415_0242ac130202level0_row0\" class=\"row_heading level0 row0\" >569</th>\n",
       "                        <td id=\"T_ee076302_399b_11ec_a415_0242ac130202row0_col0\" class=\"data row0 col0\" >FIAT</td>\n",
       "                        <td id=\"T_ee076302_399b_11ec_a415_0242ac130202row0_col1\" class=\"data row0 col1\" >500</td>\n",
       "                        <td id=\"T_ee076302_399b_11ec_a415_0242ac130202row0_col2\" class=\"data row0 col2\" >2017</td>\n",
       "                        <td id=\"T_ee076302_399b_11ec_a415_0242ac130202row0_col3\" class=\"data row0 col3\" >premium unleaded (recommended)</td>\n",
       "                        <td id=\"T_ee076302_399b_11ec_a415_0242ac130202row0_col4\" class=\"data row0 col4\" >101.000000</td>\n",
       "                        <td id=\"T_ee076302_399b_11ec_a415_0242ac130202row0_col5\" class=\"data row0 col5\" >4.000000</td>\n",
       "                        <td id=\"T_ee076302_399b_11ec_a415_0242ac130202row0_col6\" class=\"data row0 col6\" >AUTOMATIC</td>\n",
       "                        <td id=\"T_ee076302_399b_11ec_a415_0242ac130202row0_col7\" class=\"data row0 col7\" >front wheel drive</td>\n",
       "                        <td id=\"T_ee076302_399b_11ec_a415_0242ac130202row0_col8\" class=\"data row0 col8\" >2.000000</td>\n",
       "                        <td id=\"T_ee076302_399b_11ec_a415_0242ac130202row0_col9\" class=\"data row0 col9\" >Hatchback</td>\n",
       "                        <td id=\"T_ee076302_399b_11ec_a415_0242ac130202row0_col10\" class=\"data row0 col10\" >Compact</td>\n",
       "                        <td id=\"T_ee076302_399b_11ec_a415_0242ac130202row0_col11\" class=\"data row0 col11\" >2dr Hatchback</td>\n",
       "                        <td id=\"T_ee076302_399b_11ec_a415_0242ac130202row0_col12\" class=\"data row0 col12\" >33</td>\n",
       "                        <td id=\"T_ee076302_399b_11ec_a415_0242ac130202row0_col13\" class=\"data row0 col13\" >27</td>\n",
       "                        <td id=\"T_ee076302_399b_11ec_a415_0242ac130202row0_col14\" class=\"data row0 col14\" >819</td>\n",
       "                        <td id=\"T_ee076302_399b_11ec_a415_0242ac130202row0_col15\" class=\"data row0 col15\" >15990</td>\n",
       "            </tr>\n",
       "            <tr>\n",
       "                        <th id=\"T_ee076302_399b_11ec_a415_0242ac130202level0_row1\" class=\"row_heading level0 row1\" >552</th>\n",
       "                        <td id=\"T_ee076302_399b_11ec_a415_0242ac130202row1_col0\" class=\"data row1 col0\" >FIAT</td>\n",
       "                        <td id=\"T_ee076302_399b_11ec_a415_0242ac130202row1_col1\" class=\"data row1 col1\" >500</td>\n",
       "                        <td id=\"T_ee076302_399b_11ec_a415_0242ac130202row1_col2\" class=\"data row1 col2\" >2015</td>\n",
       "                        <td id=\"T_ee076302_399b_11ec_a415_0242ac130202row1_col3\" class=\"data row1 col3\" >premium unleaded (recommended)</td>\n",
       "                        <td id=\"T_ee076302_399b_11ec_a415_0242ac130202row1_col4\" class=\"data row1 col4\" >101.000000</td>\n",
       "                        <td id=\"T_ee076302_399b_11ec_a415_0242ac130202row1_col5\" class=\"data row1 col5\" >4.000000</td>\n",
       "                        <td id=\"T_ee076302_399b_11ec_a415_0242ac130202row1_col6\" class=\"data row1 col6\" >MANUAL</td>\n",
       "                        <td id=\"T_ee076302_399b_11ec_a415_0242ac130202row1_col7\" class=\"data row1 col7\" >front wheel drive</td>\n",
       "                        <td id=\"T_ee076302_399b_11ec_a415_0242ac130202row1_col8\" class=\"data row1 col8\" >2.000000</td>\n",
       "                        <td id=\"T_ee076302_399b_11ec_a415_0242ac130202row1_col9\" class=\"data row1 col9\" >Hatchback</td>\n",
       "                        <td id=\"T_ee076302_399b_11ec_a415_0242ac130202row1_col10\" class=\"data row1 col10\" >Compact</td>\n",
       "                        <td id=\"T_ee076302_399b_11ec_a415_0242ac130202row1_col11\" class=\"data row1 col11\" >2dr Hatchback</td>\n",
       "                        <td id=\"T_ee076302_399b_11ec_a415_0242ac130202row1_col12\" class=\"data row1 col12\" >40</td>\n",
       "                        <td id=\"T_ee076302_399b_11ec_a415_0242ac130202row1_col13\" class=\"data row1 col13\" >31</td>\n",
       "                        <td id=\"T_ee076302_399b_11ec_a415_0242ac130202row1_col14\" class=\"data row1 col14\" >819</td>\n",
       "                        <td id=\"T_ee076302_399b_11ec_a415_0242ac130202row1_col15\" class=\"data row1 col15\" >16845</td>\n",
       "            </tr>\n",
       "            <tr>\n",
       "                        <th id=\"T_ee076302_399b_11ec_a415_0242ac130202level0_row2\" class=\"row_heading level0 row2\" >559</th>\n",
       "                        <td id=\"T_ee076302_399b_11ec_a415_0242ac130202row2_col0\" class=\"data row2 col0\" >FIAT</td>\n",
       "                        <td id=\"T_ee076302_399b_11ec_a415_0242ac130202row2_col1\" class=\"data row2 col1\" >500</td>\n",
       "                        <td id=\"T_ee076302_399b_11ec_a415_0242ac130202row2_col2\" class=\"data row2 col2\" >2016</td>\n",
       "                        <td id=\"T_ee076302_399b_11ec_a415_0242ac130202row2_col3\" class=\"data row2 col3\" >premium unleaded (recommended)</td>\n",
       "                        <td id=\"T_ee076302_399b_11ec_a415_0242ac130202row2_col4\" class=\"data row2 col4\" >101.000000</td>\n",
       "                        <td id=\"T_ee076302_399b_11ec_a415_0242ac130202row2_col5\" class=\"data row2 col5\" >4.000000</td>\n",
       "                        <td id=\"T_ee076302_399b_11ec_a415_0242ac130202row2_col6\" class=\"data row2 col6\" >MANUAL</td>\n",
       "                        <td id=\"T_ee076302_399b_11ec_a415_0242ac130202row2_col7\" class=\"data row2 col7\" >front wheel drive</td>\n",
       "                        <td id=\"T_ee076302_399b_11ec_a415_0242ac130202row2_col8\" class=\"data row2 col8\" >2.000000</td>\n",
       "                        <td id=\"T_ee076302_399b_11ec_a415_0242ac130202row2_col9\" class=\"data row2 col9\" >Hatchback</td>\n",
       "                        <td id=\"T_ee076302_399b_11ec_a415_0242ac130202row2_col10\" class=\"data row2 col10\" >Compact</td>\n",
       "                        <td id=\"T_ee076302_399b_11ec_a415_0242ac130202row2_col11\" class=\"data row2 col11\" >2dr Hatchback</td>\n",
       "                        <td id=\"T_ee076302_399b_11ec_a415_0242ac130202row2_col12\" class=\"data row2 col12\" >40</td>\n",
       "                        <td id=\"T_ee076302_399b_11ec_a415_0242ac130202row2_col13\" class=\"data row2 col13\" >31</td>\n",
       "                        <td id=\"T_ee076302_399b_11ec_a415_0242ac130202row2_col14\" class=\"data row2 col14\" >819</td>\n",
       "                        <td id=\"T_ee076302_399b_11ec_a415_0242ac130202row2_col15\" class=\"data row2 col15\" >16995</td>\n",
       "            </tr>\n",
       "            <tr>\n",
       "                        <th id=\"T_ee076302_399b_11ec_a415_0242ac130202level0_row3\" class=\"row_heading level0 row3\" >566</th>\n",
       "                        <td id=\"T_ee076302_399b_11ec_a415_0242ac130202row3_col0\" class=\"data row3 col0\" >FIAT</td>\n",
       "                        <td id=\"T_ee076302_399b_11ec_a415_0242ac130202row3_col1\" class=\"data row3 col1\" >500</td>\n",
       "                        <td id=\"T_ee076302_399b_11ec_a415_0242ac130202row3_col2\" class=\"data row3 col2\" >2017</td>\n",
       "                        <td id=\"T_ee076302_399b_11ec_a415_0242ac130202row3_col3\" class=\"data row3 col3\" >premium unleaded (recommended)</td>\n",
       "                        <td id=\"T_ee076302_399b_11ec_a415_0242ac130202row3_col4\" class=\"data row3 col4\" >101.000000</td>\n",
       "                        <td id=\"T_ee076302_399b_11ec_a415_0242ac130202row3_col5\" class=\"data row3 col5\" >4.000000</td>\n",
       "                        <td id=\"T_ee076302_399b_11ec_a415_0242ac130202row3_col6\" class=\"data row3 col6\" >AUTOMATIC</td>\n",
       "                        <td id=\"T_ee076302_399b_11ec_a415_0242ac130202row3_col7\" class=\"data row3 col7\" >front wheel drive</td>\n",
       "                        <td id=\"T_ee076302_399b_11ec_a415_0242ac130202row3_col8\" class=\"data row3 col8\" >2.000000</td>\n",
       "                        <td id=\"T_ee076302_399b_11ec_a415_0242ac130202row3_col9\" class=\"data row3 col9\" >Crossover</td>\n",
       "                        <td id=\"T_ee076302_399b_11ec_a415_0242ac130202row3_col10\" class=\"data row3 col10\" >Compact</td>\n",
       "                        <td id=\"T_ee076302_399b_11ec_a415_0242ac130202row3_col11\" class=\"data row3 col11\" >Convertible</td>\n",
       "                        <td id=\"T_ee076302_399b_11ec_a415_0242ac130202row3_col12\" class=\"data row3 col12\" >33</td>\n",
       "                        <td id=\"T_ee076302_399b_11ec_a415_0242ac130202row3_col13\" class=\"data row3 col13\" >27</td>\n",
       "                        <td id=\"T_ee076302_399b_11ec_a415_0242ac130202row3_col14\" class=\"data row3 col14\" >819</td>\n",
       "                        <td id=\"T_ee076302_399b_11ec_a415_0242ac130202row3_col15\" class=\"data row3 col15\" >17485</td>\n",
       "            </tr>\n",
       "            <tr>\n",
       "                        <th id=\"T_ee076302_399b_11ec_a415_0242ac130202level0_row4\" class=\"row_heading level0 row4\" >548</th>\n",
       "                        <td id=\"T_ee076302_399b_11ec_a415_0242ac130202row4_col0\" class=\"data row4 col0\" >FIAT</td>\n",
       "                        <td id=\"T_ee076302_399b_11ec_a415_0242ac130202row4_col1\" class=\"data row4 col1\" >500</td>\n",
       "                        <td id=\"T_ee076302_399b_11ec_a415_0242ac130202row4_col2\" class=\"data row4 col2\" >2015</td>\n",
       "                        <td id=\"T_ee076302_399b_11ec_a415_0242ac130202row4_col3\" class=\"data row4 col3\" >premium unleaded (recommended)</td>\n",
       "                        <td id=\"T_ee076302_399b_11ec_a415_0242ac130202row4_col4\" class=\"data row4 col4\" >101.000000</td>\n",
       "                        <td id=\"T_ee076302_399b_11ec_a415_0242ac130202row4_col5\" class=\"data row4 col5\" >4.000000</td>\n",
       "                        <td id=\"T_ee076302_399b_11ec_a415_0242ac130202row4_col6\" class=\"data row4 col6\" >MANUAL</td>\n",
       "                        <td id=\"T_ee076302_399b_11ec_a415_0242ac130202row4_col7\" class=\"data row4 col7\" >front wheel drive</td>\n",
       "                        <td id=\"T_ee076302_399b_11ec_a415_0242ac130202row4_col8\" class=\"data row4 col8\" >2.000000</td>\n",
       "                        <td id=\"T_ee076302_399b_11ec_a415_0242ac130202row4_col9\" class=\"data row4 col9\" >Hatchback</td>\n",
       "                        <td id=\"T_ee076302_399b_11ec_a415_0242ac130202row4_col10\" class=\"data row4 col10\" >Compact</td>\n",
       "                        <td id=\"T_ee076302_399b_11ec_a415_0242ac130202row4_col11\" class=\"data row4 col11\" >2dr Hatchback</td>\n",
       "                        <td id=\"T_ee076302_399b_11ec_a415_0242ac130202row4_col12\" class=\"data row4 col12\" >40</td>\n",
       "                        <td id=\"T_ee076302_399b_11ec_a415_0242ac130202row4_col13\" class=\"data row4 col13\" >31</td>\n",
       "                        <td id=\"T_ee076302_399b_11ec_a415_0242ac130202row4_col14\" class=\"data row4 col14\" >819</td>\n",
       "                        <td id=\"T_ee076302_399b_11ec_a415_0242ac130202row4_col15\" class=\"data row4 col15\" >17495</td>\n",
       "            </tr>\n",
       "    </tbody></table>"
      ],
      "text/plain": [
       "<pandas.io.formats.style.Styler at 0x7f0ffba1f310>"
      ]
     },
     "execution_count": 20,
     "metadata": {},
     "output_type": "execute_result"
    }
   ],
   "source": [
    "F=car[car['Make'].str.contains('FIAT')]\n",
    "FI=F.sort_values(by=['MSRP'],ascending=False).nsmallest(5, 'MSRP')\n",
    "Fiat= FI.style.background_gradient(cmap='Oranges')\n",
    "Fiat"
   ]
  },
  {
   "cell_type": "markdown",
   "metadata": {
    "papermill": {
     "duration": 0.053409,
     "end_time": "2021-10-30T16:10:41.900585",
     "exception": false,
     "start_time": "2021-10-30T16:10:41.847176",
     "status": "completed"
    },
    "tags": []
   },
   "source": [
    "  Looking at the table above, We can come up with 3 remarks:\n",
    "     \n",
    "   1.  The Vehicle Style of the 500 model of FIAT brand is 2dr Hatchback; and as we've seen in the Vehicle Style plot earlier, 2dr Hatchback  is among the styles that make the brand worth less in terms of the manufacturer's suggested retail price ( MSRP).\n",
    "\n",
    "\n",
    " \n",
    " \n",
    "  \n",
    "  2. Some features such as Vehicle Size, Number of doors, and Transmission Type could be interchanged between Chevrolet and Fiat, Which could be interpreted as they have **low correlation with MSPR. Therefore, Which features have a high correlation to manufacturer's suggested retail price (MSRP)?**\n",
    "\n",
    "  \n",
    "  \n",
    "  3. Comparing the Chevrolet and Fiat dataframes, We can notice that the higher the Engine Horsepower is, the shorter the distance the car is able to travel for every gallon of fuel it uses in the highway the city and vice versa. \n",
    "         \n",
    "     Shouldn't cars with a high engine power produce more power and thus have a high highway and city mpg?\n",
    " \n",
    " \n",
    "\n",
    "\n",
    "* In order to answer these questions and understand this better, We will see the correlation between the features using a heatmap. "
   ]
  },
  {
   "cell_type": "markdown",
   "metadata": {
    "papermill": {
     "duration": 0.05301,
     "end_time": "2021-10-30T16:10:42.007389",
     "exception": false,
     "start_time": "2021-10-30T16:10:41.954379",
     "status": "completed"
    },
    "tags": []
   },
   "source": [
    "                                  2. Correlation between Features "
   ]
  },
  {
   "cell_type": "code",
   "execution_count": 21,
   "metadata": {
    "_kg_hide-input": true,
    "execution": {
     "iopub.execute_input": "2021-10-30T16:10:42.121682Z",
     "iopub.status.busy": "2021-10-30T16:10:42.121046Z",
     "iopub.status.idle": "2021-10-30T16:10:42.420301Z",
     "shell.execute_reply": "2021-10-30T16:10:42.419732Z",
     "shell.execute_reply.started": "2021-10-30T16:05:33.964062Z"
    },
    "papermill": {
     "duration": 0.359372,
     "end_time": "2021-10-30T16:10:42.420441",
     "exception": false,
     "start_time": "2021-10-30T16:10:42.061069",
     "status": "completed"
    },
    "tags": []
   },
   "outputs": [
    {
     "data": {
      "image/png": "[encoded data removed]",
      "text/plain": [
       "<Figure size 864x504 with 2 Axes>"
      ]
     },
     "metadata": {},
     "output_type": "display_data"
    }
   ],
   "source": [
    "car_corr=car.corr()\n",
    "f,ax=plt.subplots(figsize=(12,7))\n",
    "sns.heatmap(car_corr, cmap='viridis')\n",
    "plt.title(\"Correlation between features\", \n",
    "          weight='bold', \n",
    "          fontsize=18)\n",
    "plt.show()"
   ]
  },
  {
   "cell_type": "markdown",
   "metadata": {
    "papermill": {
     "duration": 0.055123,
     "end_time": "2021-10-30T16:10:42.530678",
     "exception": false,
     "start_time": "2021-10-30T16:10:42.475555",
     "status": "completed"
    },
    "tags": []
   },
   "source": [
    "There is a positive correlation between: \n",
    "*  Engine HP and Engine Cylinders\n",
    "*  Engine HP and the manufacturer's suggested retail price (MSRP)\n",
    "* Engine Cylinders and the manufacturer's suggested retail price (MSRP)\n",
    "\n",
    "\n",
    "                                            \n",
    "                                            "
   ]
  },
  {
   "cell_type": "markdown",
   "metadata": {
    "papermill": {
     "duration": 0.055457,
     "end_time": "2021-10-30T16:10:42.641384",
     "exception": false,
     "start_time": "2021-10-30T16:10:42.585927",
     "status": "completed"
    },
    "tags": []
   },
   "source": [
    "* Let's plot the graphs to have a better understading of these correlations."
   ]
  },
  {
   "cell_type": "code",
   "execution_count": 22,
   "metadata": {
    "_kg_hide-input": true,
    "execution": {
     "iopub.execute_input": "2021-10-30T16:10:42.766347Z",
     "iopub.status.busy": "2021-10-30T16:10:42.765598Z",
     "iopub.status.idle": "2021-10-30T16:10:43.971863Z",
     "shell.execute_reply": "2021-10-30T16:10:43.971108Z",
     "shell.execute_reply.started": "2021-10-30T16:05:34.242849Z"
    },
    "papermill": {
     "duration": 1.273995,
     "end_time": "2021-10-30T16:10:43.971995",
     "exception": false,
     "start_time": "2021-10-30T16:10:42.698000",
     "status": "completed"
    },
    "tags": []
   },
   "outputs": [
    {
     "data": {
      "image/png": "[encoded data removed]",
      "text/plain": [
       "<Figure size 1080x360 with 2 Axes>"
      ]
     },
     "metadata": {},
     "output_type": "display_data"
    }
   ],
   "source": [
    "plt.figure(figsize=(15,5))\n",
    "#first row, first col\n",
    "ax1 = plt.subplot2grid((1,2),(0,0))\n",
    "plt.scatter(x=car['Engine Cylinders'], y=car['Engine HP'], color='maroon', alpha=0.7)\n",
    "plt.title('Engine Cylinders on Engine HP', weight='bold', fontsize=18)\n",
    "plt.xlabel('Engine Cylinders', weight='bold',fontsize=14)\n",
    "plt.ylabel('Engine HP', weight='bold', fontsize=14)\n",
    "plt.xticks(weight='bold')\n",
    "plt.yticks(weight='bold')\n",
    "\n",
    "\n",
    "#first row sec col\n",
    "ax1 = plt.subplot2grid((1,2), (0, 1))\n",
    "sns.regplot(x=car['Engine HP'], y=car['MSRP'], color='maroon')\n",
    "plt.title('Engine HP on Engine MSRP', weight='bold', fontsize=18)\n",
    "plt.xlabel('MSRP', weight='bold',fontsize=14)\n",
    "plt.ylabel('Engine HP', weight='bold', fontsize=14)\n",
    "plt.xticks(weight='bold')\n",
    "plt.yticks(weight='bold')\n",
    "\n",
    "plt.show()"
   ]
  },
  {
   "cell_type": "markdown",
   "metadata": {
    "papermill": {
     "duration": 0.056534,
     "end_time": "2021-10-30T16:10:44.086090",
     "exception": false,
     "start_time": "2021-10-30T16:10:44.029556",
     "status": "completed"
    },
    "tags": []
   },
   "source": [
    "  An engine with more cylinders produces more power, and more power means a high MSRP."
   ]
  },
  {
   "cell_type": "markdown",
   "metadata": {
    "papermill": {
     "duration": 0.056795,
     "end_time": "2021-10-30T16:10:44.200410",
     "exception": false,
     "start_time": "2021-10-30T16:10:44.143615",
     "status": "completed"
    },
    "tags": []
   },
   "source": [
    "                  3.- Shouldn't cars with a high engine power produce more power and thus have a high highway and city mpg?\n",
    "                  \n",
    "         "
   ]
  },
  {
   "cell_type": "code",
   "execution_count": 23,
   "metadata": {
    "_kg_hide-input": false,
    "execution": {
     "iopub.execute_input": "2021-10-30T16:10:44.323618Z",
     "iopub.status.busy": "2021-10-30T16:10:44.322976Z",
     "iopub.status.idle": "2021-10-30T16:10:45.871174Z",
     "shell.execute_reply": "2021-10-30T16:10:45.871815Z",
     "shell.execute_reply.started": "2021-10-30T16:05:35.278670Z"
    },
    "papermill": {
     "duration": 1.614642,
     "end_time": "2021-10-30T16:10:45.872009",
     "exception": false,
     "start_time": "2021-10-30T16:10:44.257367",
     "status": "completed"
    },
    "tags": []
   },
   "outputs": [
    {
     "data": {
      "text/plain": [
       "(array([-100.,  -50.,    0.,   50.,  100.,  150.,  200.,  250.,  300.,\n",
       "         350.,  400.]),\n",
       " <a list of 11 Text major ticklabel objects>)"
      ]
     },
     "execution_count": 23,
     "metadata": {},
     "output_type": "execute_result"
    },
    {
     "data": {
      "image/png": "[encoded data removed]",
      "text/plain": [
       "<Figure size 1080x360 with 2 Axes>"
      ]
     },
     "metadata": {},
     "output_type": "display_data"
    }
   ],
   "source": [
    "plt.figure(figsize=(15,5))\n",
    "#first row, first col\n",
    "ax1 = plt.subplot2grid((1,2),(0,0))\n",
    "sns.regplot(x=car[\"Engine HP\"], y=car[\"highway MPG\"], line_kws={\"color\":\"red\",\"alpha\":1,\"lw\":5})\n",
    "plt.title('Highway MPG and Engine HP', weight='bold', fontsize=18)\n",
    "plt.xlabel('Engine HP', weight='bold',fontsize=14)\n",
    "plt.ylabel('Highway MPG', weight='bold', fontsize=14)\n",
    "plt.xticks(weight='bold')\n",
    "plt.yticks(weight='bold')\n",
    "\n",
    "#first row sec col\n",
    "ax1 = plt.subplot2grid((1,2), (0, 1))\n",
    "sns.regplot(x=car[\"MSRP\"], y=car[\"highway MPG\"], line_kws={\"color\":\"red\",\"alpha\":1,\"lw\":5})\n",
    "plt.title('Highway MPG and MSRP', weight='bold', fontsize=18)\n",
    "plt.xlabel('MSRP', weight='bold',fontsize=14)\n",
    "plt.ylabel('Highway MPG', weight='bold', fontsize=14)\n",
    "plt.xticks(weight='bold')\n",
    "plt.yticks(weight='bold')"
   ]
  },
  {
   "cell_type": "markdown",
   "metadata": {
    "papermill": {
     "duration": 0.059073,
     "end_time": "2021-10-30T16:10:45.989510",
     "exception": false,
     "start_time": "2021-10-30T16:10:45.930437",
     "status": "completed"
    },
    "tags": []
   },
   "source": [
    "  - Shouldn't cars with a high engine power produce more power and thus have a high highway and city mpg?\n",
    "  \n",
    "From both the heatmap and the plots above, we can see a negative correlation between highway and city mpg ( how far the car is able to travel for every gallon of fuel it uses in the highway and around the city) and the Engine HP. \n",
    "\n",
    "\n",
    "Horsepower is a measure of **work** that can be performed over a given **time** by an engine. The more power you have the higher the speed you can do it at during **a period of time**. Generally, **higher horsepower** comes from burning more fuel, so get **lower mpg**, more horsepower means less fuel economy.\n",
    "\n",
    "\n",
    "Basically, race cars and sports cars such as Corvette Have a High Engine Horsepower and a low mpg since they can speed and thus burn more fuel.\n",
    "\n",
    "Cars like FIAT have a lower Engine Horsepower but a higher mpg since the speed is limited and considered to be more fuel economy.\n",
    " "
   ]
  },
  {
   "cell_type": "markdown",
   "metadata": {
    "papermill": {
     "duration": 0.058157,
     "end_time": "2021-10-30T16:10:46.107154",
     "exception": false,
     "start_time": "2021-10-30T16:10:46.048997",
     "status": "completed"
    },
    "tags": []
   },
   "source": [
    "* How are other features correlated to the manufacturer's suggested retail price (MSRP)?"
   ]
  },
  {
   "cell_type": "code",
   "execution_count": 24,
   "metadata": {
    "_kg_hide-input": true,
    "_kg_hide-output": true,
    "execution": {
     "iopub.execute_input": "2021-10-30T16:10:46.229230Z",
     "iopub.status.busy": "2021-10-30T16:10:46.228509Z",
     "iopub.status.idle": "2021-10-30T16:10:47.263926Z",
     "shell.execute_reply": "2021-10-30T16:10:47.264413Z",
     "shell.execute_reply.started": "2021-10-30T16:05:37.077996Z"
    },
    "papermill": {
     "duration": 1.099272,
     "end_time": "2021-10-30T16:10:47.264564",
     "exception": false,
     "start_time": "2021-10-30T16:10:46.165292",
     "status": "completed"
    },
    "tags": []
   },
   "outputs": [
    {
     "data": {
      "image/png": "[encoded data removed]",
      "text/plain": [
       "<Figure size 1152x720 with 4 Axes>"
      ]
     },
     "metadata": {},
     "output_type": "display_data"
    }
   ],
   "source": [
    "\n",
    "fig= plt.figure(figsize=(16,10))\n",
    "#2 rows 2 cols\n",
    "#first row, first col\n",
    "ax1 = plt.subplot2grid((2,2),(0,0))\n",
    "sns.boxplot(x=car['Number of Doors'], y=car['MSRP'],color='Red')\n",
    "plt.title('Number of Doors', weight='bold', fontsize=14)\n",
    "\n",
    "#first row sec col\n",
    "ax1 = plt.subplot2grid((2,2), (0, 1))\n",
    "plt.scatter(x=car['Driven_Wheels'], y=car['MSRP'], color='Orange')\n",
    "plt.title('Driven Wheels', weight='bold', fontsize=14)\n",
    "\n",
    "\n",
    "\n",
    "#Second row first column\n",
    "\n",
    "ax1 = plt.subplot2grid((2,2), (1, 0))\n",
    "sns.barplot(x=car['Transmission Type'], y=car['MSRP'])\n",
    "plt.xticks(rotation=35)\n",
    "plt.title('Transmission Type', weight='bold', fontsize=14)\n",
    "\n",
    "\n",
    "#second row second column\n",
    "ax1 = plt.subplot2grid((2,2), (1, 1))\n",
    "sns.barplot(x=car['Vehicle Size'], y=car['MSRP'])\n",
    "\n",
    "plt.yticks(weight='bold')\n",
    "plt.title('Vehicle Size', weight='bold', fontsize=14)\n",
    "\n",
    "\n",
    "plt.show()"
   ]
  },
  {
   "cell_type": "markdown",
   "metadata": {
    "papermill": {
     "duration": 0.062724,
     "end_time": "2021-10-30T16:10:47.389366",
     "exception": false,
     "start_time": "2021-10-30T16:10:47.326642",
     "status": "completed"
    },
    "tags": []
   },
   "source": [
    "What contribute to a High Manufacturer's suggested retail price (MSRP) :\n",
    "      \n",
    "      \n",
    "      - Number of doors : Cars with 2 doors \n",
    "      \n",
    "      \n",
    "      - Driven Wheels : All wheel drive \n",
    "      \n",
    "      \n",
    "      - Transmission Type: Automated-Manual (It consists of a conventional manual transmission with an electronically-controlled hydraulic clutch and computerized gear shift control, and the driver can usually override the computer control with a clutchless \"manual\" mode.)\n",
    "      \n",
    "      \n",
    "      - Vehicle Size: Large\n",
    "      "
   ]
  },
  {
   "cell_type": "markdown",
   "metadata": {
    "papermill": {
     "duration": 0.059507,
     "end_time": "2021-10-30T16:10:47.508908",
     "exception": false,
     "start_time": "2021-10-30T16:10:47.449401",
     "status": "completed"
    },
    "tags": []
   },
   "source": [
    "* Now that we've see the Highest and lowest brands of cars in terms of the manufacturer's suggested retail price (MSRP). It would be intresting to look for the 5 TOP popular cars and their features."
   ]
  },
  {
   "cell_type": "code",
   "execution_count": 25,
   "metadata": {
    "_kg_hide-input": true,
    "execution": {
     "iopub.execute_input": "2021-10-30T16:10:47.635906Z",
     "iopub.status.busy": "2021-10-30T16:10:47.635275Z",
     "iopub.status.idle": "2021-10-30T16:10:47.686856Z",
     "shell.execute_reply": "2021-10-30T16:10:47.686130Z",
     "shell.execute_reply.started": "2021-10-30T16:05:38.079302Z"
    },
    "papermill": {
     "duration": 0.117079,
     "end_time": "2021-10-30T16:10:47.686981",
     "exception": false,
     "start_time": "2021-10-30T16:10:47.569902",
     "status": "completed"
    },
    "tags": []
   },
   "outputs": [
    {
     "data": {
      "application/vnd.plotly.v1+json": {
       "config": {
        "linkText": "Export to plot.ly",
        "plotlyServerURL": "https://plot.ly",
        "showLink": true
       },
       "data": [
        {
         "marker": {
          "color": "rgba(255, 153, 51, 0.6)",
          "line": {
           "color": "rgba(255, 153, 51, 1.0)",
           "width": 1
          }
         },
         "name": "Popularity",
         "orientation": "v",
         "text": "",
         "type": "bar",
         "x": [
          "Ford",
          "Chevrolet",
          "Toyota",
          "BMW",
          "Dodge",
          "Nissan"
         ],
         "y": [
          4983817,
          1555355,
          1515126,
          1307944,
          1158726,
          1121022
         ]
        }
       ],
       "layout": {
        "legend": {
         "bgcolor": "#F5F6F9",
         "font": {
          "color": "#4D5663"
         }
        },
        "paper_bgcolor": "#F5F6F9",
        "plot_bgcolor": "#F5F6F9",
        "template": {
         "data": {
          "bar": [
           {
            "error_x": {
             "color": "#2a3f5f"
            },
            "error_y": {
             "color": "#2a3f5f"
            },
            "marker": {
             "line": {
              "color": "#E5ECF6",
              "width": 0.5
             }
            },
            "type": "bar"
           }
          ],
          "barpolar": [
           {
            "marker": {
             "line": {
              "color": "#E5ECF6",
              "width": 0.5
             }
            },
            "type": "barpolar"
           }
          ],
          "carpet": [
           {
            "aaxis": {
             "endlinecolor": "#2a3f5f",
             "gridcolor": "white",
             "linecolor": "white",
             "minorgridcolor": "white",
             "startlinecolor": "#2a3f5f"
            },
            "baxis": {
             "endlinecolor": "#2a3f5f",
             "gridcolor": "white",
             "linecolor": "white",
             "minorgridcolor": "white",
             "startlinecolor": "#2a3f5f"
            },
            "type": "carpet"
           }
          ],
          "choropleth": [
           {
            "colorbar": {
             "outlinewidth": 0,
             "ticks": ""
            },
            "type": "choropleth"
           }
          ],
          "contour": [
           {
            "colorbar": {
             "outlinewidth": 0,
             "ticks": ""
            },
            "colorscale": [
             [
              0.0,
              "#0d0887"
             ],
             [
              0.1111111111111111,
              "#46039f"
             ],
             [
              0.2222222222222222,
              "#7201a8"
             ],
             [
              0.3333333333333333,
              "#9c179e"
             ],
             [
              0.4444444444444444,
              "#bd3786"
             ],
             [
              0.5555555555555556,
              "#d8576b"
             ],
             [
              0.6666666666666666,
              "#ed7953"
             ],
             [
              0.7777777777777778,
              "#fb9f3a"
             ],
             [
              0.8888888888888888,
              "#fdca26"
             ],
             [
              1.0,
              "#f0f921"
             ]
            ],
            "type": "contour"
           }
          ],
          "contourcarpet": [
           {
            "colorbar": {
             "outlinewidth": 0,
             "ticks": ""
            },
            "type": "contourcarpet"
           }
          ],
          "heatmap": [
           {
            "colorbar": {
             "outlinewidth": 0,
             "ticks": ""
            },
            "colorscale": [
             [
              0.0,
              "#0d0887"
             ],
             [
              0.1111111111111111,
              "#46039f"
             ],
             [
              0.2222222222222222,
              "#7201a8"
             ],
             [
              0.3333333333333333,
              "#9c179e"
             ],
             [
              0.4444444444444444,
              "#bd3786"
             ],
             [
              0.5555555555555556,
              "#d8576b"
             ],
             [
              0.6666666666666666,
              "#ed7953"
             ],
             [
              0.7777777777777778,
              "#fb9f3a"
             ],
             [
              0.8888888888888888,
              "#fdca26"
             ],
             [
              1.0,
              "#f0f921"
             ]
            ],
            "type": "heatmap"
           }
          ],
          "heatmapgl": [
           {
            "colorbar": {
             "outlinewidth": 0,
             "ticks": ""
            },
            "colorscale": [
             [
              0.0,
              "#0d0887"
             ],
             [
              0.1111111111111111,
              "#46039f"
             ],
             [
              0.2222222222222222,
              "#7201a8"
             ],
             [
              0.3333333333333333,
              "#9c179e"
             ],
             [
              0.4444444444444444,
              "#bd3786"
             ],
             [
              0.5555555555555556,
              "#d8576b"
             ],
             [
              0.6666666666666666,
              "#ed7953"
             ],
             [
              0.7777777777777778,
              "#fb9f3a"
             ],
             [
              0.8888888888888888,
              "#fdca26"
             ],
             [
              1.0,
              "#f0f921"
             ]
            ],
            "type": "heatmapgl"
           }
          ],
          "histogram": [
           {
            "marker": {
             "colorbar": {
              "outlinewidth": 0,
              "ticks": ""
             }
            },
            "type": "histogram"
           }
          ],
          "histogram2d": [
           {
            "colorbar": {
             "outlinewidth": 0,
             "ticks": ""
            },
            "colorscale": [
             [
              0.0,
              "#0d0887"
             ],
             [
              0.1111111111111111,
              "#46039f"
             ],
             [
              0.2222222222222222,
              "#7201a8"
             ],
             [
              0.3333333333333333,
              "#9c179e"
             ],
             [
              0.4444444444444444,
              "#bd3786"
             ],
             [
              0.5555555555555556,
              "#d8576b"
             ],
             [
              0.6666666666666666,
              "#ed7953"
             ],
             [
              0.7777777777777778,
              "#fb9f3a"
             ],
             [
              0.8888888888888888,
              "#fdca26"
             ],
             [
              1.0,
              "#f0f921"
             ]
            ],
            "type": "histogram2d"
           }
          ],
          "histogram2dcontour": [
           {
            "colorbar": {
             "outlinewidth": 0,
             "ticks": ""
            },
            "colorscale": [
             [
              0.0,
              "#0d0887"
             ],
             [
              0.1111111111111111,
              "#46039f"
             ],
             [
              0.2222222222222222,
              "#7201a8"
             ],
             [
              0.3333333333333333,
              "#9c179e"
             ],
             [
              0.4444444444444444,
              "#bd3786"
             ],
             [
              0.5555555555555556,
              "#d8576b"
             ],
             [
              0.6666666666666666,
              "#ed7953"
             ],
             [
              0.7777777777777778,
              "#fb9f3a"
             ],
             [
              0.8888888888888888,
              "#fdca26"
             ],
             [
              1.0,
              "#f0f921"
             ]
            ],
            "type": "histogram2dcontour"
           }
          ],
          "mesh3d": [
           {
            "colorbar": {
             "outlinewidth": 0,
             "ticks": ""
            },
            "type": "mesh3d"
           }
          ],
          "parcoords": [
           {
            "line": {
             "colorbar": {
              "outlinewidth": 0,
              "ticks": ""
             }
            },
            "type": "parcoords"
           }
          ],
          "pie": [
           {
            "automargin": true,
            "type": "pie"
           }
          ],
          "scatter": [
           {
            "marker": {
             "colorbar": {
              "outlinewidth": 0,
              "ticks": ""
             }
            },
            "type": "scatter"
           }
          ],
          "scatter3d": [
           {
            "line": {
             "colorbar": {
              "outlinewidth": 0,
              "ticks": ""
             }
            },
            "marker": {
             "colorbar": {
              "outlinewidth": 0,
              "ticks": ""
             }
            },
            "type": "scatter3d"
           }
          ],
          "scattercarpet": [
           {
            "marker": {
             "colorbar": {
              "outlinewidth": 0,
              "ticks": ""
             }
            },
            "type": "scattercarpet"
           }
          ],
          "scattergeo": [
           {
            "marker": {
             "colorbar": {
              "outlinewidth": 0,
              "ticks": ""
             }
            },
            "type": "scattergeo"
           }
          ],
          "scattergl": [
           {
            "marker": {
             "colorbar": {
              "outlinewidth": 0,
              "ticks": ""
             }
            },
            "type": "scattergl"
           }
          ],
          "scattermapbox": [
           {
            "marker": {
             "colorbar": {
              "outlinewidth": 0,
              "ticks": ""
             }
            },
            "type": "scattermapbox"
           }
          ],
          "scatterpolar": [
           {
            "marker": {
             "colorbar": {
              "outlinewidth": 0,
              "ticks": ""
             }
            },
            "type": "scatterpolar"
           }
          ],
          "scatterpolargl": [
           {
            "marker": {
             "colorbar": {
              "outlinewidth": 0,
              "ticks": ""
             }
            },
            "type": "scatterpolargl"
           }
          ],
          "scatterternary": [
           {
            "marker": {
             "colorbar": {
              "outlinewidth": 0,
              "ticks": ""
             }
            },
            "type": "scatterternary"
           }
          ],
          "surface": [
           {
            "colorbar": {
             "outlinewidth": 0,
             "ticks": ""
            },
            "colorscale": [
             [
              0.0,
              "#0d0887"
             ],
             [
              0.1111111111111111,
              "#46039f"
             ],
             [
              0.2222222222222222,
              "#7201a8"
             ],
             [
              0.3333333333333333,
              "#9c179e"
             ],
             [
              0.4444444444444444,
              "#bd3786"
             ],
             [
              0.5555555555555556,
              "#d8576b"
             ],
             [
              0.6666666666666666,
              "#ed7953"
             ],
             [
              0.7777777777777778,
              "#fb9f3a"
             ],
             [
              0.8888888888888888,
              "#fdca26"
             ],
             [
              1.0,
              "#f0f921"
             ]
            ],
            "type": "surface"
           }
          ],
          "table": [
           {
            "cells": {
             "fill": {
              "color": "#EBF0F8"
             },
             "line": {
              "color": "white"
             }
            },
            "header": {
             "fill": {
              "color": "#C8D4E3"
             },
             "line": {
              "color": "white"
             }
            },
            "type": "table"
           }
          ]
         },
         "layout": {
          "annotationdefaults": {
           "arrowcolor": "#2a3f5f",
           "arrowhead": 0,
           "arrowwidth": 1
          },
          "coloraxis": {
           "colorbar": {
            "outlinewidth": 0,
            "ticks": ""
           }
          },
          "colorscale": {
           "diverging": [
            [
             0,
             "#8e0152"
            ],
            [
             0.1,
             "#c51b7d"
            ],
            [
             0.2,
             "#de77ae"
            ],
            [
             0.3,
             "#f1b6da"
            ],
            [
             0.4,
             "#fde0ef"
            ],
            [
             0.5,
             "#f7f7f7"
            ],
            [
             0.6,
             "#e6f5d0"
            ],
            [
             0.7,
             "#b8e186"
            ],
            [
             0.8,
             "#7fbc41"
            ],
            [
             0.9,
             "#4d9221"
            ],
            [
             1,
             "#276419"
            ]
           ],
           "sequential": [
            [
             0.0,
             "#0d0887"
            ],
            [
             0.1111111111111111,
             "#46039f"
            ],
            [
             0.2222222222222222,
             "#7201a8"
            ],
            [
             0.3333333333333333,
             "#9c179e"
            ],
            [
             0.4444444444444444,
             "#bd3786"
            ],
            [
             0.5555555555555556,
             "#d8576b"
            ],
            [
             0.6666666666666666,
             "#ed7953"
            ],
            [
             0.7777777777777778,
             "#fb9f3a"
            ],
            [
             0.8888888888888888,
             "#fdca26"
            ],
            [
             1.0,
             "#f0f921"
            ]
           ],
           "sequentialminus": [
            [
             0.0,
             "#0d0887"
            ],
            [
             0.1111111111111111,
             "#46039f"
            ],
            [
             0.2222222222222222,
             "#7201a8"
            ],
            [
             0.3333333333333333,
             "#9c179e"
            ],
            [
             0.4444444444444444,
             "#bd3786"
            ],
            [
             0.5555555555555556,
             "#d8576b"
            ],
            [
             0.6666666666666666,
             "#ed7953"
            ],
            [
             0.7777777777777778,
             "#fb9f3a"
            ],
            [
             0.8888888888888888,
             "#fdca26"
            ],
            [
             1.0,
             "#f0f921"
            ]
           ]
          },
          "colorway": [
           "#636efa",
           "#EF553B",
           "#00cc96",
           "#ab63fa",
           "#FFA15A",
           "#19d3f3",
           "#FF6692",
           "#B6E880",
           "#FF97FF",
           "#FECB52"
          ],
          "font": {
           "color": "#2a3f5f"
          },
          "geo": {
           "bgcolor": "white",
           "lakecolor": "white",
           "landcolor": "#E5ECF6",
           "showlakes": true,
           "showland": true,
           "subunitcolor": "white"
          },
          "hoverlabel": {
           "align": "left"
          },
          "hovermode": "closest",
          "mapbox": {
           "style": "light"
          },
          "paper_bgcolor": "white",
          "plot_bgcolor": "#E5ECF6",
          "polar": {
           "angularaxis": {
            "gridcolor": "white",
            "linecolor": "white",
            "ticks": ""
           },
           "bgcolor": "#E5ECF6",
           "radialaxis": {
            "gridcolor": "white",
            "linecolor": "white",
            "ticks": ""
           }
          },
          "scene": {
           "xaxis": {
            "backgroundcolor": "#E5ECF6",
            "gridcolor": "white",
            "gridwidth": 2,
            "linecolor": "white",
            "showbackground": true,
            "ticks": "",
            "zerolinecolor": "white"
           },
           "yaxis": {
            "backgroundcolor": "#E5ECF6",
            "gridcolor": "white",
            "gridwidth": 2,
            "linecolor": "white",
            "showbackground": true,
            "ticks": "",
            "zerolinecolor": "white"
           },
           "zaxis": {
            "backgroundcolor": "#E5ECF6",
            "gridcolor": "white",
            "gridwidth": 2,
            "linecolor": "white",
            "showbackground": true,
            "ticks": "",
            "zerolinecolor": "white"
           }
          },
          "shapedefaults": {
           "line": {
            "color": "#2a3f5f"
           }
          },
          "ternary": {
           "aaxis": {
            "gridcolor": "white",
            "linecolor": "white",
            "ticks": ""
           },
           "baxis": {
            "gridcolor": "white",
            "linecolor": "white",
            "ticks": ""
           },
           "bgcolor": "#E5ECF6",
           "caxis": {
            "gridcolor": "white",
            "linecolor": "white",
            "ticks": ""
           }
          },
          "title": {
           "x": 0.05
          },
          "xaxis": {
           "automargin": true,
           "gridcolor": "white",
           "linecolor": "white",
           "ticks": "",
           "title": {
            "standoff": 15
           },
           "zerolinecolor": "white",
           "zerolinewidth": 2
          },
          "yaxis": {
           "automargin": true,
           "gridcolor": "white",
           "linecolor": "white",
           "ticks": "",
           "title": {
            "standoff": 15
           },
           "zerolinecolor": "white",
           "zerolinewidth": 2
          }
         }
        },
        "title": {
         "font": {
          "color": "#4D5663"
         },
         "text": "Top 5 popular Car Brands"
        },
        "xaxis": {
         "gridcolor": "#E1E5ED",
         "showgrid": true,
         "tickfont": {
          "color": "#4D5663"
         },
         "title": {
          "font": {
           "color": "#4D5663"
          },
          "text": "Make"
         },
         "zerolinecolor": "#E1E5ED"
        },
        "yaxis": {
         "gridcolor": "#E1E5ED",
         "showgrid": true,
         "tickfont": {
          "color": "#4D5663"
         },
         "title": {
          "font": {
           "color": "#4D5663"
          },
          "text": "Popularity"
         },
         "zerolinecolor": "#E1E5ED"
        }
       }
      },
      "text/html": [
       "<div>\n",
       "        \n",
       "        \n",
       "            <div id=\"e58fc529-d007-4991-a8e4-7d2964e02535\" class=\"plotly-graph-div\" style=\"height:525px; width:100%;\"></div>\n",
       "            <script type=\"text/javascript\">\n",
       "                require([\"plotly\"], function(Plotly) {\n",
       "                    window.PLOTLYENV=window.PLOTLYENV || {};\n",
       "                    window.PLOTLYENV.BASE_URL='https://plot.ly';\n",
       "                    \n",
       "                if (document.getElementById(\"e58fc529-d007-4991-a8e4-7d2964e02535\")) {\n",
       "                    Plotly.newPlot(\n",
       "                        'e58fc529-d007-4991-a8e4-7d2964e02535',\n",
       "                        [{\"marker\": {\"color\": \"rgba(255, 153, 51, 0.6)\", \"line\": {\"color\": \"rgba(255, 153, 51, 1.0)\", \"width\": 1}}, \"name\": \"Popularity\", \"orientation\": \"v\", \"text\": \"\", \"type\": \"bar\", \"x\": [\"Ford\", \"Chevrolet\", \"Toyota\", \"BMW\", \"Dodge\", \"Nissan\"], \"y\": [4983817, 1555355, 1515126, 1307944, 1158726, 1121022]}],\n",
       "                        {\"legend\": {\"bgcolor\": \"#F5F6F9\", \"font\": {\"color\": \"#4D5663\"}}, \"paper_bgcolor\": \"#F5F6F9\", \"plot_bgcolor\": \"#F5F6F9\", \"template\": {\"data\": {\"bar\": [{\"error_x\": {\"color\": \"#2a3f5f\"}, \"error_y\": {\"color\": \"#2a3f5f\"}, \"marker\": {\"line\": {\"color\": \"#E5ECF6\", \"width\": 0.5}}, \"type\": \"bar\"}], \"barpolar\": [{\"marker\": {\"line\": {\"color\": \"#E5ECF6\", \"width\": 0.5}}, \"type\": \"barpolar\"}], \"carpet\": [{\"aaxis\": {\"endlinecolor\": \"#2a3f5f\", \"gridcolor\": \"white\", \"linecolor\": \"white\", \"minorgridcolor\": \"white\", \"startlinecolor\": \"#2a3f5f\"}, \"baxis\": {\"endlinecolor\": \"#2a3f5f\", \"gridcolor\": \"white\", \"linecolor\": \"white\", \"minorgridcolor\": \"white\", \"startlinecolor\": \"#2a3f5f\"}, \"type\": \"carpet\"}], \"choropleth\": [{\"colorbar\": {\"outlinewidth\": 0, \"ticks\": \"\"}, \"type\": \"choropleth\"}], \"contour\": [{\"colorbar\": {\"outlinewidth\": 0, \"ticks\": \"\"}, \"colorscale\": [[0.0, \"#0d0887\"], [0.1111111111111111, \"#46039f\"], [0.2222222222222222, \"#7201a8\"], [0.3333333333333333, \"#9c179e\"], [0.4444444444444444, \"#bd3786\"], [0.5555555555555556, \"#d8576b\"], [0.6666666666666666, \"#ed7953\"], [0.7777777777777778, \"#fb9f3a\"], [0.8888888888888888, \"#fdca26\"], [1.0, \"#f0f921\"]], \"type\": \"contour\"}], \"contourcarpet\": [{\"colorbar\": {\"outlinewidth\": 0, \"ticks\": \"\"}, \"type\": \"contourcarpet\"}], \"heatmap\": [{\"colorbar\": {\"outlinewidth\": 0, \"ticks\": \"\"}, \"colorscale\": [[0.0, \"#0d0887\"], [0.1111111111111111, \"#46039f\"], [0.2222222222222222, \"#7201a8\"], [0.3333333333333333, \"#9c179e\"], [0.4444444444444444, \"#bd3786\"], [0.5555555555555556, \"#d8576b\"], [0.6666666666666666, \"#ed7953\"], [0.7777777777777778, \"#fb9f3a\"], [0.8888888888888888, \"#fdca26\"], [1.0, \"#f0f921\"]], \"type\": \"heatmap\"}], \"heatmapgl\": [{\"colorbar\": {\"outlinewidth\": 0, \"ticks\": \"\"}, \"colorscale\": [[0.0, \"#0d0887\"], [0.1111111111111111, \"#46039f\"], [0.2222222222222222, \"#7201a8\"], [0.3333333333333333, \"#9c179e\"], [0.4444444444444444, \"#bd3786\"], [0.5555555555555556, \"#d8576b\"], [0.6666666666666666, \"#ed7953\"], [0.7777777777777778, \"#fb9f3a\"], [0.8888888888888888, \"#fdca26\"], [1.0, \"#f0f921\"]], \"type\": \"heatmapgl\"}], \"histogram\": [{\"marker\": {\"colorbar\": {\"outlinewidth\": 0, \"ticks\": \"\"}}, \"type\": \"histogram\"}], \"histogram2d\": [{\"colorbar\": {\"outlinewidth\": 0, \"ticks\": \"\"}, \"colorscale\": [[0.0, \"#0d0887\"], [0.1111111111111111, \"#46039f\"], [0.2222222222222222, \"#7201a8\"], [0.3333333333333333, \"#9c179e\"], [0.4444444444444444, \"#bd3786\"], [0.5555555555555556, \"#d8576b\"], [0.6666666666666666, \"#ed7953\"], [0.7777777777777778, \"#fb9f3a\"], [0.8888888888888888, \"#fdca26\"], [1.0, \"#f0f921\"]], \"type\": \"histogram2d\"}], \"histogram2dcontour\": [{\"colorbar\": {\"outlinewidth\": 0, \"ticks\": \"\"}, \"colorscale\": [[0.0, \"#0d0887\"], [0.1111111111111111, \"#46039f\"], [0.2222222222222222, \"#7201a8\"], [0.3333333333333333, \"#9c179e\"], [0.4444444444444444, \"#bd3786\"], [0.5555555555555556, \"#d8576b\"], [0.6666666666666666, \"#ed7953\"], [0.7777777777777778, \"#fb9f3a\"], [0.8888888888888888, \"#fdca26\"], [1.0, \"#f0f921\"]], \"type\": \"histogram2dcontour\"}], \"mesh3d\": [{\"colorbar\": {\"outlinewidth\": 0, \"ticks\": \"\"}, \"type\": \"mesh3d\"}], \"parcoords\": [{\"line\": {\"colorbar\": {\"outlinewidth\": 0, \"ticks\": \"\"}}, \"type\": \"parcoords\"}], \"pie\": [{\"automargin\": true, \"type\": \"pie\"}], \"scatter\": [{\"marker\": {\"colorbar\": {\"outlinewidth\": 0, \"ticks\": \"\"}}, \"type\": \"scatter\"}], \"scatter3d\": [{\"line\": {\"colorbar\": {\"outlinewidth\": 0, \"ticks\": \"\"}}, \"marker\": {\"colorbar\": {\"outlinewidth\": 0, \"ticks\": \"\"}}, \"type\": \"scatter3d\"}], \"scattercarpet\": [{\"marker\": {\"colorbar\": {\"outlinewidth\": 0, \"ticks\": \"\"}}, \"type\": \"scattercarpet\"}], \"scattergeo\": [{\"marker\": {\"colorbar\": {\"outlinewidth\": 0, \"ticks\": \"\"}}, \"type\": \"scattergeo\"}], \"scattergl\": [{\"marker\": {\"colorbar\": {\"outlinewidth\": 0, \"ticks\": \"\"}}, \"type\": \"scattergl\"}], \"scattermapbox\": [{\"marker\": {\"colorbar\": {\"outlinewidth\": 0, \"ticks\": \"\"}}, \"type\": \"scattermapbox\"}], \"scatterpolar\": [{\"marker\": {\"colorbar\": {\"outlinewidth\": 0, \"ticks\": \"\"}}, \"type\": \"scatterpolar\"}], \"scatterpolargl\": [{\"marker\": {\"colorbar\": {\"outlinewidth\": 0, \"ticks\": \"\"}}, \"type\": \"scatterpolargl\"}], \"scatterternary\": [{\"marker\": {\"colorbar\": {\"outlinewidth\": 0, \"ticks\": \"\"}}, \"type\": \"scatterternary\"}], \"surface\": [{\"colorbar\": {\"outlinewidth\": 0, \"ticks\": \"\"}, \"colorscale\": [[0.0, \"#0d0887\"], [0.1111111111111111, \"#46039f\"], [0.2222222222222222, \"#7201a8\"], [0.3333333333333333, \"#9c179e\"], [0.4444444444444444, \"#bd3786\"], [0.5555555555555556, \"#d8576b\"], [0.6666666666666666, \"#ed7953\"], [0.7777777777777778, \"#fb9f3a\"], [0.8888888888888888, \"#fdca26\"], [1.0, \"#f0f921\"]], \"type\": \"surface\"}], \"table\": [{\"cells\": {\"fill\": {\"color\": \"#EBF0F8\"}, \"line\": {\"color\": \"white\"}}, \"header\": {\"fill\": {\"color\": \"#C8D4E3\"}, \"line\": {\"color\": \"white\"}}, \"type\": \"table\"}]}, \"layout\": {\"annotationdefaults\": {\"arrowcolor\": \"#2a3f5f\", \"arrowhead\": 0, \"arrowwidth\": 1}, \"coloraxis\": {\"colorbar\": {\"outlinewidth\": 0, \"ticks\": \"\"}}, \"colorscale\": {\"diverging\": [[0, \"#8e0152\"], [0.1, \"#c51b7d\"], [0.2, \"#de77ae\"], [0.3, \"#f1b6da\"], [0.4, \"#fde0ef\"], [0.5, \"#f7f7f7\"], [0.6, \"#e6f5d0\"], [0.7, \"#b8e186\"], [0.8, \"#7fbc41\"], [0.9, \"#4d9221\"], [1, \"#276419\"]], \"sequential\": [[0.0, \"#0d0887\"], [0.1111111111111111, \"#46039f\"], [0.2222222222222222, \"#7201a8\"], [0.3333333333333333, \"#9c179e\"], [0.4444444444444444, \"#bd3786\"], [0.5555555555555556, \"#d8576b\"], [0.6666666666666666, \"#ed7953\"], [0.7777777777777778, \"#fb9f3a\"], [0.8888888888888888, \"#fdca26\"], [1.0, \"#f0f921\"]], \"sequentialminus\": [[0.0, \"#0d0887\"], [0.1111111111111111, \"#46039f\"], [0.2222222222222222, \"#7201a8\"], [0.3333333333333333, \"#9c179e\"], [0.4444444444444444, \"#bd3786\"], [0.5555555555555556, \"#d8576b\"], [0.6666666666666666, \"#ed7953\"], [0.7777777777777778, \"#fb9f3a\"], [0.8888888888888888, \"#fdca26\"], [1.0, \"#f0f921\"]]}, \"colorway\": [\"#636efa\", \"#EF553B\", \"#00cc96\", \"#ab63fa\", \"#FFA15A\", \"#19d3f3\", \"#FF6692\", \"#B6E880\", \"#FF97FF\", \"#FECB52\"], \"font\": {\"color\": \"#2a3f5f\"}, \"geo\": {\"bgcolor\": \"white\", \"lakecolor\": \"white\", \"landcolor\": \"#E5ECF6\", \"showlakes\": true, \"showland\": true, \"subunitcolor\": \"white\"}, \"hoverlabel\": {\"align\": \"left\"}, \"hovermode\": \"closest\", \"mapbox\": {\"style\": \"light\"}, \"paper_bgcolor\": \"white\", \"plot_bgcolor\": \"#E5ECF6\", \"polar\": {\"angularaxis\": {\"gridcolor\": \"white\", \"linecolor\": \"white\", \"ticks\": \"\"}, \"bgcolor\": \"#E5ECF6\", \"radialaxis\": {\"gridcolor\": \"white\", \"linecolor\": \"white\", \"ticks\": \"\"}}, \"scene\": {\"xaxis\": {\"backgroundcolor\": \"#E5ECF6\", \"gridcolor\": \"white\", \"gridwidth\": 2, \"linecolor\": \"white\", \"showbackground\": true, \"ticks\": \"\", \"zerolinecolor\": \"white\"}, \"yaxis\": {\"backgroundcolor\": \"#E5ECF6\", \"gridcolor\": \"white\", \"gridwidth\": 2, \"linecolor\": \"white\", \"showbackground\": true, \"ticks\": \"\", \"zerolinecolor\": \"white\"}, \"zaxis\": {\"backgroundcolor\": \"#E5ECF6\", \"gridcolor\": \"white\", \"gridwidth\": 2, \"linecolor\": \"white\", \"showbackground\": true, \"ticks\": \"\", \"zerolinecolor\": \"white\"}}, \"shapedefaults\": {\"line\": {\"color\": \"#2a3f5f\"}}, \"ternary\": {\"aaxis\": {\"gridcolor\": \"white\", \"linecolor\": \"white\", \"ticks\": \"\"}, \"baxis\": {\"gridcolor\": \"white\", \"linecolor\": \"white\", \"ticks\": \"\"}, \"bgcolor\": \"#E5ECF6\", \"caxis\": {\"gridcolor\": \"white\", \"linecolor\": \"white\", \"ticks\": \"\"}}, \"title\": {\"x\": 0.05}, \"xaxis\": {\"automargin\": true, \"gridcolor\": \"white\", \"linecolor\": \"white\", \"ticks\": \"\", \"title\": {\"standoff\": 15}, \"zerolinecolor\": \"white\", \"zerolinewidth\": 2}, \"yaxis\": {\"automargin\": true, \"gridcolor\": \"white\", \"linecolor\": \"white\", \"ticks\": \"\", \"title\": {\"standoff\": 15}, \"zerolinecolor\": \"white\", \"zerolinewidth\": 2}}}, \"title\": {\"font\": {\"color\": \"#4D5663\"}, \"text\": \"Top 5 popular Car Brands\"}, \"xaxis\": {\"gridcolor\": \"#E1E5ED\", \"showgrid\": true, \"tickfont\": {\"color\": \"#4D5663\"}, \"title\": {\"font\": {\"color\": \"#4D5663\"}, \"text\": \"Make\"}, \"zerolinecolor\": \"#E1E5ED\"}, \"yaxis\": {\"gridcolor\": \"#E1E5ED\", \"showgrid\": true, \"tickfont\": {\"color\": \"#4D5663\"}, \"title\": {\"font\": {\"color\": \"#4D5663\"}, \"text\": \"Popularity\"}, \"zerolinecolor\": \"#E1E5ED\"}},\n",
       "                        {\"showLink\": true, \"linkText\": \"Export to plot.ly\", \"plotlyServerURL\": \"https://plot.ly\", \"responsive\": true}\n",
       "                    ).then(function(){\n",
       "                            \n",
       "var gd = document.getElementById('e58fc529-d007-4991-a8e4-7d2964e02535');\n",
       "var x = new MutationObserver(function (mutations, observer) {{\n",
       "        var display = window.getComputedStyle(gd).display;\n",
       "        if (!display || display === 'none') {{\n",
       "            console.log([gd, 'removed!']);\n",
       "            Plotly.purge(gd);\n",
       "            observer.disconnect();\n",
       "        }}\n",
       "}});\n",
       "\n",
       "// Listen for the removal of the full notebook cells\n",
       "var notebookContainer = gd.closest('#notebook-container');\n",
       "if (notebookContainer) {{\n",
       "    x.observe(notebookContainer, {childList: true});\n",
       "}}\n",
       "\n",
       "// Listen for the clearing of the current output cell\n",
       "var outputEl = gd.closest('.output');\n",
       "if (outputEl) {{\n",
       "    x.observe(outputEl, {childList: true});\n",
       "}}\n",
       "\n",
       "                        })\n",
       "                };\n",
       "                });\n",
       "            </script>\n",
       "        </div>"
      ]
     },
     "metadata": {},
     "output_type": "display_data"
    }
   ],
   "source": [
    "carmodel = car.groupby(['Make']).sum()[['MSRP','Popularity','Engine HP','Engine Cylinders','Number of Doors']].nlargest(6, 'Popularity')\n",
    "carmodel.groupby(['Make']).sum()['Popularity'].nlargest(10).iplot(kind='bar', xTitle='Make', yTitle='Popularity',\n",
    "                                                                     title='Top 5 popular Car Brands')"
   ]
  },
  {
   "cell_type": "markdown",
   "metadata": {
    "papermill": {
     "duration": 0.065047,
     "end_time": "2021-10-30T16:10:47.819168",
     "exception": false,
     "start_time": "2021-10-30T16:10:47.754121",
     "status": "completed"
    },
    "tags": []
   },
   "source": [
    "Ford ranks the 1st popular brand. \n",
    "\n",
    "  * In order to study its features, we will select the 3 most popular models of this brand"
   ]
  },
  {
   "cell_type": "code",
   "execution_count": 26,
   "metadata": {
    "_kg_hide-input": true,
    "execution": {
     "iopub.execute_input": "2021-10-30T16:10:47.953289Z",
     "iopub.status.busy": "2021-10-30T16:10:47.952318Z",
     "iopub.status.idle": "2021-10-30T16:10:47.986227Z",
     "shell.execute_reply": "2021-10-30T16:10:47.987276Z",
     "shell.execute_reply.started": "2021-10-30T16:05:38.132912Z"
    },
    "papermill": {
     "duration": 0.102975,
     "end_time": "2021-10-30T16:10:47.987440",
     "exception": false,
     "start_time": "2021-10-30T16:10:47.884465",
     "status": "completed"
    },
    "tags": []
   },
   "outputs": [
    {
     "data": {
      "text/html": [
       "<style  type=\"text/css\" >\n",
       "    #T_f1b8d116_399b_11ec_a415_0242ac130202row0_col2 {\n",
       "            background-color:  #fff5f0;\n",
       "            color:  #000000;\n",
       "        }    #T_f1b8d116_399b_11ec_a415_0242ac130202row0_col4 {\n",
       "            background-color:  #67000d;\n",
       "            color:  #f1f1f1;\n",
       "        }    #T_f1b8d116_399b_11ec_a415_0242ac130202row0_col5 {\n",
       "            background-color:  #67000d;\n",
       "            color:  #f1f1f1;\n",
       "        }    #T_f1b8d116_399b_11ec_a415_0242ac130202row0_col8 {\n",
       "            background-color:  #fff5f0;\n",
       "            color:  #000000;\n",
       "        }    #T_f1b8d116_399b_11ec_a415_0242ac130202row0_col12 {\n",
       "            background-color:  #fff5f0;\n",
       "            color:  #000000;\n",
       "        }    #T_f1b8d116_399b_11ec_a415_0242ac130202row0_col13 {\n",
       "            background-color:  #fff5f0;\n",
       "            color:  #000000;\n",
       "        }    #T_f1b8d116_399b_11ec_a415_0242ac130202row0_col14 {\n",
       "            background-color:  #fff5f0;\n",
       "            color:  #000000;\n",
       "        }    #T_f1b8d116_399b_11ec_a415_0242ac130202row0_col15 {\n",
       "            background-color:  #67000d;\n",
       "            color:  #f1f1f1;\n",
       "        }    #T_f1b8d116_399b_11ec_a415_0242ac130202row1_col2 {\n",
       "            background-color:  #fee7dc;\n",
       "            color:  #000000;\n",
       "        }    #T_f1b8d116_399b_11ec_a415_0242ac130202row1_col4 {\n",
       "            background-color:  #67000d;\n",
       "            color:  #f1f1f1;\n",
       "        }    #T_f1b8d116_399b_11ec_a415_0242ac130202row1_col5 {\n",
       "            background-color:  #67000d;\n",
       "            color:  #f1f1f1;\n",
       "        }    #T_f1b8d116_399b_11ec_a415_0242ac130202row1_col8 {\n",
       "            background-color:  #fff5f0;\n",
       "            color:  #000000;\n",
       "        }    #T_f1b8d116_399b_11ec_a415_0242ac130202row1_col12 {\n",
       "            background-color:  #fff5f0;\n",
       "            color:  #000000;\n",
       "        }    #T_f1b8d116_399b_11ec_a415_0242ac130202row1_col13 {\n",
       "            background-color:  #fff5f0;\n",
       "            color:  #000000;\n",
       "        }    #T_f1b8d116_399b_11ec_a415_0242ac130202row1_col14 {\n",
       "            background-color:  #fff5f0;\n",
       "            color:  #000000;\n",
       "        }    #T_f1b8d116_399b_11ec_a415_0242ac130202row1_col15 {\n",
       "            background-color:  #67000d;\n",
       "            color:  #f1f1f1;\n",
       "        }    #T_f1b8d116_399b_11ec_a415_0242ac130202row2_col2 {\n",
       "            background-color:  #67000d;\n",
       "            color:  #f1f1f1;\n",
       "        }    #T_f1b8d116_399b_11ec_a415_0242ac130202row2_col4 {\n",
       "            background-color:  #fff5f0;\n",
       "            color:  #000000;\n",
       "        }    #T_f1b8d116_399b_11ec_a415_0242ac130202row2_col5 {\n",
       "            background-color:  #fff5f0;\n",
       "            color:  #000000;\n",
       "        }    #T_f1b8d116_399b_11ec_a415_0242ac130202row2_col8 {\n",
       "            background-color:  #67000d;\n",
       "            color:  #f1f1f1;\n",
       "        }    #T_f1b8d116_399b_11ec_a415_0242ac130202row2_col12 {\n",
       "            background-color:  #fff5f0;\n",
       "            color:  #000000;\n",
       "        }    #T_f1b8d116_399b_11ec_a415_0242ac130202row2_col13 {\n",
       "            background-color:  #67000d;\n",
       "            color:  #f1f1f1;\n",
       "        }    #T_f1b8d116_399b_11ec_a415_0242ac130202row2_col14 {\n",
       "            background-color:  #fff5f0;\n",
       "            color:  #000000;\n",
       "        }    #T_f1b8d116_399b_11ec_a415_0242ac130202row2_col15 {\n",
       "            background-color:  #fff5f0;\n",
       "            color:  #000000;\n",
       "        }</style><table id=\"T_f1b8d116_399b_11ec_a415_0242ac130202\" ><thead>    <tr>        <th class=\"blank level0\" ></th>        <th class=\"col_heading level0 col0\" >Make</th>        <th class=\"col_heading level0 col1\" >Model</th>        <th class=\"col_heading level0 col2\" >Year</th>        <th class=\"col_heading level0 col3\" >Engine Fuel Type</th>        <th class=\"col_heading level0 col4\" >Engine HP</th>        <th class=\"col_heading level0 col5\" >Engine Cylinders</th>        <th class=\"col_heading level0 col6\" >Transmission Type</th>        <th class=\"col_heading level0 col7\" >Driven_Wheels</th>        <th class=\"col_heading level0 col8\" >Number of Doors</th>        <th class=\"col_heading level0 col9\" >Market Category</th>        <th class=\"col_heading level0 col10\" >Vehicle Size</th>        <th class=\"col_heading level0 col11\" >Vehicle Style</th>        <th class=\"col_heading level0 col12\" >highway MPG</th>        <th class=\"col_heading level0 col13\" >city mpg</th>        <th class=\"col_heading level0 col14\" >Popularity</th>        <th class=\"col_heading level0 col15\" >MSRP</th>    </tr></thead><tbody>\n",
       "                <tr>\n",
       "                        <th id=\"T_f1b8d116_399b_11ec_a415_0242ac130202level0_row0\" class=\"row_heading level0 row0\" >5602</th>\n",
       "                        <td id=\"T_f1b8d116_399b_11ec_a415_0242ac130202row0_col0\" class=\"data row0 col0\" >Ford</td>\n",
       "                        <td id=\"T_f1b8d116_399b_11ec_a415_0242ac130202row0_col1\" class=\"data row0 col1\" >GT</td>\n",
       "                        <td id=\"T_f1b8d116_399b_11ec_a415_0242ac130202row0_col2\" class=\"data row0 col2\" >2005</td>\n",
       "                        <td id=\"T_f1b8d116_399b_11ec_a415_0242ac130202row0_col3\" class=\"data row0 col3\" >premium unleaded (required)</td>\n",
       "                        <td id=\"T_f1b8d116_399b_11ec_a415_0242ac130202row0_col4\" class=\"data row0 col4\" >550.000000</td>\n",
       "                        <td id=\"T_f1b8d116_399b_11ec_a415_0242ac130202row0_col5\" class=\"data row0 col5\" >8.000000</td>\n",
       "                        <td id=\"T_f1b8d116_399b_11ec_a415_0242ac130202row0_col6\" class=\"data row0 col6\" >MANUAL</td>\n",
       "                        <td id=\"T_f1b8d116_399b_11ec_a415_0242ac130202row0_col7\" class=\"data row0 col7\" >rear wheel drive</td>\n",
       "                        <td id=\"T_f1b8d116_399b_11ec_a415_0242ac130202row0_col8\" class=\"data row0 col8\" >2.000000</td>\n",
       "                        <td id=\"T_f1b8d116_399b_11ec_a415_0242ac130202row0_col9\" class=\"data row0 col9\" >Exotic,High-Performance</td>\n",
       "                        <td id=\"T_f1b8d116_399b_11ec_a415_0242ac130202row0_col10\" class=\"data row0 col10\" >Compact</td>\n",
       "                        <td id=\"T_f1b8d116_399b_11ec_a415_0242ac130202row0_col11\" class=\"data row0 col11\" >Coupe</td>\n",
       "                        <td id=\"T_f1b8d116_399b_11ec_a415_0242ac130202row0_col12\" class=\"data row0 col12\" >19</td>\n",
       "                        <td id=\"T_f1b8d116_399b_11ec_a415_0242ac130202row0_col13\" class=\"data row0 col13\" >12</td>\n",
       "                        <td id=\"T_f1b8d116_399b_11ec_a415_0242ac130202row0_col14\" class=\"data row0 col14\" >5657</td>\n",
       "                        <td id=\"T_f1b8d116_399b_11ec_a415_0242ac130202row0_col15\" class=\"data row0 col15\" >149995</td>\n",
       "            </tr>\n",
       "            <tr>\n",
       "                        <th id=\"T_f1b8d116_399b_11ec_a415_0242ac130202level0_row1\" class=\"row_heading level0 row1\" >5603</th>\n",
       "                        <td id=\"T_f1b8d116_399b_11ec_a415_0242ac130202row1_col0\" class=\"data row1 col0\" >Ford</td>\n",
       "                        <td id=\"T_f1b8d116_399b_11ec_a415_0242ac130202row1_col1\" class=\"data row1 col1\" >GT</td>\n",
       "                        <td id=\"T_f1b8d116_399b_11ec_a415_0242ac130202row1_col2\" class=\"data row1 col2\" >2006</td>\n",
       "                        <td id=\"T_f1b8d116_399b_11ec_a415_0242ac130202row1_col3\" class=\"data row1 col3\" >premium unleaded (required)</td>\n",
       "                        <td id=\"T_f1b8d116_399b_11ec_a415_0242ac130202row1_col4\" class=\"data row1 col4\" >550.000000</td>\n",
       "                        <td id=\"T_f1b8d116_399b_11ec_a415_0242ac130202row1_col5\" class=\"data row1 col5\" >8.000000</td>\n",
       "                        <td id=\"T_f1b8d116_399b_11ec_a415_0242ac130202row1_col6\" class=\"data row1 col6\" >MANUAL</td>\n",
       "                        <td id=\"T_f1b8d116_399b_11ec_a415_0242ac130202row1_col7\" class=\"data row1 col7\" >rear wheel drive</td>\n",
       "                        <td id=\"T_f1b8d116_399b_11ec_a415_0242ac130202row1_col8\" class=\"data row1 col8\" >2.000000</td>\n",
       "                        <td id=\"T_f1b8d116_399b_11ec_a415_0242ac130202row1_col9\" class=\"data row1 col9\" >Exotic,High-Performance</td>\n",
       "                        <td id=\"T_f1b8d116_399b_11ec_a415_0242ac130202row1_col10\" class=\"data row1 col10\" >Compact</td>\n",
       "                        <td id=\"T_f1b8d116_399b_11ec_a415_0242ac130202row1_col11\" class=\"data row1 col11\" >Coupe</td>\n",
       "                        <td id=\"T_f1b8d116_399b_11ec_a415_0242ac130202row1_col12\" class=\"data row1 col12\" >19</td>\n",
       "                        <td id=\"T_f1b8d116_399b_11ec_a415_0242ac130202row1_col13\" class=\"data row1 col13\" >12</td>\n",
       "                        <td id=\"T_f1b8d116_399b_11ec_a415_0242ac130202row1_col14\" class=\"data row1 col14\" >5657</td>\n",
       "                        <td id=\"T_f1b8d116_399b_11ec_a415_0242ac130202row1_col15\" class=\"data row1 col15\" >149995</td>\n",
       "            </tr>\n",
       "            <tr>\n",
       "                        <th id=\"T_f1b8d116_399b_11ec_a415_0242ac130202level0_row2\" class=\"row_heading level0 row2\" >4345</th>\n",
       "                        <td id=\"T_f1b8d116_399b_11ec_a415_0242ac130202row2_col0\" class=\"data row2 col0\" >Ford</td>\n",
       "                        <td id=\"T_f1b8d116_399b_11ec_a415_0242ac130202row2_col1\" class=\"data row2 col1\" >Expedition</td>\n",
       "                        <td id=\"T_f1b8d116_399b_11ec_a415_0242ac130202row2_col2\" class=\"data row2 col2\" >2017</td>\n",
       "                        <td id=\"T_f1b8d116_399b_11ec_a415_0242ac130202row2_col3\" class=\"data row2 col3\" >regular unleaded</td>\n",
       "                        <td id=\"T_f1b8d116_399b_11ec_a415_0242ac130202row2_col4\" class=\"data row2 col4\" >365.000000</td>\n",
       "                        <td id=\"T_f1b8d116_399b_11ec_a415_0242ac130202row2_col5\" class=\"data row2 col5\" >6.000000</td>\n",
       "                        <td id=\"T_f1b8d116_399b_11ec_a415_0242ac130202row2_col6\" class=\"data row2 col6\" >AUTOMATIC</td>\n",
       "                        <td id=\"T_f1b8d116_399b_11ec_a415_0242ac130202row2_col7\" class=\"data row2 col7\" >four wheel drive</td>\n",
       "                        <td id=\"T_f1b8d116_399b_11ec_a415_0242ac130202row2_col8\" class=\"data row2 col8\" >4.000000</td>\n",
       "                        <td id=\"T_f1b8d116_399b_11ec_a415_0242ac130202row2_col9\" class=\"data row2 col9\" >Crossover</td>\n",
       "                        <td id=\"T_f1b8d116_399b_11ec_a415_0242ac130202row2_col10\" class=\"data row2 col10\" >Large</td>\n",
       "                        <td id=\"T_f1b8d116_399b_11ec_a415_0242ac130202row2_col11\" class=\"data row2 col11\" >4dr SUV</td>\n",
       "                        <td id=\"T_f1b8d116_399b_11ec_a415_0242ac130202row2_col12\" class=\"data row2 col12\" >19</td>\n",
       "                        <td id=\"T_f1b8d116_399b_11ec_a415_0242ac130202row2_col13\" class=\"data row2 col13\" >15</td>\n",
       "                        <td id=\"T_f1b8d116_399b_11ec_a415_0242ac130202row2_col14\" class=\"data row2 col14\" >5657</td>\n",
       "                        <td id=\"T_f1b8d116_399b_11ec_a415_0242ac130202row2_col15\" class=\"data row2 col15\" >68996</td>\n",
       "            </tr>\n",
       "    </tbody></table>"
      ],
      "text/plain": [
       "<pandas.io.formats.style.Styler at 0x7f0ffe5efc50>"
      ]
     },
     "execution_count": 26,
     "metadata": {},
     "output_type": "execute_result"
    }
   ],
   "source": [
    "Ford=car[car['Make'].str.contains('Ford')]\n",
    "Fordm=Ford.sort_values(by=['Popularity'],ascending=False).nlargest(3, 'MSRP')\n",
    "Ford2= Fordm.style.background_gradient(cmap='Reds')\n",
    "Ford2"
   ]
  },
  {
   "cell_type": "markdown",
   "metadata": {
    "papermill": {
     "duration": 0.065947,
     "end_time": "2021-10-30T16:10:48.119594",
     "exception": false,
     "start_time": "2021-10-30T16:10:48.053647",
     "status": "completed"
    },
    "tags": []
   },
   "source": [
    "Ford Brand which comparing its manufacturer's suggested retail price (MSRP) to Chevrolet could be very affordable has the least favored features to a high manufacturer's suggested retail price (MSRP) in all : Vehicle Size,Transmission Type, Driven Wheels and Vehicle size ( looking at the plots above). \n",
    "\n",
    "\n",
    "\n",
    "\n",
    "\n",
    "* It would be intresting to go over each Engine Fuel Type and compare their miles per gallon (MPG) values to see how fuel economy they are."
   ]
  },
  {
   "cell_type": "code",
   "execution_count": 27,
   "metadata": {
    "_kg_hide-input": false,
    "execution": {
     "iopub.execute_input": "2021-10-30T16:10:48.253975Z",
     "iopub.status.busy": "2021-10-30T16:10:48.253389Z",
     "iopub.status.idle": "2021-10-30T16:10:48.293144Z",
     "shell.execute_reply": "2021-10-30T16:10:48.293666Z",
     "shell.execute_reply.started": "2021-10-30T16:05:38.168740Z"
    },
    "papermill": {
     "duration": 0.108465,
     "end_time": "2021-10-30T16:10:48.293806",
     "exception": false,
     "start_time": "2021-10-30T16:10:48.185341",
     "status": "completed"
    },
    "tags": []
   },
   "outputs": [
    {
     "data": {
      "text/html": [
       "<style  type=\"text/css\" >\n",
       "    #T_f1e7ae5a_399b_11ec_a415_0242ac130202row0_col0 {\n",
       "            background-color:  #3f007d;\n",
       "            color:  #f1f1f1;\n",
       "        }    #T_f1e7ae5a_399b_11ec_a415_0242ac130202row0_col1 {\n",
       "            background-color:  #3f007d;\n",
       "            color:  #f1f1f1;\n",
       "        }    #T_f1e7ae5a_399b_11ec_a415_0242ac130202row0_col2 {\n",
       "            background-color:  #fcfbfd;\n",
       "            color:  #000000;\n",
       "        }    #T_f1e7ae5a_399b_11ec_a415_0242ac130202row0_col3 {\n",
       "            background-color:  #3f007d;\n",
       "            color:  #f1f1f1;\n",
       "        }    #T_f1e7ae5a_399b_11ec_a415_0242ac130202row0_col4 {\n",
       "            background-color:  #fcfbfd;\n",
       "            color:  #000000;\n",
       "        }    #T_f1e7ae5a_399b_11ec_a415_0242ac130202row1_col0 {\n",
       "            background-color:  #908dc2;\n",
       "            color:  #000000;\n",
       "        }    #T_f1e7ae5a_399b_11ec_a415_0242ac130202row1_col1 {\n",
       "            background-color:  #6950a3;\n",
       "            color:  #f1f1f1;\n",
       "        }    #T_f1e7ae5a_399b_11ec_a415_0242ac130202row1_col2 {\n",
       "            background-color:  #f6f4f9;\n",
       "            color:  #000000;\n",
       "        }    #T_f1e7ae5a_399b_11ec_a415_0242ac130202row1_col3 {\n",
       "            background-color:  #cdcde4;\n",
       "            color:  #000000;\n",
       "        }    #T_f1e7ae5a_399b_11ec_a415_0242ac130202row1_col4 {\n",
       "            background-color:  #f8f7fb;\n",
       "            color:  #000000;\n",
       "        }    #T_f1e7ae5a_399b_11ec_a415_0242ac130202row2_col0 {\n",
       "            background-color:  #adabd2;\n",
       "            color:  #000000;\n",
       "        }    #T_f1e7ae5a_399b_11ec_a415_0242ac130202row2_col1 {\n",
       "            background-color:  #6950a3;\n",
       "            color:  #f1f1f1;\n",
       "        }    #T_f1e7ae5a_399b_11ec_a415_0242ac130202row2_col2 {\n",
       "            background-color:  #f8f7fb;\n",
       "            color:  #000000;\n",
       "        }    #T_f1e7ae5a_399b_11ec_a415_0242ac130202row2_col3 {\n",
       "            background-color:  #f3f1f7;\n",
       "            color:  #000000;\n",
       "        }    #T_f1e7ae5a_399b_11ec_a415_0242ac130202row2_col4 {\n",
       "            background-color:  #f8f7fb;\n",
       "            color:  #000000;\n",
       "        }    #T_f1e7ae5a_399b_11ec_a415_0242ac130202row3_col0 {\n",
       "            background-color:  #c2c3df;\n",
       "            color:  #000000;\n",
       "        }    #T_f1e7ae5a_399b_11ec_a415_0242ac130202row3_col1 {\n",
       "            background-color:  #6950a3;\n",
       "            color:  #f1f1f1;\n",
       "        }    #T_f1e7ae5a_399b_11ec_a415_0242ac130202row3_col2 {\n",
       "            background-color:  #f5f3f8;\n",
       "            color:  #000000;\n",
       "        }    #T_f1e7ae5a_399b_11ec_a415_0242ac130202row3_col3 {\n",
       "            background-color:  #eeecf5;\n",
       "            color:  #000000;\n",
       "        }    #T_f1e7ae5a_399b_11ec_a415_0242ac130202row3_col4 {\n",
       "            background-color:  #f8f7fb;\n",
       "            color:  #000000;\n",
       "        }    #T_f1e7ae5a_399b_11ec_a415_0242ac130202row4_col0 {\n",
       "            background-color:  #c3c4e0;\n",
       "            color:  #000000;\n",
       "        }    #T_f1e7ae5a_399b_11ec_a415_0242ac130202row4_col1 {\n",
       "            background-color:  #9e9ac8;\n",
       "            color:  #000000;\n",
       "        }    #T_f1e7ae5a_399b_11ec_a415_0242ac130202row4_col2 {\n",
       "            background-color:  #efedf5;\n",
       "            color:  #000000;\n",
       "        }    #T_f1e7ae5a_399b_11ec_a415_0242ac130202row4_col3 {\n",
       "            background-color:  #f1eff6;\n",
       "            color:  #000000;\n",
       "        }    #T_f1e7ae5a_399b_11ec_a415_0242ac130202row4_col4 {\n",
       "            background-color:  #f5f3f8;\n",
       "            color:  #000000;\n",
       "        }    #T_f1e7ae5a_399b_11ec_a415_0242ac130202row5_col0 {\n",
       "            background-color:  #d4d4e8;\n",
       "            color:  #000000;\n",
       "        }    #T_f1e7ae5a_399b_11ec_a415_0242ac130202row5_col1 {\n",
       "            background-color:  #9e9ac8;\n",
       "            color:  #000000;\n",
       "        }    #T_f1e7ae5a_399b_11ec_a415_0242ac130202row5_col2 {\n",
       "            background-color:  #f1f0f6;\n",
       "            color:  #000000;\n",
       "        }    #T_f1e7ae5a_399b_11ec_a415_0242ac130202row5_col3 {\n",
       "            background-color:  #e7e6f1;\n",
       "            color:  #000000;\n",
       "        }    #T_f1e7ae5a_399b_11ec_a415_0242ac130202row5_col4 {\n",
       "            background-color:  #f8f6fa;\n",
       "            color:  #000000;\n",
       "        }    #T_f1e7ae5a_399b_11ec_a415_0242ac130202row6_col0 {\n",
       "            background-color:  #e4e3f0;\n",
       "            color:  #000000;\n",
       "        }    #T_f1e7ae5a_399b_11ec_a415_0242ac130202row6_col1 {\n",
       "            background-color:  #6950a3;\n",
       "            color:  #f1f1f1;\n",
       "        }    #T_f1e7ae5a_399b_11ec_a415_0242ac130202row6_col2 {\n",
       "            background-color:  #f3f2f8;\n",
       "            color:  #000000;\n",
       "        }    #T_f1e7ae5a_399b_11ec_a415_0242ac130202row6_col3 {\n",
       "            background-color:  #fcfbfd;\n",
       "            color:  #000000;\n",
       "        }    #T_f1e7ae5a_399b_11ec_a415_0242ac130202row6_col4 {\n",
       "            background-color:  #f6f5f9;\n",
       "            color:  #000000;\n",
       "        }    #T_f1e7ae5a_399b_11ec_a415_0242ac130202row7_col0 {\n",
       "            background-color:  #e8e7f2;\n",
       "            color:  #000000;\n",
       "        }    #T_f1e7ae5a_399b_11ec_a415_0242ac130202row7_col1 {\n",
       "            background-color:  #fcfbfd;\n",
       "            color:  #000000;\n",
       "        }    #T_f1e7ae5a_399b_11ec_a415_0242ac130202row7_col2 {\n",
       "            background-color:  #3f007d;\n",
       "            color:  #f1f1f1;\n",
       "        }    #T_f1e7ae5a_399b_11ec_a415_0242ac130202row7_col3 {\n",
       "            background-color:  #f1eff6;\n",
       "            color:  #000000;\n",
       "        }    #T_f1e7ae5a_399b_11ec_a415_0242ac130202row7_col4 {\n",
       "            background-color:  #3f007d;\n",
       "            color:  #f1f1f1;\n",
       "        }    #T_f1e7ae5a_399b_11ec_a415_0242ac130202row8_col0 {\n",
       "            background-color:  #f2f0f7;\n",
       "            color:  #000000;\n",
       "        }    #T_f1e7ae5a_399b_11ec_a415_0242ac130202row8_col1 {\n",
       "            background-color:  #9e9ac8;\n",
       "            color:  #000000;\n",
       "        }    #T_f1e7ae5a_399b_11ec_a415_0242ac130202row8_col2 {\n",
       "            background-color:  #dbdbec;\n",
       "            color:  #000000;\n",
       "        }    #T_f1e7ae5a_399b_11ec_a415_0242ac130202row8_col3 {\n",
       "            background-color:  #efedf5;\n",
       "            color:  #000000;\n",
       "        }    #T_f1e7ae5a_399b_11ec_a415_0242ac130202row8_col4 {\n",
       "            background-color:  #edebf4;\n",
       "            color:  #000000;\n",
       "        }    #T_f1e7ae5a_399b_11ec_a415_0242ac130202row9_col0 {\n",
       "            background-color:  #fcfbfd;\n",
       "            color:  #000000;\n",
       "        }    #T_f1e7ae5a_399b_11ec_a415_0242ac130202row9_col1 {\n",
       "            background-color:  #9e9ac8;\n",
       "            color:  #000000;\n",
       "        }    #T_f1e7ae5a_399b_11ec_a415_0242ac130202row9_col2 {\n",
       "            background-color:  #ddddec;\n",
       "            color:  #000000;\n",
       "        }    #T_f1e7ae5a_399b_11ec_a415_0242ac130202row9_col3 {\n",
       "            background-color:  #f8f7fb;\n",
       "            color:  #000000;\n",
       "        }    #T_f1e7ae5a_399b_11ec_a415_0242ac130202row9_col4 {\n",
       "            background-color:  #eeecf5;\n",
       "            color:  #000000;\n",
       "        }</style><table id=\"T_f1e7ae5a_399b_11ec_a415_0242ac130202\" ><thead>    <tr>        <th class=\"blank level0\" ></th>        <th class=\"col_heading level0 col0\" >Engine HP</th>        <th class=\"col_heading level0 col1\" >Engine Cylinders</th>        <th class=\"col_heading level0 col2\" >highway MPG</th>        <th class=\"col_heading level0 col3\" >MSRP</th>        <th class=\"col_heading level0 col4\" >city mpg</th>    </tr>    <tr>        <th class=\"index_name level0\" >Engine Fuel Type</th>        <th class=\"blank\" ></th>        <th class=\"blank\" ></th>        <th class=\"blank\" ></th>        <th class=\"blank\" ></th>        <th class=\"blank\" ></th>    </tr></thead><tbody>\n",
       "                <tr>\n",
       "                        <th id=\"T_f1e7ae5a_399b_11ec_a415_0242ac130202level0_row0\" class=\"row_heading level0 row0\" >flex-fuel (premium unleaded required/E85)</th>\n",
       "                        <td id=\"T_f1e7ae5a_399b_11ec_a415_0242ac130202row0_col0\" class=\"data row0 col0\" >510.000000</td>\n",
       "                        <td id=\"T_f1e7ae5a_399b_11ec_a415_0242ac130202row0_col1\" class=\"data row0 col1\" >8.000000</td>\n",
       "                        <td id=\"T_f1e7ae5a_399b_11ec_a415_0242ac130202row0_col2\" class=\"data row0 col2\" >19.000000</td>\n",
       "                        <td id=\"T_f1e7ae5a_399b_11ec_a415_0242ac130202row0_col3\" class=\"data row0 col3\" >142547.500000</td>\n",
       "                        <td id=\"T_f1e7ae5a_399b_11ec_a415_0242ac130202row0_col4\" class=\"data row0 col4\" >13.000000</td>\n",
       "            </tr>\n",
       "            <tr>\n",
       "                        <th id=\"T_f1e7ae5a_399b_11ec_a415_0242ac130202level0_row1\" class=\"row_heading level0 row1\" >premium unleaded (required)</th>\n",
       "                        <td id=\"T_f1e7ae5a_399b_11ec_a415_0242ac130202row1_col0\" class=\"data row1 col0\" >333.000000</td>\n",
       "                        <td id=\"T_f1e7ae5a_399b_11ec_a415_0242ac130202row1_col1\" class=\"data row1 col1\" >6.000000</td>\n",
       "                        <td id=\"T_f1e7ae5a_399b_11ec_a415_0242ac130202row1_col2\" class=\"data row1 col2\" >24.000000</td>\n",
       "                        <td id=\"T_f1e7ae5a_399b_11ec_a415_0242ac130202row1_col3\" class=\"data row1 col3\" >60300.000000</td>\n",
       "                        <td id=\"T_f1e7ae5a_399b_11ec_a415_0242ac130202row1_col4\" class=\"data row1 col4\" >17.000000</td>\n",
       "            </tr>\n",
       "            <tr>\n",
       "                        <th id=\"T_f1e7ae5a_399b_11ec_a415_0242ac130202level0_row2\" class=\"row_heading level0 row2\" >flex-fuel (unleaded/E85)</th>\n",
       "                        <td id=\"T_f1e7ae5a_399b_11ec_a415_0242ac130202row2_col0\" class=\"data row2 col0\" >285.000000</td>\n",
       "                        <td id=\"T_f1e7ae5a_399b_11ec_a415_0242ac130202row2_col1\" class=\"data row2 col1\" >6.000000</td>\n",
       "                        <td id=\"T_f1e7ae5a_399b_11ec_a415_0242ac130202row2_col2\" class=\"data row2 col2\" >22.000000</td>\n",
       "                        <td id=\"T_f1e7ae5a_399b_11ec_a415_0242ac130202row2_col3\" class=\"data row2 col3\" >34405.000000</td>\n",
       "                        <td id=\"T_f1e7ae5a_399b_11ec_a415_0242ac130202row2_col4\" class=\"data row2 col4\" >17.000000</td>\n",
       "            </tr>\n",
       "            <tr>\n",
       "                        <th id=\"T_f1e7ae5a_399b_11ec_a415_0242ac130202level0_row3\" class=\"row_heading level0 row3\" >flex-fuel (unleaded/natural gas)</th>\n",
       "                        <td id=\"T_f1e7ae5a_399b_11ec_a415_0242ac130202row3_col0\" class=\"data row3 col0\" >250.000000</td>\n",
       "                        <td id=\"T_f1e7ae5a_399b_11ec_a415_0242ac130202row3_col1\" class=\"data row3 col1\" >6.000000</td>\n",
       "                        <td id=\"T_f1e7ae5a_399b_11ec_a415_0242ac130202row3_col2\" class=\"data row3 col2\" >25.000000</td>\n",
       "                        <td id=\"T_f1e7ae5a_399b_11ec_a415_0242ac130202row3_col3\" class=\"data row3 col3\" >39167.500000</td>\n",
       "                        <td id=\"T_f1e7ae5a_399b_11ec_a415_0242ac130202row3_col4\" class=\"data row3 col4\" >17.000000</td>\n",
       "            </tr>\n",
       "            <tr>\n",
       "                        <th id=\"T_f1e7ae5a_399b_11ec_a415_0242ac130202level0_row4\" class=\"row_heading level0 row4\" >premium unleaded (recommended)</th>\n",
       "                        <td id=\"T_f1e7ae5a_399b_11ec_a415_0242ac130202row4_col0\" class=\"data row4 col0\" >248.000000</td>\n",
       "                        <td id=\"T_f1e7ae5a_399b_11ec_a415_0242ac130202row4_col1\" class=\"data row4 col1\" >4.000000</td>\n",
       "                        <td id=\"T_f1e7ae5a_399b_11ec_a415_0242ac130202row4_col2\" class=\"data row4 col2\" >29.000000</td>\n",
       "                        <td id=\"T_f1e7ae5a_399b_11ec_a415_0242ac130202row4_col3\" class=\"data row4 col3\" >36990.000000</td>\n",
       "                        <td id=\"T_f1e7ae5a_399b_11ec_a415_0242ac130202row4_col4\" class=\"data row4 col4\" >21.000000</td>\n",
       "            </tr>\n",
       "            <tr>\n",
       "                        <th id=\"T_f1e7ae5a_399b_11ec_a415_0242ac130202level0_row5\" class=\"row_heading level0 row5\" >flex-fuel (premium unleaded recommended/E85)</th>\n",
       "                        <td id=\"T_f1e7ae5a_399b_11ec_a415_0242ac130202row5_col0\" class=\"data row5 col0\" >220.000000</td>\n",
       "                        <td id=\"T_f1e7ae5a_399b_11ec_a415_0242ac130202row5_col1\" class=\"data row5 col1\" >4.000000</td>\n",
       "                        <td id=\"T_f1e7ae5a_399b_11ec_a415_0242ac130202row5_col2\" class=\"data row5 col2\" >27.500000</td>\n",
       "                        <td id=\"T_f1e7ae5a_399b_11ec_a415_0242ac130202row5_col3\" class=\"data row5 col3\" >44080.000000</td>\n",
       "                        <td id=\"T_f1e7ae5a_399b_11ec_a415_0242ac130202row5_col4\" class=\"data row5 col4\" >18.000000</td>\n",
       "            </tr>\n",
       "            <tr>\n",
       "                        <th id=\"T_f1e7ae5a_399b_11ec_a415_0242ac130202level0_row6\" class=\"row_heading level0 row6\" >regular unleaded</th>\n",
       "                        <td id=\"T_f1e7ae5a_399b_11ec_a415_0242ac130202row6_col0\" class=\"data row6 col0\" >185.000000</td>\n",
       "                        <td id=\"T_f1e7ae5a_399b_11ec_a415_0242ac130202row6_col1\" class=\"data row6 col1\" >6.000000</td>\n",
       "                        <td id=\"T_f1e7ae5a_399b_11ec_a415_0242ac130202row6_col2\" class=\"data row6 col2\" >26.000000</td>\n",
       "                        <td id=\"T_f1e7ae5a_399b_11ec_a415_0242ac130202row6_col3\" class=\"data row6 col3\" >23610.000000</td>\n",
       "                        <td id=\"T_f1e7ae5a_399b_11ec_a415_0242ac130202row6_col4\" class=\"data row6 col4\" >19.000000</td>\n",
       "            </tr>\n",
       "            <tr>\n",
       "                        <th id=\"T_f1e7ae5a_399b_11ec_a415_0242ac130202level0_row7\" class=\"row_heading level0 row7\" >electric</th>\n",
       "                        <td id=\"T_f1e7ae5a_399b_11ec_a415_0242ac130202row7_col0\" class=\"data row7 col0\" >177.000000</td>\n",
       "                        <td id=\"T_f1e7ae5a_399b_11ec_a415_0242ac130202row7_col1\" class=\"data row7 col1\" >0.000000</td>\n",
       "                        <td id=\"T_f1e7ae5a_399b_11ec_a415_0242ac130202row7_col2\" class=\"data row7 col2\" >101.000000</td>\n",
       "                        <td id=\"T_f1e7ae5a_399b_11ec_a415_0242ac130202row7_col3\" class=\"data row7 col3\" >36285.000000</td>\n",
       "                        <td id=\"T_f1e7ae5a_399b_11ec_a415_0242ac130202row7_col4\" class=\"data row7 col4\" >121.000000</td>\n",
       "            </tr>\n",
       "            <tr>\n",
       "                        <th id=\"T_f1e7ae5a_399b_11ec_a415_0242ac130202level0_row8\" class=\"row_heading level0 row8\" >diesel</th>\n",
       "                        <td id=\"T_f1e7ae5a_399b_11ec_a415_0242ac130202row8_col0\" class=\"data row8 col0\" >150.000000</td>\n",
       "                        <td id=\"T_f1e7ae5a_399b_11ec_a415_0242ac130202row8_col1\" class=\"data row8 col1\" >4.000000</td>\n",
       "                        <td id=\"T_f1e7ae5a_399b_11ec_a415_0242ac130202row8_col2\" class=\"data row8 col2\" >39.000000</td>\n",
       "                        <td id=\"T_f1e7ae5a_399b_11ec_a415_0242ac130202row8_col3\" class=\"data row8 col3\" >38785.000000</td>\n",
       "                        <td id=\"T_f1e7ae5a_399b_11ec_a415_0242ac130202row8_col4\" class=\"data row8 col4\" >28.000000</td>\n",
       "            </tr>\n",
       "            <tr>\n",
       "                        <th id=\"T_f1e7ae5a_399b_11ec_a415_0242ac130202level0_row9\" class=\"row_heading level0 row9\" >natural gas</th>\n",
       "                        <td id=\"T_f1e7ae5a_399b_11ec_a415_0242ac130202row9_col0\" class=\"data row9 col0\" >110.000000</td>\n",
       "                        <td id=\"T_f1e7ae5a_399b_11ec_a415_0242ac130202row9_col1\" class=\"data row9 col1\" >4.000000</td>\n",
       "                        <td id=\"T_f1e7ae5a_399b_11ec_a415_0242ac130202row9_col2\" class=\"data row9 col2\" >38.000000</td>\n",
       "                        <td id=\"T_f1e7ae5a_399b_11ec_a415_0242ac130202row9_col3\" class=\"data row9 col3\" >28065.000000</td>\n",
       "                        <td id=\"T_f1e7ae5a_399b_11ec_a415_0242ac130202row9_col4\" class=\"data row9 col4\" >27.000000</td>\n",
       "            </tr>\n",
       "    </tbody></table>"
      ],
      "text/plain": [
       "<pandas.io.formats.style.Styler at 0x7f0ffb8c0850>"
      ]
     },
     "execution_count": 27,
     "metadata": {},
     "output_type": "execute_result"
    }
   ],
   "source": [
    "EFT=car[['Engine Fuel Type',\n",
    "      'Engine HP',\n",
    "      'Engine Cylinders',\n",
    "      'highway MPG',\n",
    "         'MSRP',\n",
    "        'city mpg']].groupby(['Engine Fuel Type']).agg('median').sort_values(by=['Engine HP'],ascending=False)\n",
    "EFT1= EFT.style.background_gradient(cmap='Purples')\n",
    "EFT1\n"
   ]
  },
  {
   "cell_type": "markdown",
   "metadata": {
    "papermill": {
     "duration": 0.066282,
     "end_time": "2021-10-30T16:10:48.427059",
     "exception": false,
     "start_time": "2021-10-30T16:10:48.360777",
     "status": "completed"
    },
    "tags": []
   },
   "source": [
    "Cars with the Engine Fuel Type 'ELECTRIC' have 0 Engine Cylinders since they have an electric motor and don't rely on engine cylinders to  generate power. \n",
    "\n",
    "Moreover, the electric motor is more efficient than internal combustion engines and save a high proportion of the fuel which explains why electric cars have a very high miles per gallon (mpg) value.\n"
   ]
  },
  {
   "cell_type": "markdown",
   "metadata": {
    "papermill": {
     "duration": 0.066526,
     "end_time": "2021-10-30T16:10:48.559813",
     "exception": false,
     "start_time": "2021-10-30T16:10:48.493287",
     "status": "completed"
    },
    "tags": []
   },
   "source": [
    "Recap: \n",
    "\n",
    "* High numbers of Engine Cylinders produce Higher Engine Horsepower.\n",
    "* High Engine Horsepower means a High MSRP and a low MPG value ( example: Chevrolet brand/ Corvette model)\n",
    "* Cars with an Electric Engine fuel type ( electric motors instead of engine cylinders tend to be very fuel economy and have a high mpg values \n",
    "* Cars with : 2 doors - all wheel drive - large size - Automated manual transmission size and Convertible Style mark a high MSRP Values.\n",
    "\n"
   ]
  },
  {
   "cell_type": "markdown",
   "metadata": {
    "papermill": {
     "duration": 0.066657,
     "end_time": "2021-10-30T16:10:48.692622",
     "exception": false,
     "start_time": "2021-10-30T16:10:48.625965",
     "status": "completed"
    },
    "tags": []
   },
   "source": [
    "# 3. Regression\n"
   ]
  },
  {
   "cell_type": "markdown",
   "metadata": {
    "papermill": {
     "duration": 0.068064,
     "end_time": "2021-10-30T16:10:48.827217",
     "exception": false,
     "start_time": "2021-10-30T16:10:48.759153",
     "status": "completed"
    },
    "tags": []
   },
   "source": [
    " > **Categorical Data**"
   ]
  },
  {
   "cell_type": "code",
   "execution_count": 28,
   "metadata": {
    "execution": {
     "iopub.execute_input": "2021-10-30T16:10:48.967697Z",
     "iopub.status.busy": "2021-10-30T16:10:48.966924Z",
     "iopub.status.idle": "2021-10-30T16:10:48.983032Z",
     "shell.execute_reply": "2021-10-30T16:10:48.983515Z",
     "shell.execute_reply.started": "2021-10-30T16:05:38.225479Z"
    },
    "papermill": {
     "duration": 0.088289,
     "end_time": "2021-10-30T16:10:48.983683",
     "exception": false,
     "start_time": "2021-10-30T16:10:48.895394",
     "status": "completed"
    },
    "tags": []
   },
   "outputs": [
    {
     "data": {
      "text/plain": [
       "{'Make': 48,\n",
       " 'Model': 915,\n",
       " 'Engine Fuel Type': 10,\n",
       " 'Transmission Type': 5,\n",
       " 'Driven_Wheels': 4,\n",
       " 'Market Category': 71,\n",
       " 'Vehicle Size': 3,\n",
       " 'Vehicle Style': 16}"
      ]
     },
     "execution_count": 28,
     "metadata": {},
     "output_type": "execute_result"
    }
   ],
   "source": [
    "{column: len(car[column].unique()) for column in car.columns if car.dtypes[column]=='object'}"
   ]
  },
  {
   "cell_type": "markdown",
   "metadata": {
    "papermill": {
     "duration": 0.066279,
     "end_time": "2021-10-30T16:10:49.117367",
     "exception": false,
     "start_time": "2021-10-30T16:10:49.051088",
     "status": "completed"
    },
    "tags": []
   },
   "source": [
    " > **One hot encoding**"
   ]
  },
  {
   "cell_type": "code",
   "execution_count": 29,
   "metadata": {
    "execution": {
     "iopub.execute_input": "2021-10-30T16:10:49.257940Z",
     "iopub.status.busy": "2021-10-30T16:10:49.257325Z",
     "iopub.status.idle": "2021-10-30T16:10:49.263007Z",
     "shell.execute_reply": "2021-10-30T16:10:49.263542Z",
     "shell.execute_reply.started": "2021-10-30T16:05:38.249372Z"
    },
    "papermill": {
     "duration": 0.076457,
     "end_time": "2021-10-30T16:10:49.263701",
     "exception": false,
     "start_time": "2021-10-30T16:10:49.187244",
     "status": "completed"
    },
    "tags": []
   },
   "outputs": [],
   "source": [
    "def onehot_encode(car, columns,prefixes):\n",
    "    car=car.copy()\n",
    "    for columns, prefix in zip(columns,prefixes):\n",
    "        dummies = pd.get_dummies(car[columns],prefix=prefix)\n",
    "        car=pd.concat([car,dummies], axis=1)\n",
    "        car=car.drop(columns,axis=1)\n",
    "        \n",
    "    return car\n",
    "        "
   ]
  },
  {
   "cell_type": "code",
   "execution_count": 30,
   "metadata": {
    "execution": {
     "iopub.execute_input": "2021-10-30T16:10:49.403255Z",
     "iopub.status.busy": "2021-10-30T16:10:49.402165Z",
     "iopub.status.idle": "2021-10-30T16:10:49.710592Z",
     "shell.execute_reply": "2021-10-30T16:10:49.710032Z",
     "shell.execute_reply.started": "2021-10-30T16:05:38.257534Z"
    },
    "papermill": {
     "duration": 0.379732,
     "end_time": "2021-10-30T16:10:49.710719",
     "exception": false,
     "start_time": "2021-10-30T16:10:49.330987",
     "status": "completed"
    },
    "tags": []
   },
   "outputs": [],
   "source": [
    "car=onehot_encode(\n",
    "  car,\n",
    "  ['Make','Model','Engine Fuel Type','Transmission Type','Driven_Wheels','Market Category','Vehicle Size','Vehicle Style'],\n",
    "  ['Make','Model','Fuel','Trans','Wheels','Market','Size','Style']\n",
    ")\n",
    "\n",
    "    "
   ]
  },
  {
   "cell_type": "code",
   "execution_count": 31,
   "metadata": {
    "execution": {
     "iopub.execute_input": "2021-10-30T16:10:49.851634Z",
     "iopub.status.busy": "2021-10-30T16:10:49.851045Z",
     "iopub.status.idle": "2021-10-30T16:10:49.868451Z",
     "shell.execute_reply": "2021-10-30T16:10:49.868949Z",
     "shell.execute_reply.started": "2021-10-30T16:05:38.473429Z"
    },
    "papermill": {
     "duration": 0.090759,
     "end_time": "2021-10-30T16:10:49.869093",
     "exception": false,
     "start_time": "2021-10-30T16:10:49.778334",
     "status": "completed"
    },
    "tags": []
   },
   "outputs": [
    {
     "data": {
      "text/html": [
       "<div>\n",
       "<style scoped>\n",
       "    .dataframe tbody tr th:only-of-type {\n",
       "        vertical-align: middle;\n",
       "    }\n",
       "\n",
       "    .dataframe tbody tr th {\n",
       "        vertical-align: top;\n",
       "    }\n",
       "\n",
       "    .dataframe thead th {\n",
       "        text-align: right;\n",
       "    }\n",
       "</style>\n",
       "<table border=\"1\" class=\"dataframe\">\n",
       "  <thead>\n",
       "    <tr style=\"text-align: right;\">\n",
       "      <th></th>\n",
       "      <th>Year</th>\n",
       "      <th>Engine HP</th>\n",
       "      <th>Engine Cylinders</th>\n",
       "      <th>Number of Doors</th>\n",
       "      <th>highway MPG</th>\n",
       "      <th>city mpg</th>\n",
       "      <th>Popularity</th>\n",
       "      <th>MSRP</th>\n",
       "      <th>Make_Acura</th>\n",
       "      <th>Make_Alfa Romeo</th>\n",
       "      <th>...</th>\n",
       "      <th>Style_Convertible</th>\n",
       "      <th>Style_Convertible SUV</th>\n",
       "      <th>Style_Coupe</th>\n",
       "      <th>Style_Crew Cab Pickup</th>\n",
       "      <th>Style_Extended Cab Pickup</th>\n",
       "      <th>Style_Passenger Minivan</th>\n",
       "      <th>Style_Passenger Van</th>\n",
       "      <th>Style_Regular Cab Pickup</th>\n",
       "      <th>Style_Sedan</th>\n",
       "      <th>Style_Wagon</th>\n",
       "    </tr>\n",
       "  </thead>\n",
       "  <tbody>\n",
       "    <tr>\n",
       "      <th>0</th>\n",
       "      <td>2011</td>\n",
       "      <td>335.0</td>\n",
       "      <td>6.0</td>\n",
       "      <td>2.0</td>\n",
       "      <td>26</td>\n",
       "      <td>19</td>\n",
       "      <td>3916</td>\n",
       "      <td>46135</td>\n",
       "      <td>0</td>\n",
       "      <td>0</td>\n",
       "      <td>...</td>\n",
       "      <td>0</td>\n",
       "      <td>0</td>\n",
       "      <td>1</td>\n",
       "      <td>0</td>\n",
       "      <td>0</td>\n",
       "      <td>0</td>\n",
       "      <td>0</td>\n",
       "      <td>0</td>\n",
       "      <td>0</td>\n",
       "      <td>0</td>\n",
       "    </tr>\n",
       "    <tr>\n",
       "      <th>1</th>\n",
       "      <td>2011</td>\n",
       "      <td>300.0</td>\n",
       "      <td>6.0</td>\n",
       "      <td>2.0</td>\n",
       "      <td>28</td>\n",
       "      <td>19</td>\n",
       "      <td>3916</td>\n",
       "      <td>40650</td>\n",
       "      <td>0</td>\n",
       "      <td>0</td>\n",
       "      <td>...</td>\n",
       "      <td>1</td>\n",
       "      <td>0</td>\n",
       "      <td>0</td>\n",
       "      <td>0</td>\n",
       "      <td>0</td>\n",
       "      <td>0</td>\n",
       "      <td>0</td>\n",
       "      <td>0</td>\n",
       "      <td>0</td>\n",
       "      <td>0</td>\n",
       "    </tr>\n",
       "    <tr>\n",
       "      <th>2</th>\n",
       "      <td>2011</td>\n",
       "      <td>300.0</td>\n",
       "      <td>6.0</td>\n",
       "      <td>2.0</td>\n",
       "      <td>28</td>\n",
       "      <td>20</td>\n",
       "      <td>3916</td>\n",
       "      <td>36350</td>\n",
       "      <td>0</td>\n",
       "      <td>0</td>\n",
       "      <td>...</td>\n",
       "      <td>0</td>\n",
       "      <td>0</td>\n",
       "      <td>1</td>\n",
       "      <td>0</td>\n",
       "      <td>0</td>\n",
       "      <td>0</td>\n",
       "      <td>0</td>\n",
       "      <td>0</td>\n",
       "      <td>0</td>\n",
       "      <td>0</td>\n",
       "    </tr>\n",
       "  </tbody>\n",
       "</table>\n",
       "<p>3 rows × 1080 columns</p>\n",
       "</div>"
      ],
      "text/plain": [
       "   Year  Engine HP  Engine Cylinders  Number of Doors  highway MPG  city mpg  \\\n",
       "0  2011      335.0               6.0              2.0           26        19   \n",
       "1  2011      300.0               6.0              2.0           28        19   \n",
       "2  2011      300.0               6.0              2.0           28        20   \n",
       "\n",
       "   Popularity   MSRP  Make_Acura  Make_Alfa Romeo  ...  Style_Convertible  \\\n",
       "0        3916  46135           0                0  ...                  0   \n",
       "1        3916  40650           0                0  ...                  1   \n",
       "2        3916  36350           0                0  ...                  0   \n",
       "\n",
       "   Style_Convertible SUV  Style_Coupe  Style_Crew Cab Pickup  \\\n",
       "0                      0            1                      0   \n",
       "1                      0            0                      0   \n",
       "2                      0            1                      0   \n",
       "\n",
       "   Style_Extended Cab Pickup  Style_Passenger Minivan  Style_Passenger Van  \\\n",
       "0                          0                        0                    0   \n",
       "1                          0                        0                    0   \n",
       "2                          0                        0                    0   \n",
       "\n",
       "   Style_Regular Cab Pickup  Style_Sedan  Style_Wagon  \n",
       "0                         0            0            0  \n",
       "1                         0            0            0  \n",
       "2                         0            0            0  \n",
       "\n",
       "[3 rows x 1080 columns]"
      ]
     },
     "execution_count": 31,
     "metadata": {},
     "output_type": "execute_result"
    }
   ],
   "source": [
    "car.head(3)"
   ]
  },
  {
   "cell_type": "code",
   "execution_count": 32,
   "metadata": {
    "execution": {
     "iopub.execute_input": "2021-10-30T16:10:50.008484Z",
     "iopub.status.busy": "2021-10-30T16:10:50.007750Z",
     "iopub.status.idle": "2021-10-30T16:10:50.040442Z",
     "shell.execute_reply": "2021-10-30T16:10:50.040913Z",
     "shell.execute_reply.started": "2021-10-30T16:05:38.496679Z"
    },
    "papermill": {
     "duration": 0.104651,
     "end_time": "2021-10-30T16:10:50.041063",
     "exception": false,
     "start_time": "2021-10-30T16:10:49.936412",
     "status": "completed"
    },
    "tags": []
   },
   "outputs": [
    {
     "data": {
      "text/plain": [
       "0"
      ]
     },
     "execution_count": 32,
     "metadata": {},
     "output_type": "execute_result"
    }
   ],
   "source": [
    "car.isna().sum().sum()"
   ]
  },
  {
   "cell_type": "markdown",
   "metadata": {
    "papermill": {
     "duration": 0.066946,
     "end_time": "2021-10-30T16:10:50.175865",
     "exception": false,
     "start_time": "2021-10-30T16:10:50.108919",
     "status": "completed"
    },
    "tags": []
   },
   "source": [
    "> **Scaling and splitting**"
   ]
  },
  {
   "cell_type": "code",
   "execution_count": 33,
   "metadata": {
    "execution": {
     "iopub.execute_input": "2021-10-30T16:10:50.318940Z",
     "iopub.status.busy": "2021-10-30T16:10:50.318268Z",
     "iopub.status.idle": "2021-10-30T16:10:50.320587Z",
     "shell.execute_reply": "2021-10-30T16:10:50.321092Z",
     "shell.execute_reply.started": "2021-10-30T16:05:38.529881Z"
    },
    "papermill": {
     "duration": 0.075743,
     "end_time": "2021-10-30T16:10:50.321268",
     "exception": false,
     "start_time": "2021-10-30T16:10:50.245525",
     "status": "completed"
    },
    "tags": []
   },
   "outputs": [],
   "source": [
    "y=car.loc[:,'MSRP']"
   ]
  },
  {
   "cell_type": "code",
   "execution_count": 34,
   "metadata": {
    "execution": {
     "iopub.execute_input": "2021-10-30T16:10:50.459566Z",
     "iopub.status.busy": "2021-10-30T16:10:50.458867Z",
     "iopub.status.idle": "2021-10-30T16:10:50.475281Z",
     "shell.execute_reply": "2021-10-30T16:10:50.475840Z",
     "shell.execute_reply.started": "2021-10-30T16:05:38.535500Z"
    },
    "papermill": {
     "duration": 0.086924,
     "end_time": "2021-10-30T16:10:50.476002",
     "exception": false,
     "start_time": "2021-10-30T16:10:50.389078",
     "status": "completed"
    },
    "tags": []
   },
   "outputs": [],
   "source": [
    "X=car.drop('MSRP',axis=1)"
   ]
  },
  {
   "cell_type": "code",
   "execution_count": 35,
   "metadata": {
    "execution": {
     "iopub.execute_input": "2021-10-30T16:10:50.621420Z",
     "iopub.status.busy": "2021-10-30T16:10:50.620771Z",
     "iopub.status.idle": "2021-10-30T16:10:51.042073Z",
     "shell.execute_reply": "2021-10-30T16:10:51.042652Z",
     "shell.execute_reply.started": "2021-10-30T16:05:38.555987Z"
    },
    "papermill": {
     "duration": 0.496154,
     "end_time": "2021-10-30T16:10:51.042829",
     "exception": false,
     "start_time": "2021-10-30T16:10:50.546675",
     "status": "completed"
    },
    "tags": []
   },
   "outputs": [],
   "source": [
    "from sklearn.preprocessing import StandardScaler\n",
    "scaler=StandardScaler()\n",
    "X=scaler.fit_transform(X)"
   ]
  },
  {
   "cell_type": "code",
   "execution_count": 36,
   "metadata": {
    "execution": {
     "iopub.execute_input": "2021-10-30T16:10:51.185274Z",
     "iopub.status.busy": "2021-10-30T16:10:51.184593Z",
     "iopub.status.idle": "2021-10-30T16:10:51.403251Z",
     "shell.execute_reply": "2021-10-30T16:10:51.403837Z",
     "shell.execute_reply.started": "2021-10-30T16:05:38.866476Z"
    },
    "papermill": {
     "duration": 0.291025,
     "end_time": "2021-10-30T16:10:51.404022",
     "exception": false,
     "start_time": "2021-10-30T16:10:51.112997",
     "status": "completed"
    },
    "tags": []
   },
   "outputs": [],
   "source": [
    "from sklearn.model_selection import train_test_split\n",
    "X_train,X_test,y_train,y_test=train_test_split(X,y,train_size=0.8,random_state=34)"
   ]
  },
  {
   "cell_type": "markdown",
   "metadata": {
    "papermill": {
     "duration": 0.084591,
     "end_time": "2021-10-30T16:10:51.560233",
     "exception": false,
     "start_time": "2021-10-30T16:10:51.475642",
     "status": "completed"
    },
    "tags": []
   },
   "source": [
    "> **Training: Gradient boosting model.**"
   ]
  },
  {
   "cell_type": "code",
   "execution_count": 37,
   "metadata": {
    "execution": {
     "iopub.execute_input": "2021-10-30T16:10:51.709721Z",
     "iopub.status.busy": "2021-10-30T16:10:51.709039Z",
     "iopub.status.idle": "2021-10-30T16:10:52.883248Z",
     "shell.execute_reply": "2021-10-30T16:10:52.883946Z",
     "shell.execute_reply.started": "2021-10-30T16:05:39.022014Z"
    },
    "papermill": {
     "duration": 1.249976,
     "end_time": "2021-10-30T16:10:52.884135",
     "exception": false,
     "start_time": "2021-10-30T16:10:51.634159",
     "status": "completed"
    },
    "tags": []
   },
   "outputs": [],
   "source": [
    "import lightgbm as lgb\n",
    "lgb_model=lgb.LGBMRegressor(\n",
    "    boosting_type='gbdt',\n",
    "    num_leaves=40,\n",
    "    n_estimators=100,\n",
    "    reg_lambda=1.0\n",
    ")\n",
    "lgb_model.fit(X_train, y_train)\n",
    "lgb_predic=lgb_model.predict(X_test)"
   ]
  },
  {
   "cell_type": "code",
   "execution_count": 38,
   "metadata": {
    "execution": {
     "iopub.execute_input": "2021-10-30T16:10:53.091316Z",
     "iopub.status.busy": "2021-10-30T16:10:53.090442Z",
     "iopub.status.idle": "2021-10-30T16:10:53.113880Z",
     "shell.execute_reply": "2021-10-30T16:10:53.114997Z",
     "shell.execute_reply.started": "2021-10-30T16:05:40.116856Z"
    },
    "papermill": {
     "duration": 0.126918,
     "end_time": "2021-10-30T16:10:53.115204",
     "exception": false,
     "start_time": "2021-10-30T16:10:52.988286",
     "status": "completed"
    },
    "tags": []
   },
   "outputs": [
    {
     "name": "stdout",
     "output_type": "stream",
     "text": [
      "Gradient Boosted R² score: 0.8832816832670429\n"
     ]
    }
   ],
   "source": [
    "print('Gradient Boosted R² score:', lgb_model.score(X_test,y_test))"
   ]
  }
 ],
 "metadata": {
  "kernelspec": {
   "display_name": "Python 3",
   "language": "python",
   "name": "python3"
  },
  "language_info": {
   "codemirror_mode": {
    "name": "ipython",
    "version": 3
   },
   "file_extension": ".py",
   "mimetype": "text/x-python",
   "name": "python",
   "nbconvert_exporter": "python",
   "pygments_lexer": "ipython3",
   "version": "3.7.6"
  },
  "papermill": {
   "duration": 23.774503,
   "end_time": "2021-10-30T16:10:53.332127",
   "environment_variables": {},
   "exception": null,
   "input_path": "__notebook__.ipynb",
   "output_path": "__notebook__.ipynb",
   "parameters": {},
   "start_time": "2021-10-30T16:10:29.557624",
   "version": "2.1.0"
  }
 },
 "nbformat": 4,
 "nbformat_minor": 4
}
